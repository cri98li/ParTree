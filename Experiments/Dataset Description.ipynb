{
 "cells": [
  {
   "cell_type": "code",
   "execution_count": 1,
   "id": "d924714d-e236-4df1-8539-839801632947",
   "metadata": {},
   "outputs": [],
   "source": [
    "import os\n",
    "from glob import glob\n",
    "import psutil\n",
    "import numpy as np\n",
    "import pandas as pd\n",
    "import matplotlib.pyplot as plt\n",
    "from tqdm.auto import tqdm "
   ]
  },
  {
   "cell_type": "code",
   "execution_count": null,
   "id": "f52b51cc-ca14-449a-a7ac-0868e5fac880",
   "metadata": {},
   "outputs": [],
   "source": []
  },
  {
   "cell_type": "code",
   "execution_count": 4,
   "id": "00064e8e-ff74-44b9-8985-8cece7e7b782",
   "metadata": {},
   "outputs": [],
   "source": [
    "DS1 = ['datasets/syntetic/2d-3c-no123_y.zip', 'datasets/syntetic/s-set1_y.zip', 'datasets/syntetic/2d-20c-no0_y.zip', \n",
    "       'datasets/syntetic/triangle2_y.zip', 'datasets/syntetic/triangle1_y.zip', 'datasets/syntetic/cure-t0-2000n-2D_y.zip', \n",
    "       'datasets/syntetic/longsquare_y.zip', 'datasets/syntetic/aggregation_y.zip', 'datasets/syntetic/2d-4c-no9_y.zip', \n",
    "       'datasets/syntetic/2d-d31_y.zip', 'datasets/syntetic/cure-t2-4k_y.zip', 'datasets/syntetic/zelnik6_y.zip',\n",
    "       'datasets/syntetic/2d-10c_y.zip', 'datasets/syntetic/2d-4c_y.zip', 'datasets/syntetic/zelnik5_y.zip', \n",
    "       'datasets/syntetic/cure-t1-2000n-2D_y.zip', 'datasets/syntetic/s-set2_y.zip', 'datasets/syntetic/tetra_y.zip']\n",
    "\n",
    "DS2 = ['datasets/real/compas-scores-two-years_y.zip', 'datasets/real/churn_y.zip', 'datasets/real/fico.zip', \n",
    "       'datasets/real/german_credit_y.zip', 'datasets/real/adult_y.zip',]\n",
    "\n",
    "DS3 = ['datasets/real/iris_y.zip', 'datasets/real/wdbc_y.zip', 'datasets/real/diabetes_y.zip', \n",
    "       'datasets/real/compas-scores-two-years_y.zip', 'datasets/real/churn_y.zip', 'datasets/real/wine.zip',\n",
    "       'datasets/real/vehicle_y.zip', 'datasets/real/fico.zip', 'datasets/real/ionosphere_y.zip','datasets/real/titanic_y.zip', \n",
    "       'datasets/real/home_y.zip', 'datasets/real/bank.zip', 'datasets/real/german_credit_y.zip', 'datasets/real/adult_y.zip',]\n",
    "\n",
    "DS4 = ['datasets/real/iris_y.zip', 'datasets/real/wdbc_y.zip', 'datasets/real/diabetes_y.zip', \n",
    "       'datasets/real/compas-scores-two-years_y.zip', 'datasets/real/churn_y.zip', 'datasets/real/wine.zip',\n",
    "       'datasets/real/vehicle_y.zip', 'datasets/real/fico.zip', 'datasets/real/ionosphere_y.zip','datasets/real/titanic_y.zip', \n",
    "       'datasets/real/home_y.zip', 'datasets/real/bank.zip', 'datasets/real/german_credit_y.zip', 'datasets/real/adult_y.zip',]"
   ]
  },
  {
   "cell_type": "markdown",
   "id": "9aee28fb-53cc-46b5-8694-74ba76f9d592",
   "metadata": {},
   "source": [
    "## DS1"
   ]
  },
  {
   "cell_type": "code",
   "execution_count": 27,
   "id": "2e3cca5d-3502-4012-b109-1e03ec1d22c2",
   "metadata": {},
   "outputs": [
    {
     "name": "stdout",
     "output_type": "stream",
     "text": [
      "#Datasets in DS1: 18\n"
     ]
    },
    {
     "data": {
      "application/vnd.jupyter.widget-view+json": {
       "model_id": "19d1b52760e2496383ed6fcaa8ab908f",
       "version_major": 2,
       "version_minor": 0
      },
      "text/plain": [
       "  0%|          | 0/18 [00:00<?, ?it/s]"
      ]
     },
     "metadata": {},
     "output_type": "display_data"
    }
   ],
   "source": [
    "#value = (min, sum, max, count)\n",
    "\n",
    "print(f\"#Datasets in DS1: {len(DS1)}\")\n",
    "\n",
    "records = (np.inf, 0, 0, 0)\n",
    "features = (np.inf, 0, 0, 0)\n",
    "con_feat = (np.inf, 0, 0, 0)\n",
    "cat_feat = (np.inf, 0, 0, 0)\n",
    "clusters = (np.inf, 0, 0, 0)\n",
    "\n",
    "for dataset in tqdm(DS1):\n",
    "    has_y = \"_y.zip\" in dataset\n",
    "    \n",
    "    df = pd.read_csv(dataset)\n",
    "    n_record = len(df)\n",
    "\n",
    "    if has_y:\n",
    "        df_class = df[df.columns[-1]]\n",
    "        df = df.drop(columns=df.columns[-1])\n",
    "        n_cluster = len(df_class.unique())\n",
    "    \n",
    "    n_feat = len(df.columns)\n",
    "    n_con = len(df.dtypes[df.dtypes != object])\n",
    "    n_cat = len(df.dtypes[df.dtypes == object])\n",
    "    \n",
    "    records = (\n",
    "        n_record if n_record < records[0] else records[0],\n",
    "        records[1] + n_record,\n",
    "        n_record if n_record > records[2] else records[2],\n",
    "        records[3] + 1\n",
    "    )\n",
    "    \n",
    "    features = (\n",
    "        n_feat if n_feat < features[0] else features[0],\n",
    "        features[1] + n_feat,\n",
    "        n_feat if n_feat > features[2] else features[2],\n",
    "        features[3] + 1\n",
    "    )\n",
    "    \n",
    "    con_feat = (\n",
    "        n_con if n_con < con_feat[0] else con_feat[0],\n",
    "        con_feat[1] + n_con,\n",
    "        n_con if n_con > con_feat[2] else con_feat[2],\n",
    "        con_feat[3] + 1\n",
    "    )\n",
    "    \n",
    "    cat_feat = (\n",
    "        n_cat if n_cat < cat_feat[0] else cat_feat[0],\n",
    "        cat_feat[1] + n_cat,\n",
    "        n_cat if n_cat > cat_feat[2] else cat_feat[2],\n",
    "        cat_feat[3] + 1\n",
    "    )\n",
    "    \n",
    "    if has_y:\n",
    "        clusters = (\n",
    "            n_cluster if n_cluster < clusters[0] else clusters[0],\n",
    "            clusters[1] + n_cluster,\n",
    "            n_cluster if n_cluster > clusters[2] else clusters[2],\n",
    "            clusters[3] + 1\n",
    "        )"
   ]
  },
  {
   "cell_type": "code",
   "execution_count": 28,
   "id": "e5e2e9ec-3cf5-4262-a6a8-df475003aa77",
   "metadata": {},
   "outputs": [
    {
     "name": "stdout",
     "output_type": "stream",
     "text": [
      "records min=238, avg=1860.9444444444443, max=5000, count=18\n",
      "features min=2, avg=2.0555555555555554, max=3, count=18\n",
      "con_feat min=2, avg=2.0555555555555554, max=3, count=18\n",
      "cat_feat min=0, avg=0.0, max=0, count=18\n",
      "clusters min=3, avg=8.277777777777779, max=31, count=18\n"
     ]
    }
   ],
   "source": [
    "print(f\"records min={records[0]}, avg={records[1]/records[3]}, max={records[2]}, count={records[3]}\")\n",
    "print(f\"features min={features[0]}, avg={features[1]/features[3]}, max={features[2]}, count={features[3]}\")\n",
    "print(f\"con_feat min={con_feat[0]}, avg={con_feat[1]/con_feat[3]}, max={con_feat[2]}, count={con_feat[3]}\")\n",
    "print(f\"cat_feat min={cat_feat[0]}, avg={cat_feat[1]/cat_feat[3]}, max={cat_feat[2]}, count={cat_feat[3]}\")\n",
    "print(f\"clusters min={clusters[0]}, avg={clusters[1]/clusters[3]}, max={clusters[2]}, count={clusters[3]}\")"
   ]
  },
  {
   "cell_type": "code",
   "execution_count": null,
   "id": "0e7ef6be-74e8-4677-b9c8-4dde7172d815",
   "metadata": {},
   "outputs": [],
   "source": []
  },
  {
   "cell_type": "markdown",
   "id": "017f0140-e095-4971-a9af-2e4de5e7b43a",
   "metadata": {},
   "source": [
    "## DS2"
   ]
  },
  {
   "cell_type": "code",
   "execution_count": 30,
   "id": "5618307e-a443-41f8-bc30-5186b2955c3c",
   "metadata": {},
   "outputs": [
    {
     "name": "stdout",
     "output_type": "stream",
     "text": [
      "#Datasets in DS2: 5\n"
     ]
    },
    {
     "data": {
      "application/vnd.jupyter.widget-view+json": {
       "model_id": "5cf14cf9c48c4520b64cba7c49353947",
       "version_major": 2,
       "version_minor": 0
      },
      "text/plain": [
       "  0%|          | 0/5 [00:00<?, ?it/s]"
      ]
     },
     "metadata": {},
     "output_type": "display_data"
    }
   ],
   "source": [
    "#value = (min, sum, max, count)\n",
    "\n",
    "print(f\"#Datasets in DS2: {len(DS2)}\")\n",
    "\n",
    "records = (np.inf, 0, 0, 0)\n",
    "features = (np.inf, 0, 0, 0)\n",
    "con_feat = (np.inf, 0, 0, 0)\n",
    "cat_feat = (np.inf, 0, 0, 0)\n",
    "clusters = (np.inf, 0, 0, 0)\n",
    "\n",
    "for dataset in tqdm(DS2):\n",
    "    has_y = \"_y.zip\" in dataset\n",
    "    \n",
    "    df = pd.read_csv(dataset)\n",
    "    n_record = len(df)\n",
    "\n",
    "    if has_y:\n",
    "        df_class = df[df.columns[-1]]\n",
    "        df = df.drop(columns=df.columns[-1])\n",
    "        n_cluster = len(df_class.unique())\n",
    "    \n",
    "    n_feat = len(df.columns)\n",
    "    n_con = len(df.dtypes[df.dtypes != object])\n",
    "    n_cat = len(df.dtypes[df.dtypes == object])\n",
    "    \n",
    "    records = (\n",
    "        n_record if n_record < records[0] else records[0],\n",
    "        records[1] + n_record,\n",
    "        n_record if n_record > records[2] else records[2],\n",
    "        records[3] + 1\n",
    "    )\n",
    "    \n",
    "    features = (\n",
    "        n_feat if n_feat < features[0] else features[0],\n",
    "        features[1] + n_feat,\n",
    "        n_feat if n_feat > features[2] else features[2],\n",
    "        features[3] + 1\n",
    "    )\n",
    "    \n",
    "    con_feat = (\n",
    "        n_con if n_con < con_feat[0] else con_feat[0],\n",
    "        con_feat[1] + n_con,\n",
    "        n_con if n_con > con_feat[2] else con_feat[2],\n",
    "        con_feat[3] + 1\n",
    "    )\n",
    "    \n",
    "    cat_feat = (\n",
    "        n_cat if n_cat < cat_feat[0] else cat_feat[0],\n",
    "        cat_feat[1] + n_cat,\n",
    "        n_cat if n_cat > cat_feat[2] else cat_feat[2],\n",
    "        cat_feat[3] + 1\n",
    "    )\n",
    "    \n",
    "    if has_y:\n",
    "        clusters = (\n",
    "            n_cluster if n_cluster < clusters[0] else clusters[0],\n",
    "            clusters[1] + n_cluster,\n",
    "            n_cluster if n_cluster > clusters[2] else clusters[2],\n",
    "            clusters[3] + 1\n",
    "        )"
   ]
  },
  {
   "cell_type": "code",
   "execution_count": 31,
   "id": "81ea0473-785c-406f-8c75-45dc16fcaa51",
   "metadata": {},
   "outputs": [
    {
     "name": "stdout",
     "output_type": "stream",
     "text": [
      "records min=1000, avg=10913.4, max=32561, count=5\n",
      "features min=14, avg=24.2, max=44, count=5\n",
      "con_feat min=6, avg=16.8, max=32, count=5\n",
      "cat_feat min=1, avg=7.4, max=13, count=5\n",
      "clusters min=2, avg=2.0, max=2, count=4\n"
     ]
    }
   ],
   "source": [
    "print(f\"records min={records[0]}, avg={records[1]/records[3]}, max={records[2]}, count={records[3]}\")\n",
    "print(f\"features min={features[0]}, avg={features[1]/features[3]}, max={features[2]}, count={features[3]}\")\n",
    "print(f\"con_feat min={con_feat[0]}, avg={con_feat[1]/con_feat[3]}, max={con_feat[2]}, count={con_feat[3]}\")\n",
    "print(f\"cat_feat min={cat_feat[0]}, avg={cat_feat[1]/cat_feat[3]}, max={cat_feat[2]}, count={cat_feat[3]}\")\n",
    "print(f\"clusters min={clusters[0]}, avg={clusters[1]/clusters[3]}, max={clusters[2]}, count={clusters[3]}\")"
   ]
  },
  {
   "cell_type": "code",
   "execution_count": null,
   "id": "a96b4994-f32a-40df-8214-3ebb808037e3",
   "metadata": {},
   "outputs": [],
   "source": []
  },
  {
   "cell_type": "markdown",
   "id": "d0d72013-770f-47b7-a717-8efccc0427e3",
   "metadata": {},
   "source": [
    "## DS3"
   ]
  },
  {
   "cell_type": "code",
   "execution_count": 32,
   "id": "f798d7ed-76d5-44ba-be98-4176796787e4",
   "metadata": {},
   "outputs": [
    {
     "name": "stdout",
     "output_type": "stream",
     "text": [
      "#Datasets in DS3: 14\n"
     ]
    },
    {
     "data": {
      "application/vnd.jupyter.widget-view+json": {
       "model_id": "93d4a762dca041179cc5c313bbcacc36",
       "version_major": 2,
       "version_minor": 0
      },
      "text/plain": [
       "  0%|          | 0/14 [00:00<?, ?it/s]"
      ]
     },
     "metadata": {},
     "output_type": "display_data"
    }
   ],
   "source": [
    "#value = (min, sum, max, count)\n",
    "\n",
    "print(f\"#Datasets in DS3: {len(DS3)}\")\n",
    "\n",
    "records = (np.inf, 0, 0, 0)\n",
    "features = (np.inf, 0, 0, 0)\n",
    "con_feat = (np.inf, 0, 0, 0)\n",
    "cat_feat = (np.inf, 0, 0, 0)\n",
    "clusters = (np.inf, 0, 0, 0)\n",
    "\n",
    "for dataset in tqdm(DS3):\n",
    "    has_y = \"_y.zip\" in dataset\n",
    "    \n",
    "    df = pd.read_csv(dataset)\n",
    "    n_record = len(df)\n",
    "\n",
    "    if has_y:\n",
    "        df_class = df[df.columns[-1]]\n",
    "        df = df.drop(columns=df.columns[-1])\n",
    "        n_cluster = len(df_class.unique())\n",
    "    \n",
    "    n_feat = len(df.columns)\n",
    "    n_con = len(df.dtypes[df.dtypes != object])\n",
    "    n_cat = len(df.dtypes[df.dtypes == object])\n",
    "    \n",
    "    records = (\n",
    "        n_record if n_record < records[0] else records[0],\n",
    "        records[1] + n_record,\n",
    "        n_record if n_record > records[2] else records[2],\n",
    "        records[3] + 1\n",
    "    )\n",
    "    \n",
    "    features = (\n",
    "        n_feat if n_feat < features[0] else features[0],\n",
    "        features[1] + n_feat,\n",
    "        n_feat if n_feat > features[2] else features[2],\n",
    "        features[3] + 1\n",
    "    )\n",
    "    \n",
    "    con_feat = (\n",
    "        n_con if n_con < con_feat[0] else con_feat[0],\n",
    "        con_feat[1] + n_con,\n",
    "        n_con if n_con > con_feat[2] else con_feat[2],\n",
    "        con_feat[3] + 1\n",
    "    )\n",
    "    \n",
    "    cat_feat = (\n",
    "        n_cat if n_cat < cat_feat[0] else cat_feat[0],\n",
    "        cat_feat[1] + n_cat,\n",
    "        n_cat if n_cat > cat_feat[2] else cat_feat[2],\n",
    "        cat_feat[3] + 1\n",
    "    )\n",
    "    \n",
    "    if has_y:\n",
    "        clusters = (\n",
    "            n_cluster if n_cluster < clusters[0] else clusters[0],\n",
    "            clusters[1] + n_cluster,\n",
    "            n_cluster if n_cluster > clusters[2] else clusters[2],\n",
    "            clusters[3] + 1\n",
    "        )"
   ]
  },
  {
   "cell_type": "code",
   "execution_count": 33,
   "id": "665a2398-9c7e-4c89-8fd7-d7955ea764d4",
   "metadata": {},
   "outputs": [
    {
     "name": "stdout",
     "output_type": "stream",
     "text": [
      "records min=150, avg=15366.5, max=150000, count=14\n",
      "features min=4, avg=18.214285714285715, max=44, count=14\n",
      "con_feat min=4, avg=15.214285714285714, max=34, count=14\n",
      "cat_feat min=0, avg=3.0, max=13, count=14\n",
      "clusters min=2, avg=2.272727272727273, max=4, count=11\n"
     ]
    }
   ],
   "source": [
    "print(f\"records min={records[0]}, avg={records[1]/records[3]}, max={records[2]}, count={records[3]}\")\n",
    "print(f\"features min={features[0]}, avg={features[1]/features[3]}, max={features[2]}, count={features[3]}\")\n",
    "print(f\"con_feat min={con_feat[0]}, avg={con_feat[1]/con_feat[3]}, max={con_feat[2]}, count={con_feat[3]}\")\n",
    "print(f\"cat_feat min={cat_feat[0]}, avg={cat_feat[1]/cat_feat[3]}, max={cat_feat[2]}, count={cat_feat[3]}\")\n",
    "print(f\"clusters min={clusters[0]}, avg={clusters[1]/clusters[3]}, max={clusters[2]}, count={clusters[3]}\")"
   ]
  },
  {
   "cell_type": "code",
   "execution_count": null,
   "id": "c2f82e48-97e8-46ad-9537-496f4ef4ceca",
   "metadata": {},
   "outputs": [],
   "source": []
  }
 ],
 "metadata": {
  "kernelspec": {
   "display_name": "Python 3 (ipykernel)",
   "language": "python",
   "name": "python3"
  },
  "language_info": {
   "codemirror_mode": {
    "name": "ipython",
    "version": 3
   },
   "file_extension": ".py",
   "mimetype": "text/x-python",
   "name": "python",
   "nbconvert_exporter": "python",
   "pygments_lexer": "ipython3",
   "version": "3.9.16"
  }
 },
 "nbformat": 4,
 "nbformat_minor": 5
}
