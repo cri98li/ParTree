{
 "cells": [
  {
   "cell_type": "code",
   "execution_count": 1,
   "metadata": {
    "collapsed": true
   },
   "outputs": [
    {
     "name": "stdout",
     "output_type": "stream",
     "text": [
      "Collecting arff\n",
      "  Downloading arff-0.9.tar.gz (4.7 kB)\n",
      "  Preparing metadata (setup.py): started\n",
      "  Preparing metadata (setup.py): finished with status 'done'\n",
      "Building wheels for collected packages: arff\n",
      "  Building wheel for arff (setup.py): started\n",
      "  Building wheel for arff (setup.py): finished with status 'done'\n",
      "  Created wheel for arff: filename=arff-0.9-py3-none-any.whl size=4949 sha256=f5eaca16b9f3c8bcb1943b3433394701026f010ba5cdf6a06759278c8263fd16\n",
      "  Stored in directory: c:\\users\\cri98\\appdata\\local\\pip\\cache\\wheels\\af\\3f\\c2\\9a1a26fd45d8658782cfb94369e2656feef3d2006bc5163142\n",
      "Successfully built arff\n",
      "Installing collected packages: arff\n",
      "Successfully installed arff-0.9\n"
     ]
    }
   ],
   "source": [
    "!pip install arff"
   ]
  },
  {
   "cell_type": "code",
   "execution_count": 1,
   "outputs": [],
   "source": [
    "import pandas as pd\n",
    "import numpy as np\n",
    "import arff\n",
    "from tqdm.auto import tqdm\n",
    "from glob import glob\n",
    "import os"
   ],
   "metadata": {
    "collapsed": false
   }
  },
  {
   "cell_type": "code",
   "execution_count": 2,
   "outputs": [
    {
     "data": {
      "text/plain": "32"
     },
     "execution_count": 2,
     "metadata": {},
     "output_type": "execute_result"
    }
   ],
   "source": [
    "datasets = [y for x in os.walk(\"../.\") for y in glob(os.path.join(x[0], '*.zip'))]\n",
    "\n",
    "len(datasets)"
   ],
   "metadata": {
    "collapsed": false
   }
  },
  {
   "cell_type": "code",
   "execution_count": 9,
   "outputs": [
    {
     "data": {
      "text/plain": "  0%|          | 0/32 [00:00<?, ?it/s]",
      "application/vnd.jupyter.widget-view+json": {
       "version_major": 2,
       "version_minor": 0,
       "model_id": "4ce9a026034841a0803c9721a2b3322f"
      }
     },
     "metadata": {},
     "output_type": "display_data"
    }
   ],
   "source": [
    "for dataset in tqdm(datasets):\n",
    "    df = pd.read_csv(dataset)\n",
    "\n",
    "    if \"_y.\" in dataset:\n",
    "        df[[df.columns[-1]]] = df[[df.columns[-1]]].astype(str)\n",
    "        df[[df.columns[-1]]].to_csv(dataset[3:].replace(\".zip\", \".csv\"))\n",
    "\n",
    "    classes = \"\\r\\n@attribute class {\"\n",
    "    for value in df[df.columns[-1]].unique():\n",
    "        classes+= f\"'{value}',\"\n",
    "\n",
    "    #df.drop(columns=df.columns[-1], inplace=True)\n",
    "\n",
    "    arff.dump(dataset[3:].replace(\".zip\", \".arff\"), df.values, relation=\"none\", names=df.columns)\n",
    "\n",
    "    file = open(dataset[3:].replace(\".zip\", \".arff\"), 'a')\n",
    "\n",
    "    file.write(classes[:-1]+\"}\")"
   ],
   "metadata": {
    "collapsed": false
   }
  },
  {
   "cell_type": "code",
   "execution_count": 3,
   "outputs": [],
   "source": [],
   "metadata": {
    "collapsed": false
   }
  },
  {
   "cell_type": "code",
   "execution_count": null,
   "outputs": [],
   "source": [],
   "metadata": {
    "collapsed": false
   }
  },
  {
   "cell_type": "code",
   "execution_count": 7,
   "outputs": [
    {
     "data": {
      "text/plain": "'\\\\real\\\\adult_y.zip'"
     },
     "execution_count": 7,
     "metadata": {},
     "output_type": "execute_result"
    }
   ],
   "source": [
    "datasets[0][4:]"
   ],
   "metadata": {
    "collapsed": false
   }
  },
  {
   "cell_type": "code",
   "execution_count": null,
   "outputs": [],
   "source": [],
   "metadata": {
    "collapsed": false
   }
  }
 ],
 "metadata": {
  "kernelspec": {
   "display_name": "Python 3",
   "language": "python",
   "name": "python3"
  },
  "language_info": {
   "codemirror_mode": {
    "name": "ipython",
    "version": 2
   },
   "file_extension": ".py",
   "mimetype": "text/x-python",
   "name": "python",
   "nbconvert_exporter": "python",
   "pygments_lexer": "ipython2",
   "version": "2.7.6"
  }
 },
 "nbformat": 4,
 "nbformat_minor": 0
}
