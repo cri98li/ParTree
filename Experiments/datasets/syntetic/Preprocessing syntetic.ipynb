{
 "cells": [
  {
   "cell_type": "code",
   "execution_count": 6,
   "id": "00190fc0",
   "metadata": {
    "tags": []
   },
   "outputs": [],
   "source": [
    "import pandas as pd\n",
    "import os \n",
    "from glob import glob\n",
    "import numpy as np"
   ]
  },
  {
   "cell_type": "code",
   "execution_count": 8,
   "id": "4ddcbda6",
   "metadata": {
    "tags": []
   },
   "outputs": [
    {
     "data": {
      "text/plain": [
       "['.\\\\2d-10c_y.zip',\n",
       " '.\\\\2d-20c-no0_y.zip',\n",
       " '.\\\\2d-3c-no123_y.zip',\n",
       " '.\\\\2d-4c-no9_y.zip',\n",
       " '.\\\\2d-4c_y.zip',\n",
       " '.\\\\2d-d31_y.zip',\n",
       " '.\\\\aggregation_y.zip',\n",
       " '.\\\\cure-t0-2000n-2D_y.zip',\n",
       " '.\\\\cure-t1-2000n-2D_y.zip',\n",
       " '.\\\\cure-t2-4k_y.zip',\n",
       " '.\\\\longsquare_y.zip',\n",
       " '.\\\\s-set1_y.zip',\n",
       " '.\\\\s-set2_y.zip',\n",
       " '.\\\\tetra_y.zip',\n",
       " '.\\\\triangle1_y.zip',\n",
       " '.\\\\triangle2_y.zip',\n",
       " '.\\\\zelnik5_y.zip',\n",
       " '.\\\\zelnik6_y.zip']"
      ]
     },
     "execution_count": 8,
     "metadata": {},
     "output_type": "execute_result"
    }
   ],
   "source": [
    "datasets = [y for x in os.walk(\".\") for y in glob(os.path.join(x[0], '*.zip'))] + [y for x in os.walk(\".\") for y in glob(os.path.join(x[0], '*.txt'))]\n",
    "datasets"
   ]
  },
  {
   "cell_type": "markdown",
   "id": "ad47928f",
   "metadata": {},
   "source": [
    "# 2d-10c"
   ]
  },
  {
   "cell_type": "code",
   "execution_count": 28,
   "id": "9e3c2b38",
   "metadata": {
    "tags": []
   },
   "outputs": [
    {
     "name": "stdout",
     "output_type": "stream",
     "text": [
      ".\\2d-10c_y.zip\n"
     ]
    },
    {
     "data": {
      "text/html": [
       "<div>\n",
       "<style scoped>\n",
       "    .dataframe tbody tr th:only-of-type {\n",
       "        vertical-align: middle;\n",
       "    }\n",
       "\n",
       "    .dataframe tbody tr th {\n",
       "        vertical-align: top;\n",
       "    }\n",
       "\n",
       "    .dataframe thead th {\n",
       "        text-align: right;\n",
       "    }\n",
       "</style>\n",
       "<table border=\"1\" class=\"dataframe\">\n",
       "  <thead>\n",
       "    <tr style=\"text-align: right;\">\n",
       "      <th></th>\n",
       "      <th>0</th>\n",
       "      <th>1</th>\n",
       "      <th>2</th>\n",
       "    </tr>\n",
       "  </thead>\n",
       "  <tbody>\n",
       "    <tr>\n",
       "      <th>0</th>\n",
       "      <td>1.000070</td>\n",
       "      <td>40.9378</td>\n",
       "      <td>0</td>\n",
       "    </tr>\n",
       "    <tr>\n",
       "      <th>1</th>\n",
       "      <td>0.997360</td>\n",
       "      <td>41.1714</td>\n",
       "      <td>0</td>\n",
       "    </tr>\n",
       "    <tr>\n",
       "      <th>2</th>\n",
       "      <td>0.134799</td>\n",
       "      <td>41.8113</td>\n",
       "      <td>0</td>\n",
       "    </tr>\n",
       "    <tr>\n",
       "      <th>3</th>\n",
       "      <td>2.475850</td>\n",
       "      <td>41.6346</td>\n",
       "      <td>0</td>\n",
       "    </tr>\n",
       "    <tr>\n",
       "      <th>4</th>\n",
       "      <td>-3.058700</td>\n",
       "      <td>41.3887</td>\n",
       "      <td>0</td>\n",
       "    </tr>\n",
       "    <tr>\n",
       "      <th>...</th>\n",
       "      <td>...</td>\n",
       "      <td>...</td>\n",
       "      <td>...</td>\n",
       "    </tr>\n",
       "    <tr>\n",
       "      <th>2985</th>\n",
       "      <td>98.255900</td>\n",
       "      <td>68.0158</td>\n",
       "      <td>9</td>\n",
       "    </tr>\n",
       "    <tr>\n",
       "      <th>2986</th>\n",
       "      <td>96.500700</td>\n",
       "      <td>67.9212</td>\n",
       "      <td>9</td>\n",
       "    </tr>\n",
       "    <tr>\n",
       "      <th>2987</th>\n",
       "      <td>96.885200</td>\n",
       "      <td>68.1787</td>\n",
       "      <td>9</td>\n",
       "    </tr>\n",
       "    <tr>\n",
       "      <th>2988</th>\n",
       "      <td>96.834000</td>\n",
       "      <td>67.9841</td>\n",
       "      <td>9</td>\n",
       "    </tr>\n",
       "    <tr>\n",
       "      <th>2989</th>\n",
       "      <td>98.433500</td>\n",
       "      <td>68.2043</td>\n",
       "      <td>9</td>\n",
       "    </tr>\n",
       "  </tbody>\n",
       "</table>\n",
       "<p>2990 rows × 3 columns</p>\n",
       "</div>"
      ],
      "text/plain": [
       "              0        1  2\n",
       "0      1.000070  40.9378  0\n",
       "1      0.997360  41.1714  0\n",
       "2      0.134799  41.8113  0\n",
       "3      2.475850  41.6346  0\n",
       "4     -3.058700  41.3887  0\n",
       "...         ...      ... ..\n",
       "2985  98.255900  68.0158  9\n",
       "2986  96.500700  67.9212  9\n",
       "2987  96.885200  68.1787  9\n",
       "2988  96.834000  67.9841  9\n",
       "2989  98.433500  68.2043  9\n",
       "\n",
       "[2990 rows x 3 columns]"
      ]
     },
     "execution_count": 28,
     "metadata": {},
     "output_type": "execute_result"
    }
   ],
   "source": [
    "index = 0\n",
    "df = pd.read_csv(datasets[index])\n",
    "print(datasets[index])\n",
    "df"
   ]
  },
  {
   "cell_type": "code",
   "execution_count": 29,
   "id": "2cca7421-3dff-43cd-aa8c-e1ed1081ba72",
   "metadata": {
    "tags": []
   },
   "outputs": [
    {
     "data": {
      "text/plain": [
       "9"
      ]
     },
     "execution_count": 29,
     "metadata": {},
     "output_type": "execute_result"
    }
   ],
   "source": [
    "len(df[df.columns[-1]].unique())"
   ]
  },
  {
   "cell_type": "code",
   "execution_count": 4,
   "id": "ed3cd85d",
   "metadata": {
    "tags": []
   },
   "outputs": [],
   "source": [
    "df.to_csv(datasets[index].replace(\".csv\", \"_y.zip\"), index=False)\n",
    "os.remove(datasets[index])"
   ]
  },
  {
   "cell_type": "markdown",
   "id": "aa562d51",
   "metadata": {},
   "source": [
    "# 2d-20c-no0"
   ]
  },
  {
   "cell_type": "code",
   "execution_count": 14,
   "id": "bf9f6f0f",
   "metadata": {
    "tags": []
   },
   "outputs": [
    {
     "name": "stdout",
     "output_type": "stream",
     "text": [
      ".\\2d-20c-no0_y.zip\n"
     ]
    },
    {
     "data": {
      "text/html": [
       "<div>\n",
       "<style scoped>\n",
       "    .dataframe tbody tr th:only-of-type {\n",
       "        vertical-align: middle;\n",
       "    }\n",
       "\n",
       "    .dataframe tbody tr th {\n",
       "        vertical-align: top;\n",
       "    }\n",
       "\n",
       "    .dataframe thead th {\n",
       "        text-align: right;\n",
       "    }\n",
       "</style>\n",
       "<table border=\"1\" class=\"dataframe\">\n",
       "  <thead>\n",
       "    <tr style=\"text-align: right;\">\n",
       "      <th></th>\n",
       "      <th>0</th>\n",
       "      <th>1</th>\n",
       "      <th>2</th>\n",
       "    </tr>\n",
       "  </thead>\n",
       "  <tbody>\n",
       "    <tr>\n",
       "      <th>0</th>\n",
       "      <td>0.00000</td>\n",
       "      <td>1.00000</td>\n",
       "      <td>2</td>\n",
       "    </tr>\n",
       "    <tr>\n",
       "      <th>1</th>\n",
       "      <td>-8.69493</td>\n",
       "      <td>-4.08204</td>\n",
       "      <td>0</td>\n",
       "    </tr>\n",
       "    <tr>\n",
       "      <th>2</th>\n",
       "      <td>-8.64040</td>\n",
       "      <td>-3.85833</td>\n",
       "      <td>0</td>\n",
       "    </tr>\n",
       "    <tr>\n",
       "      <th>3</th>\n",
       "      <td>-7.70667</td>\n",
       "      <td>-1.47470</td>\n",
       "      <td>0</td>\n",
       "    </tr>\n",
       "    <tr>\n",
       "      <th>4</th>\n",
       "      <td>-8.81293</td>\n",
       "      <td>-3.27131</td>\n",
       "      <td>0</td>\n",
       "    </tr>\n",
       "    <tr>\n",
       "      <th>...</th>\n",
       "      <td>...</td>\n",
       "      <td>...</td>\n",
       "      <td>...</td>\n",
       "    </tr>\n",
       "    <tr>\n",
       "      <th>1513</th>\n",
       "      <td>4.78726</td>\n",
       "      <td>-4.22248</td>\n",
       "      <td>19</td>\n",
       "    </tr>\n",
       "    <tr>\n",
       "      <th>1514</th>\n",
       "      <td>4.32879</td>\n",
       "      <td>-4.88913</td>\n",
       "      <td>19</td>\n",
       "    </tr>\n",
       "    <tr>\n",
       "      <th>1515</th>\n",
       "      <td>4.11444</td>\n",
       "      <td>-5.10346</td>\n",
       "      <td>19</td>\n",
       "    </tr>\n",
       "    <tr>\n",
       "      <th>1516</th>\n",
       "      <td>4.97326</td>\n",
       "      <td>-4.14835</td>\n",
       "      <td>19</td>\n",
       "    </tr>\n",
       "    <tr>\n",
       "      <th>1517</th>\n",
       "      <td>4.10097</td>\n",
       "      <td>-4.97524</td>\n",
       "      <td>19</td>\n",
       "    </tr>\n",
       "  </tbody>\n",
       "</table>\n",
       "<p>1518 rows × 3 columns</p>\n",
       "</div>"
      ],
      "text/plain": [
       "            0        1   2\n",
       "0     0.00000  1.00000   2\n",
       "1    -8.69493 -4.08204   0\n",
       "2    -8.64040 -3.85833   0\n",
       "3    -7.70667 -1.47470   0\n",
       "4    -8.81293 -3.27131   0\n",
       "...       ...      ...  ..\n",
       "1513  4.78726 -4.22248  19\n",
       "1514  4.32879 -4.88913  19\n",
       "1515  4.11444 -5.10346  19\n",
       "1516  4.97326 -4.14835  19\n",
       "1517  4.10097 -4.97524  19\n",
       "\n",
       "[1518 rows x 3 columns]"
      ]
     },
     "execution_count": 14,
     "metadata": {},
     "output_type": "execute_result"
    }
   ],
   "source": [
    "index = 1\n",
    "df = pd.read_csv(datasets[index], header=None)\n",
    "print(datasets[index])\n",
    "df"
   ]
  },
  {
   "cell_type": "code",
   "execution_count": 12,
   "id": "e6c8c3c0-b7fd-4fff-9f4f-34fbadfaac0d",
   "metadata": {
    "tags": []
   },
   "outputs": [
    {
     "data": {
      "text/plain": [
       "20"
      ]
     },
     "execution_count": 12,
     "metadata": {},
     "output_type": "execute_result"
    }
   ],
   "source": [
    "len(df[df.columns[-1]].unique())"
   ]
  },
  {
   "cell_type": "code",
   "execution_count": 5,
   "id": "36082e80",
   "metadata": {},
   "outputs": [],
   "source": [
    "df.to_csv(datasets[index].replace(\".csv\", \"_y.zip\"), index=False)\n",
    "os.remove(datasets[index])"
   ]
  },
  {
   "cell_type": "markdown",
   "id": "0de8903a",
   "metadata": {},
   "source": [
    "# 2d-3c-no123"
   ]
  },
  {
   "cell_type": "code",
   "execution_count": 17,
   "id": "e9cc641f",
   "metadata": {
    "tags": []
   },
   "outputs": [
    {
     "name": "stdout",
     "output_type": "stream",
     "text": [
      ".\\2d-3c-no123_y.zip\n"
     ]
    },
    {
     "data": {
      "text/html": [
       "<div>\n",
       "<style scoped>\n",
       "    .dataframe tbody tr th:only-of-type {\n",
       "        vertical-align: middle;\n",
       "    }\n",
       "\n",
       "    .dataframe tbody tr th {\n",
       "        vertical-align: top;\n",
       "    }\n",
       "\n",
       "    .dataframe thead th {\n",
       "        text-align: right;\n",
       "    }\n",
       "</style>\n",
       "<table border=\"1\" class=\"dataframe\">\n",
       "  <thead>\n",
       "    <tr style=\"text-align: right;\">\n",
       "      <th></th>\n",
       "      <th>0</th>\n",
       "      <th>1</th>\n",
       "      <th>2</th>\n",
       "    </tr>\n",
       "  </thead>\n",
       "  <tbody>\n",
       "    <tr>\n",
       "      <th>0</th>\n",
       "      <td>0.000000</td>\n",
       "      <td>1.000000</td>\n",
       "      <td>2</td>\n",
       "    </tr>\n",
       "    <tr>\n",
       "      <th>1</th>\n",
       "      <td>-0.499261</td>\n",
       "      <td>-0.061236</td>\n",
       "      <td>0</td>\n",
       "    </tr>\n",
       "    <tr>\n",
       "      <th>2</th>\n",
       "      <td>-1.513690</td>\n",
       "      <td>0.265446</td>\n",
       "      <td>0</td>\n",
       "    </tr>\n",
       "    <tr>\n",
       "      <th>3</th>\n",
       "      <td>-1.603210</td>\n",
       "      <td>0.362039</td>\n",
       "      <td>0</td>\n",
       "    </tr>\n",
       "    <tr>\n",
       "      <th>4</th>\n",
       "      <td>-1.699280</td>\n",
       "      <td>-0.384246</td>\n",
       "      <td>0</td>\n",
       "    </tr>\n",
       "    <tr>\n",
       "      <th>...</th>\n",
       "      <td>...</td>\n",
       "      <td>...</td>\n",
       "      <td>...</td>\n",
       "    </tr>\n",
       "    <tr>\n",
       "      <th>711</th>\n",
       "      <td>1.763780</td>\n",
       "      <td>0.291525</td>\n",
       "      <td>2</td>\n",
       "    </tr>\n",
       "    <tr>\n",
       "      <th>712</th>\n",
       "      <td>0.534542</td>\n",
       "      <td>-0.221663</td>\n",
       "      <td>2</td>\n",
       "    </tr>\n",
       "    <tr>\n",
       "      <th>713</th>\n",
       "      <td>1.302740</td>\n",
       "      <td>0.366262</td>\n",
       "      <td>2</td>\n",
       "    </tr>\n",
       "    <tr>\n",
       "      <th>714</th>\n",
       "      <td>0.016068</td>\n",
       "      <td>0.213499</td>\n",
       "      <td>2</td>\n",
       "    </tr>\n",
       "    <tr>\n",
       "      <th>715</th>\n",
       "      <td>0.561435</td>\n",
       "      <td>-0.170464</td>\n",
       "      <td>2</td>\n",
       "    </tr>\n",
       "  </tbody>\n",
       "</table>\n",
       "<p>716 rows × 3 columns</p>\n",
       "</div>"
      ],
      "text/plain": [
       "            0         1  2\n",
       "0    0.000000  1.000000  2\n",
       "1   -0.499261 -0.061236  0\n",
       "2   -1.513690  0.265446  0\n",
       "3   -1.603210  0.362039  0\n",
       "4   -1.699280 -0.384246  0\n",
       "..        ...       ... ..\n",
       "711  1.763780  0.291525  2\n",
       "712  0.534542 -0.221663  2\n",
       "713  1.302740  0.366262  2\n",
       "714  0.016068  0.213499  2\n",
       "715  0.561435 -0.170464  2\n",
       "\n",
       "[716 rows x 3 columns]"
      ]
     },
     "execution_count": 17,
     "metadata": {},
     "output_type": "execute_result"
    }
   ],
   "source": [
    "index = 2\n",
    "df = pd.read_csv(datasets[index], header=None)\n",
    "print(datasets[index])\n",
    "df"
   ]
  },
  {
   "cell_type": "code",
   "execution_count": 16,
   "id": "e43250e3-2173-49fa-9e58-1b4956b4653e",
   "metadata": {
    "tags": []
   },
   "outputs": [
    {
     "data": {
      "text/plain": [
       "3"
      ]
     },
     "execution_count": 16,
     "metadata": {},
     "output_type": "execute_result"
    }
   ],
   "source": [
    "len(df[df.columns[-1]].unique())"
   ]
  },
  {
   "cell_type": "code",
   "execution_count": 7,
   "id": "156eddfa",
   "metadata": {},
   "outputs": [],
   "source": [
    "df.to_csv(datasets[index].replace(\".csv\", \"_y.zip\"), index=False)\n",
    "os.remove(datasets[index])"
   ]
  },
  {
   "cell_type": "markdown",
   "id": "f6d91c9c",
   "metadata": {},
   "source": [
    "# 2d-4c-no9"
   ]
  },
  {
   "cell_type": "code",
   "execution_count": 18,
   "id": "d3b88de9",
   "metadata": {
    "tags": []
   },
   "outputs": [
    {
     "name": "stdout",
     "output_type": "stream",
     "text": [
      ".\\2d-4c-no9_y.zip\n"
     ]
    },
    {
     "data": {
      "text/html": [
       "<div>\n",
       "<style scoped>\n",
       "    .dataframe tbody tr th:only-of-type {\n",
       "        vertical-align: middle;\n",
       "    }\n",
       "\n",
       "    .dataframe tbody tr th {\n",
       "        vertical-align: top;\n",
       "    }\n",
       "\n",
       "    .dataframe thead th {\n",
       "        text-align: right;\n",
       "    }\n",
       "</style>\n",
       "<table border=\"1\" class=\"dataframe\">\n",
       "  <thead>\n",
       "    <tr style=\"text-align: right;\">\n",
       "      <th></th>\n",
       "      <th>0</th>\n",
       "      <th>1</th>\n",
       "      <th>2</th>\n",
       "    </tr>\n",
       "  </thead>\n",
       "  <tbody>\n",
       "    <tr>\n",
       "      <th>0</th>\n",
       "      <td>0.00000</td>\n",
       "      <td>1.000000</td>\n",
       "      <td>2</td>\n",
       "    </tr>\n",
       "    <tr>\n",
       "      <th>1</th>\n",
       "      <td>-9.33717</td>\n",
       "      <td>-1.479760</td>\n",
       "      <td>0</td>\n",
       "    </tr>\n",
       "    <tr>\n",
       "      <th>2</th>\n",
       "      <td>-4.46281</td>\n",
       "      <td>-0.157614</td>\n",
       "      <td>0</td>\n",
       "    </tr>\n",
       "    <tr>\n",
       "      <th>3</th>\n",
       "      <td>-5.48281</td>\n",
       "      <td>-1.338230</td>\n",
       "      <td>0</td>\n",
       "    </tr>\n",
       "    <tr>\n",
       "      <th>4</th>\n",
       "      <td>-9.82805</td>\n",
       "      <td>-0.335942</td>\n",
       "      <td>0</td>\n",
       "    </tr>\n",
       "    <tr>\n",
       "      <th>...</th>\n",
       "      <td>...</td>\n",
       "      <td>...</td>\n",
       "      <td>...</td>\n",
       "    </tr>\n",
       "    <tr>\n",
       "      <th>872</th>\n",
       "      <td>-9.41189</td>\n",
       "      <td>-7.142230</td>\n",
       "      <td>3</td>\n",
       "    </tr>\n",
       "    <tr>\n",
       "      <th>873</th>\n",
       "      <td>-9.21620</td>\n",
       "      <td>-7.325990</td>\n",
       "      <td>3</td>\n",
       "    </tr>\n",
       "    <tr>\n",
       "      <th>874</th>\n",
       "      <td>-9.22509</td>\n",
       "      <td>-7.471830</td>\n",
       "      <td>3</td>\n",
       "    </tr>\n",
       "    <tr>\n",
       "      <th>875</th>\n",
       "      <td>-9.37243</td>\n",
       "      <td>-7.362970</td>\n",
       "      <td>3</td>\n",
       "    </tr>\n",
       "    <tr>\n",
       "      <th>876</th>\n",
       "      <td>-9.17332</td>\n",
       "      <td>-7.153290</td>\n",
       "      <td>3</td>\n",
       "    </tr>\n",
       "  </tbody>\n",
       "</table>\n",
       "<p>877 rows × 3 columns</p>\n",
       "</div>"
      ],
      "text/plain": [
       "           0         1  2\n",
       "0    0.00000  1.000000  2\n",
       "1   -9.33717 -1.479760  0\n",
       "2   -4.46281 -0.157614  0\n",
       "3   -5.48281 -1.338230  0\n",
       "4   -9.82805 -0.335942  0\n",
       "..       ...       ... ..\n",
       "872 -9.41189 -7.142230  3\n",
       "873 -9.21620 -7.325990  3\n",
       "874 -9.22509 -7.471830  3\n",
       "875 -9.37243 -7.362970  3\n",
       "876 -9.17332 -7.153290  3\n",
       "\n",
       "[877 rows x 3 columns]"
      ]
     },
     "execution_count": 18,
     "metadata": {},
     "output_type": "execute_result"
    }
   ],
   "source": [
    "index = 3\n",
    "df = pd.read_csv(datasets[index], header=None)\n",
    "print(datasets[index])\n",
    "df"
   ]
  },
  {
   "cell_type": "code",
   "execution_count": 19,
   "id": "774cc1ad-7e48-4fae-bc22-977c3758069a",
   "metadata": {
    "tags": []
   },
   "outputs": [
    {
     "data": {
      "text/plain": [
       "4"
      ]
     },
     "execution_count": 19,
     "metadata": {},
     "output_type": "execute_result"
    }
   ],
   "source": [
    "len(df[df.columns[-1]].unique())"
   ]
  },
  {
   "cell_type": "code",
   "execution_count": 9,
   "id": "50e81ba8",
   "metadata": {},
   "outputs": [],
   "source": [
    "df.to_csv(datasets[index].replace(\".csv\", \"_y.zip\"), index=False)\n",
    "os.remove(datasets[index])"
   ]
  },
  {
   "cell_type": "markdown",
   "id": "c9cdca87",
   "metadata": {},
   "source": [
    "# 2d-4c"
   ]
  },
  {
   "cell_type": "code",
   "execution_count": 20,
   "id": "435e7944",
   "metadata": {
    "tags": []
   },
   "outputs": [
    {
     "name": "stdout",
     "output_type": "stream",
     "text": [
      ".\\2d-4c_y.zip\n"
     ]
    },
    {
     "data": {
      "text/html": [
       "<div>\n",
       "<style scoped>\n",
       "    .dataframe tbody tr th:only-of-type {\n",
       "        vertical-align: middle;\n",
       "    }\n",
       "\n",
       "    .dataframe tbody tr th {\n",
       "        vertical-align: top;\n",
       "    }\n",
       "\n",
       "    .dataframe thead th {\n",
       "        text-align: right;\n",
       "    }\n",
       "</style>\n",
       "<table border=\"1\" class=\"dataframe\">\n",
       "  <thead>\n",
       "    <tr style=\"text-align: right;\">\n",
       "      <th></th>\n",
       "      <th>0</th>\n",
       "      <th>1</th>\n",
       "      <th>2</th>\n",
       "    </tr>\n",
       "  </thead>\n",
       "  <tbody>\n",
       "    <tr>\n",
       "      <th>0</th>\n",
       "      <td>0.000000</td>\n",
       "      <td>1.0000</td>\n",
       "      <td>2</td>\n",
       "    </tr>\n",
       "    <tr>\n",
       "      <th>1</th>\n",
       "      <td>2.745310</td>\n",
       "      <td>41.5491</td>\n",
       "      <td>0</td>\n",
       "    </tr>\n",
       "    <tr>\n",
       "      <th>2</th>\n",
       "      <td>-0.628169</td>\n",
       "      <td>41.1591</td>\n",
       "      <td>0</td>\n",
       "    </tr>\n",
       "    <tr>\n",
       "      <th>3</th>\n",
       "      <td>2.779950</td>\n",
       "      <td>40.7192</td>\n",
       "      <td>0</td>\n",
       "    </tr>\n",
       "    <tr>\n",
       "      <th>4</th>\n",
       "      <td>1.137160</td>\n",
       "      <td>41.8618</td>\n",
       "      <td>0</td>\n",
       "    </tr>\n",
       "    <tr>\n",
       "      <th>...</th>\n",
       "      <td>...</td>\n",
       "      <td>...</td>\n",
       "      <td>...</td>\n",
       "    </tr>\n",
       "    <tr>\n",
       "      <th>1257</th>\n",
       "      <td>72.551200</td>\n",
       "      <td>72.6080</td>\n",
       "      <td>3</td>\n",
       "    </tr>\n",
       "    <tr>\n",
       "      <th>1258</th>\n",
       "      <td>73.883400</td>\n",
       "      <td>71.0078</td>\n",
       "      <td>3</td>\n",
       "    </tr>\n",
       "    <tr>\n",
       "      <th>1259</th>\n",
       "      <td>72.411600</td>\n",
       "      <td>68.3206</td>\n",
       "      <td>3</td>\n",
       "    </tr>\n",
       "    <tr>\n",
       "      <th>1260</th>\n",
       "      <td>74.090300</td>\n",
       "      <td>69.7150</td>\n",
       "      <td>3</td>\n",
       "    </tr>\n",
       "    <tr>\n",
       "      <th>1261</th>\n",
       "      <td>73.616900</td>\n",
       "      <td>71.9917</td>\n",
       "      <td>3</td>\n",
       "    </tr>\n",
       "  </tbody>\n",
       "</table>\n",
       "<p>1262 rows × 3 columns</p>\n",
       "</div>"
      ],
      "text/plain": [
       "              0        1  2\n",
       "0      0.000000   1.0000  2\n",
       "1      2.745310  41.5491  0\n",
       "2     -0.628169  41.1591  0\n",
       "3      2.779950  40.7192  0\n",
       "4      1.137160  41.8618  0\n",
       "...         ...      ... ..\n",
       "1257  72.551200  72.6080  3\n",
       "1258  73.883400  71.0078  3\n",
       "1259  72.411600  68.3206  3\n",
       "1260  74.090300  69.7150  3\n",
       "1261  73.616900  71.9917  3\n",
       "\n",
       "[1262 rows x 3 columns]"
      ]
     },
     "execution_count": 20,
     "metadata": {},
     "output_type": "execute_result"
    }
   ],
   "source": [
    "index = 4\n",
    "df = pd.read_csv(datasets[index], header=None)\n",
    "print(datasets[index])\n",
    "df"
   ]
  },
  {
   "cell_type": "code",
   "execution_count": 21,
   "id": "4d27ce06-89ad-450b-b3e1-537bf540c2ba",
   "metadata": {
    "tags": []
   },
   "outputs": [
    {
     "data": {
      "text/plain": [
       "4"
      ]
     },
     "execution_count": 21,
     "metadata": {},
     "output_type": "execute_result"
    }
   ],
   "source": [
    "len(df[df.columns[-1]].unique())"
   ]
  },
  {
   "cell_type": "code",
   "execution_count": 11,
   "id": "425609d8",
   "metadata": {},
   "outputs": [],
   "source": [
    "df.to_csv(datasets[index].replace(\".csv\", \"_y.zip\"), index=False)\n",
    "os.remove(datasets[index])"
   ]
  },
  {
   "cell_type": "markdown",
   "id": "20f4fdcb",
   "metadata": {},
   "source": [
    "# 2d-d31"
   ]
  },
  {
   "cell_type": "code",
   "execution_count": 22,
   "id": "766aa31d",
   "metadata": {
    "tags": []
   },
   "outputs": [
    {
     "name": "stdout",
     "output_type": "stream",
     "text": [
      ".\\2d-d31_y.zip\n"
     ]
    },
    {
     "data": {
      "text/html": [
       "<div>\n",
       "<style scoped>\n",
       "    .dataframe tbody tr th:only-of-type {\n",
       "        vertical-align: middle;\n",
       "    }\n",
       "\n",
       "    .dataframe tbody tr th {\n",
       "        vertical-align: top;\n",
       "    }\n",
       "\n",
       "    .dataframe thead th {\n",
       "        text-align: right;\n",
       "    }\n",
       "</style>\n",
       "<table border=\"1\" class=\"dataframe\">\n",
       "  <thead>\n",
       "    <tr style=\"text-align: right;\">\n",
       "      <th></th>\n",
       "      <th>0</th>\n",
       "      <th>1</th>\n",
       "      <th>2</th>\n",
       "    </tr>\n",
       "  </thead>\n",
       "  <tbody>\n",
       "    <tr>\n",
       "      <th>0</th>\n",
       "      <td>0.0000</td>\n",
       "      <td>1.0000</td>\n",
       "      <td>2</td>\n",
       "    </tr>\n",
       "    <tr>\n",
       "      <th>1</th>\n",
       "      <td>25.0514</td>\n",
       "      <td>5.7475</td>\n",
       "      <td>1</td>\n",
       "    </tr>\n",
       "    <tr>\n",
       "      <th>2</th>\n",
       "      <td>26.6614</td>\n",
       "      <td>7.3414</td>\n",
       "      <td>1</td>\n",
       "    </tr>\n",
       "    <tr>\n",
       "      <th>3</th>\n",
       "      <td>25.2653</td>\n",
       "      <td>6.2466</td>\n",
       "      <td>1</td>\n",
       "    </tr>\n",
       "    <tr>\n",
       "      <th>4</th>\n",
       "      <td>25.2285</td>\n",
       "      <td>4.7447</td>\n",
       "      <td>1</td>\n",
       "    </tr>\n",
       "    <tr>\n",
       "      <th>...</th>\n",
       "      <td>...</td>\n",
       "      <td>...</td>\n",
       "      <td>...</td>\n",
       "    </tr>\n",
       "    <tr>\n",
       "      <th>3096</th>\n",
       "      <td>5.1380</td>\n",
       "      <td>16.6150</td>\n",
       "      <td>31</td>\n",
       "    </tr>\n",
       "    <tr>\n",
       "      <th>3097</th>\n",
       "      <td>5.7360</td>\n",
       "      <td>16.9991</td>\n",
       "      <td>31</td>\n",
       "    </tr>\n",
       "    <tr>\n",
       "      <th>3098</th>\n",
       "      <td>5.2760</td>\n",
       "      <td>17.2475</td>\n",
       "      <td>31</td>\n",
       "    </tr>\n",
       "    <tr>\n",
       "      <th>3099</th>\n",
       "      <td>6.4444</td>\n",
       "      <td>16.2033</td>\n",
       "      <td>31</td>\n",
       "    </tr>\n",
       "    <tr>\n",
       "      <th>3100</th>\n",
       "      <td>7.1620</td>\n",
       "      <td>18.1836</td>\n",
       "      <td>31</td>\n",
       "    </tr>\n",
       "  </tbody>\n",
       "</table>\n",
       "<p>3101 rows × 3 columns</p>\n",
       "</div>"
      ],
      "text/plain": [
       "            0        1   2\n",
       "0      0.0000   1.0000   2\n",
       "1     25.0514   5.7475   1\n",
       "2     26.6614   7.3414   1\n",
       "3     25.2653   6.2466   1\n",
       "4     25.2285   4.7447   1\n",
       "...       ...      ...  ..\n",
       "3096   5.1380  16.6150  31\n",
       "3097   5.7360  16.9991  31\n",
       "3098   5.2760  17.2475  31\n",
       "3099   6.4444  16.2033  31\n",
       "3100   7.1620  18.1836  31\n",
       "\n",
       "[3101 rows x 3 columns]"
      ]
     },
     "execution_count": 22,
     "metadata": {},
     "output_type": "execute_result"
    }
   ],
   "source": [
    "index = 5\n",
    "df = pd.read_csv(datasets[index], header=None)\n",
    "print(datasets[index])\n",
    "df"
   ]
  },
  {
   "cell_type": "code",
   "execution_count": 23,
   "id": "b13340af-cb00-44cc-88c2-0e44e9d6cb9b",
   "metadata": {
    "tags": []
   },
   "outputs": [
    {
     "data": {
      "text/plain": [
       "31"
      ]
     },
     "execution_count": 23,
     "metadata": {},
     "output_type": "execute_result"
    }
   ],
   "source": [
    "len(df[df.columns[-1]].unique())"
   ]
  },
  {
   "cell_type": "code",
   "execution_count": 13,
   "id": "b7c390d4",
   "metadata": {},
   "outputs": [],
   "source": [
    "df.to_csv(datasets[index].replace(\".csv\", \"_y.zip\"), index=False)\n",
    "os.remove(datasets[index])"
   ]
  },
  {
   "cell_type": "markdown",
   "id": "823f29fd",
   "metadata": {},
   "source": [
    "# aggregation"
   ]
  },
  {
   "cell_type": "code",
   "execution_count": 24,
   "id": "844dee45",
   "metadata": {
    "tags": []
   },
   "outputs": [
    {
     "name": "stdout",
     "output_type": "stream",
     "text": [
      ".\\aggregation_y.zip\n"
     ]
    },
    {
     "data": {
      "text/html": [
       "<div>\n",
       "<style scoped>\n",
       "    .dataframe tbody tr th:only-of-type {\n",
       "        vertical-align: middle;\n",
       "    }\n",
       "\n",
       "    .dataframe tbody tr th {\n",
       "        vertical-align: top;\n",
       "    }\n",
       "\n",
       "    .dataframe thead th {\n",
       "        text-align: right;\n",
       "    }\n",
       "</style>\n",
       "<table border=\"1\" class=\"dataframe\">\n",
       "  <thead>\n",
       "    <tr style=\"text-align: right;\">\n",
       "      <th></th>\n",
       "      <th>0</th>\n",
       "      <th>1</th>\n",
       "      <th>2</th>\n",
       "    </tr>\n",
       "  </thead>\n",
       "  <tbody>\n",
       "    <tr>\n",
       "      <th>0</th>\n",
       "      <td>0.00</td>\n",
       "      <td>1.00</td>\n",
       "      <td>2</td>\n",
       "    </tr>\n",
       "    <tr>\n",
       "      <th>1</th>\n",
       "      <td>15.55</td>\n",
       "      <td>28.65</td>\n",
       "      <td>2</td>\n",
       "    </tr>\n",
       "    <tr>\n",
       "      <th>2</th>\n",
       "      <td>14.90</td>\n",
       "      <td>27.55</td>\n",
       "      <td>2</td>\n",
       "    </tr>\n",
       "    <tr>\n",
       "      <th>3</th>\n",
       "      <td>14.45</td>\n",
       "      <td>28.35</td>\n",
       "      <td>2</td>\n",
       "    </tr>\n",
       "    <tr>\n",
       "      <th>4</th>\n",
       "      <td>14.15</td>\n",
       "      <td>28.80</td>\n",
       "      <td>2</td>\n",
       "    </tr>\n",
       "    <tr>\n",
       "      <th>...</th>\n",
       "      <td>...</td>\n",
       "      <td>...</td>\n",
       "      <td>...</td>\n",
       "    </tr>\n",
       "    <tr>\n",
       "      <th>784</th>\n",
       "      <td>7.80</td>\n",
       "      <td>3.35</td>\n",
       "      <td>5</td>\n",
       "    </tr>\n",
       "    <tr>\n",
       "      <th>785</th>\n",
       "      <td>8.05</td>\n",
       "      <td>2.75</td>\n",
       "      <td>5</td>\n",
       "    </tr>\n",
       "    <tr>\n",
       "      <th>786</th>\n",
       "      <td>8.50</td>\n",
       "      <td>3.25</td>\n",
       "      <td>5</td>\n",
       "    </tr>\n",
       "    <tr>\n",
       "      <th>787</th>\n",
       "      <td>8.10</td>\n",
       "      <td>3.55</td>\n",
       "      <td>5</td>\n",
       "    </tr>\n",
       "    <tr>\n",
       "      <th>788</th>\n",
       "      <td>8.15</td>\n",
       "      <td>4.00</td>\n",
       "      <td>5</td>\n",
       "    </tr>\n",
       "  </tbody>\n",
       "</table>\n",
       "<p>789 rows × 3 columns</p>\n",
       "</div>"
      ],
      "text/plain": [
       "         0      1  2\n",
       "0     0.00   1.00  2\n",
       "1    15.55  28.65  2\n",
       "2    14.90  27.55  2\n",
       "3    14.45  28.35  2\n",
       "4    14.15  28.80  2\n",
       "..     ...    ... ..\n",
       "784   7.80   3.35  5\n",
       "785   8.05   2.75  5\n",
       "786   8.50   3.25  5\n",
       "787   8.10   3.55  5\n",
       "788   8.15   4.00  5\n",
       "\n",
       "[789 rows x 3 columns]"
      ]
     },
     "execution_count": 24,
     "metadata": {},
     "output_type": "execute_result"
    }
   ],
   "source": [
    "index = 6\n",
    "df = pd.read_csv(datasets[index], header=None)\n",
    "print(datasets[index])\n",
    "df"
   ]
  },
  {
   "cell_type": "code",
   "execution_count": 25,
   "id": "9b7f07bc-f7eb-41f1-9096-d42c94dc830c",
   "metadata": {
    "tags": []
   },
   "outputs": [
    {
     "data": {
      "text/plain": [
       "7"
      ]
     },
     "execution_count": 25,
     "metadata": {},
     "output_type": "execute_result"
    }
   ],
   "source": [
    "len(df[df.columns[-1]].unique())"
   ]
  },
  {
   "cell_type": "code",
   "execution_count": 15,
   "id": "f7c1c56c",
   "metadata": {},
   "outputs": [],
   "source": [
    "df.to_csv(datasets[index].replace(\".csv\", \"_y.zip\"), index=False)\n",
    "os.remove(datasets[index])"
   ]
  },
  {
   "cell_type": "markdown",
   "id": "477ea755",
   "metadata": {},
   "source": [
    "# cure-t0-2000n-2D"
   ]
  },
  {
   "cell_type": "code",
   "execution_count": 26,
   "id": "d76c0737",
   "metadata": {
    "tags": []
   },
   "outputs": [
    {
     "name": "stdout",
     "output_type": "stream",
     "text": [
      ".\\cure-t0-2000n-2D_y.zip\n"
     ]
    },
    {
     "data": {
      "text/html": [
       "<div>\n",
       "<style scoped>\n",
       "    .dataframe tbody tr th:only-of-type {\n",
       "        vertical-align: middle;\n",
       "    }\n",
       "\n",
       "    .dataframe tbody tr th {\n",
       "        vertical-align: top;\n",
       "    }\n",
       "\n",
       "    .dataframe thead th {\n",
       "        text-align: right;\n",
       "    }\n",
       "</style>\n",
       "<table border=\"1\" class=\"dataframe\">\n",
       "  <thead>\n",
       "    <tr style=\"text-align: right;\">\n",
       "      <th></th>\n",
       "      <th>0</th>\n",
       "      <th>1</th>\n",
       "      <th>2</th>\n",
       "    </tr>\n",
       "  </thead>\n",
       "  <tbody>\n",
       "    <tr>\n",
       "      <th>0</th>\n",
       "      <td>0.000000</td>\n",
       "      <td>1.000000</td>\n",
       "      <td>2</td>\n",
       "    </tr>\n",
       "    <tr>\n",
       "      <th>1</th>\n",
       "      <td>-0.227326</td>\n",
       "      <td>0.771386</td>\n",
       "      <td>0</td>\n",
       "    </tr>\n",
       "    <tr>\n",
       "      <th>2</th>\n",
       "      <td>0.213638</td>\n",
       "      <td>-0.628019</td>\n",
       "      <td>0</td>\n",
       "    </tr>\n",
       "    <tr>\n",
       "      <th>3</th>\n",
       "      <td>-0.933018</td>\n",
       "      <td>0.424118</td>\n",
       "      <td>0</td>\n",
       "    </tr>\n",
       "    <tr>\n",
       "      <th>4</th>\n",
       "      <td>-0.814708</td>\n",
       "      <td>0.254235</td>\n",
       "      <td>0</td>\n",
       "    </tr>\n",
       "    <tr>\n",
       "      <th>...</th>\n",
       "      <td>...</td>\n",
       "      <td>...</td>\n",
       "      <td>...</td>\n",
       "    </tr>\n",
       "    <tr>\n",
       "      <th>1996</th>\n",
       "      <td>0.918821</td>\n",
       "      <td>-0.317409</td>\n",
       "      <td>2</td>\n",
       "    </tr>\n",
       "    <tr>\n",
       "      <th>1997</th>\n",
       "      <td>0.847027</td>\n",
       "      <td>-0.411880</td>\n",
       "      <td>2</td>\n",
       "    </tr>\n",
       "    <tr>\n",
       "      <th>1998</th>\n",
       "      <td>0.915024</td>\n",
       "      <td>-0.418904</td>\n",
       "      <td>2</td>\n",
       "    </tr>\n",
       "    <tr>\n",
       "      <th>1999</th>\n",
       "      <td>0.911225</td>\n",
       "      <td>-0.303072</td>\n",
       "      <td>2</td>\n",
       "    </tr>\n",
       "    <tr>\n",
       "      <th>2000</th>\n",
       "      <td>0.880042</td>\n",
       "      <td>-0.440722</td>\n",
       "      <td>2</td>\n",
       "    </tr>\n",
       "  </tbody>\n",
       "</table>\n",
       "<p>2001 rows × 3 columns</p>\n",
       "</div>"
      ],
      "text/plain": [
       "             0         1  2\n",
       "0     0.000000  1.000000  2\n",
       "1    -0.227326  0.771386  0\n",
       "2     0.213638 -0.628019  0\n",
       "3    -0.933018  0.424118  0\n",
       "4    -0.814708  0.254235  0\n",
       "...        ...       ... ..\n",
       "1996  0.918821 -0.317409  2\n",
       "1997  0.847027 -0.411880  2\n",
       "1998  0.915024 -0.418904  2\n",
       "1999  0.911225 -0.303072  2\n",
       "2000  0.880042 -0.440722  2\n",
       "\n",
       "[2001 rows x 3 columns]"
      ]
     },
     "execution_count": 26,
     "metadata": {},
     "output_type": "execute_result"
    }
   ],
   "source": [
    "index = 7\n",
    "df = pd.read_csv(datasets[index], header=None)\n",
    "print(datasets[index])\n",
    "df"
   ]
  },
  {
   "cell_type": "code",
   "execution_count": 27,
   "id": "4b759a3b-ac26-449a-9683-496ec022cef6",
   "metadata": {
    "tags": []
   },
   "outputs": [
    {
     "data": {
      "text/plain": [
       "3"
      ]
     },
     "execution_count": 27,
     "metadata": {},
     "output_type": "execute_result"
    }
   ],
   "source": [
    "len(df[df.columns[-1]].unique())"
   ]
  },
  {
   "cell_type": "code",
   "execution_count": 17,
   "id": "4bb708b1",
   "metadata": {},
   "outputs": [],
   "source": [
    "df.to_csv(datasets[index].replace(\".csv\", \"_y.zip\"), index=False)\n",
    "os.remove(datasets[index])"
   ]
  },
  {
   "cell_type": "markdown",
   "id": "0f77907f",
   "metadata": {},
   "source": [
    "# cure-t1-2000n-2D"
   ]
  },
  {
   "cell_type": "code",
   "execution_count": 36,
   "id": "26a58866",
   "metadata": {
    "tags": []
   },
   "outputs": [
    {
     "name": "stdout",
     "output_type": "stream",
     "text": [
      ".\\cure-t1-2000n-2D_y.zip\n"
     ]
    },
    {
     "data": {
      "text/html": [
       "<div>\n",
       "<style scoped>\n",
       "    .dataframe tbody tr th:only-of-type {\n",
       "        vertical-align: middle;\n",
       "    }\n",
       "\n",
       "    .dataframe tbody tr th {\n",
       "        vertical-align: top;\n",
       "    }\n",
       "\n",
       "    .dataframe thead th {\n",
       "        text-align: right;\n",
       "    }\n",
       "</style>\n",
       "<table border=\"1\" class=\"dataframe\">\n",
       "  <thead>\n",
       "    <tr style=\"text-align: right;\">\n",
       "      <th></th>\n",
       "      <th>0</th>\n",
       "      <th>1</th>\n",
       "      <th>2</th>\n",
       "    </tr>\n",
       "  </thead>\n",
       "  <tbody>\n",
       "    <tr>\n",
       "      <th>0</th>\n",
       "      <td>-0.845336</td>\n",
       "      <td>-0.533192</td>\n",
       "      <td>0</td>\n",
       "    </tr>\n",
       "    <tr>\n",
       "      <th>1</th>\n",
       "      <td>-0.731757</td>\n",
       "      <td>0.099658</td>\n",
       "      <td>0</td>\n",
       "    </tr>\n",
       "    <tr>\n",
       "      <th>2</th>\n",
       "      <td>0.018381</td>\n",
       "      <td>-0.751005</td>\n",
       "      <td>0</td>\n",
       "    </tr>\n",
       "    <tr>\n",
       "      <th>3</th>\n",
       "      <td>-0.867887</td>\n",
       "      <td>-0.365326</td>\n",
       "      <td>0</td>\n",
       "    </tr>\n",
       "    <tr>\n",
       "      <th>4</th>\n",
       "      <td>0.131603</td>\n",
       "      <td>-0.834194</td>\n",
       "      <td>0</td>\n",
       "    </tr>\n",
       "    <tr>\n",
       "      <th>...</th>\n",
       "      <td>...</td>\n",
       "      <td>...</td>\n",
       "      <td>...</td>\n",
       "    </tr>\n",
       "    <tr>\n",
       "      <th>1995</th>\n",
       "      <td>0.046414</td>\n",
       "      <td>0.800000</td>\n",
       "      <td>5</td>\n",
       "    </tr>\n",
       "    <tr>\n",
       "      <th>1996</th>\n",
       "      <td>0.089033</td>\n",
       "      <td>0.800000</td>\n",
       "      <td>5</td>\n",
       "    </tr>\n",
       "    <tr>\n",
       "      <th>1997</th>\n",
       "      <td>-0.015150</td>\n",
       "      <td>0.800000</td>\n",
       "      <td>5</td>\n",
       "    </tr>\n",
       "    <tr>\n",
       "      <th>1998</th>\n",
       "      <td>-0.031030</td>\n",
       "      <td>0.800000</td>\n",
       "      <td>5</td>\n",
       "    </tr>\n",
       "    <tr>\n",
       "      <th>1999</th>\n",
       "      <td>0.087002</td>\n",
       "      <td>0.800000</td>\n",
       "      <td>5</td>\n",
       "    </tr>\n",
       "  </tbody>\n",
       "</table>\n",
       "<p>2000 rows × 3 columns</p>\n",
       "</div>"
      ],
      "text/plain": [
       "             0         1  2\n",
       "0    -0.845336 -0.533192  0\n",
       "1    -0.731757  0.099658  0\n",
       "2     0.018381 -0.751005  0\n",
       "3    -0.867887 -0.365326  0\n",
       "4     0.131603 -0.834194  0\n",
       "...        ...       ... ..\n",
       "1995  0.046414  0.800000  5\n",
       "1996  0.089033  0.800000  5\n",
       "1997 -0.015150  0.800000  5\n",
       "1998 -0.031030  0.800000  5\n",
       "1999  0.087002  0.800000  5\n",
       "\n",
       "[2000 rows x 3 columns]"
      ]
     },
     "execution_count": 36,
     "metadata": {},
     "output_type": "execute_result"
    }
   ],
   "source": [
    "index = 8\n",
    "df = pd.read_csv(datasets[index])\n",
    "print(datasets[index])\n",
    "df"
   ]
  },
  {
   "cell_type": "code",
   "execution_count": 37,
   "id": "2e55b733-db60-4bfc-9041-8e090a96e6ed",
   "metadata": {
    "tags": []
   },
   "outputs": [
    {
     "data": {
      "text/plain": [
       "6"
      ]
     },
     "execution_count": 37,
     "metadata": {},
     "output_type": "execute_result"
    }
   ],
   "source": [
    "len(df[df.columns[-1]].unique())"
   ]
  },
  {
   "cell_type": "code",
   "execution_count": 19,
   "id": "61c0941d",
   "metadata": {},
   "outputs": [],
   "source": [
    "df.to_csv(datasets[index].replace(\".csv\", \"_y.zip\"), index=False)\n",
    "os.remove(datasets[index])"
   ]
  },
  {
   "cell_type": "markdown",
   "id": "b6464f69",
   "metadata": {},
   "source": [
    "# cure-t2-4k"
   ]
  },
  {
   "cell_type": "code",
   "execution_count": 34,
   "id": "0c240136",
   "metadata": {
    "tags": []
   },
   "outputs": [
    {
     "name": "stdout",
     "output_type": "stream",
     "text": [
      ".\\cure-t2-4k_y.zip\n"
     ]
    },
    {
     "data": {
      "text/html": [
       "<div>\n",
       "<style scoped>\n",
       "    .dataframe tbody tr th:only-of-type {\n",
       "        vertical-align: middle;\n",
       "    }\n",
       "\n",
       "    .dataframe tbody tr th {\n",
       "        vertical-align: top;\n",
       "    }\n",
       "\n",
       "    .dataframe thead th {\n",
       "        text-align: right;\n",
       "    }\n",
       "</style>\n",
       "<table border=\"1\" class=\"dataframe\">\n",
       "  <thead>\n",
       "    <tr style=\"text-align: right;\">\n",
       "      <th></th>\n",
       "      <th>0</th>\n",
       "      <th>1</th>\n",
       "      <th>2</th>\n",
       "    </tr>\n",
       "  </thead>\n",
       "  <tbody>\n",
       "    <tr>\n",
       "      <th>0</th>\n",
       "      <td>-0.590353</td>\n",
       "      <td>-0.566736</td>\n",
       "      <td>0</td>\n",
       "    </tr>\n",
       "    <tr>\n",
       "      <th>1</th>\n",
       "      <td>-0.147896</td>\n",
       "      <td>-0.257437</td>\n",
       "      <td>0</td>\n",
       "    </tr>\n",
       "    <tr>\n",
       "      <th>2</th>\n",
       "      <td>0.055418</td>\n",
       "      <td>-0.760445</td>\n",
       "      <td>0</td>\n",
       "    </tr>\n",
       "    <tr>\n",
       "      <th>3</th>\n",
       "      <td>-0.619365</td>\n",
       "      <td>-0.817190</td>\n",
       "      <td>0</td>\n",
       "    </tr>\n",
       "    <tr>\n",
       "      <th>4</th>\n",
       "      <td>-0.553720</td>\n",
       "      <td>-0.329719</td>\n",
       "      <td>0</td>\n",
       "    </tr>\n",
       "    <tr>\n",
       "      <th>...</th>\n",
       "      <td>...</td>\n",
       "      <td>...</td>\n",
       "      <td>...</td>\n",
       "    </tr>\n",
       "    <tr>\n",
       "      <th>4195</th>\n",
       "      <td>0.651146</td>\n",
       "      <td>-0.192620</td>\n",
       "      <td>-1</td>\n",
       "    </tr>\n",
       "    <tr>\n",
       "      <th>4196</th>\n",
       "      <td>0.633790</td>\n",
       "      <td>0.111288</td>\n",
       "      <td>-1</td>\n",
       "    </tr>\n",
       "    <tr>\n",
       "      <th>4197</th>\n",
       "      <td>0.413400</td>\n",
       "      <td>0.017708</td>\n",
       "      <td>-1</td>\n",
       "    </tr>\n",
       "    <tr>\n",
       "      <th>4198</th>\n",
       "      <td>0.942855</td>\n",
       "      <td>0.561410</td>\n",
       "      <td>-1</td>\n",
       "    </tr>\n",
       "    <tr>\n",
       "      <th>4199</th>\n",
       "      <td>-0.174301</td>\n",
       "      <td>0.520809</td>\n",
       "      <td>-1</td>\n",
       "    </tr>\n",
       "  </tbody>\n",
       "</table>\n",
       "<p>4200 rows × 3 columns</p>\n",
       "</div>"
      ],
      "text/plain": [
       "             0         1  2\n",
       "0    -0.590353 -0.566736  0\n",
       "1    -0.147896 -0.257437  0\n",
       "2     0.055418 -0.760445  0\n",
       "3    -0.619365 -0.817190  0\n",
       "4    -0.553720 -0.329719  0\n",
       "...        ...       ... ..\n",
       "4195  0.651146 -0.192620 -1\n",
       "4196  0.633790  0.111288 -1\n",
       "4197  0.413400  0.017708 -1\n",
       "4198  0.942855  0.561410 -1\n",
       "4199 -0.174301  0.520809 -1\n",
       "\n",
       "[4200 rows x 3 columns]"
      ]
     },
     "execution_count": 34,
     "metadata": {},
     "output_type": "execute_result"
    }
   ],
   "source": [
    "index = 9\n",
    "df = pd.read_csv(datasets[index])\n",
    "print(datasets[index])\n",
    "df"
   ]
  },
  {
   "cell_type": "code",
   "execution_count": 35,
   "id": "f8bbc8e4-77fe-4208-9533-393a7998bc89",
   "metadata": {
    "tags": []
   },
   "outputs": [
    {
     "data": {
      "text/plain": [
       "7"
      ]
     },
     "execution_count": 35,
     "metadata": {},
     "output_type": "execute_result"
    }
   ],
   "source": [
    "len(df[df.columns[-1]].unique())"
   ]
  },
  {
   "cell_type": "code",
   "execution_count": 21,
   "id": "13506f12",
   "metadata": {},
   "outputs": [],
   "source": [
    "df.to_csv(datasets[index].replace(\".csv\", \"_y.zip\"), index=False)\n",
    "os.remove(datasets[index])"
   ]
  },
  {
   "cell_type": "markdown",
   "id": "6056e408",
   "metadata": {},
   "source": [
    "# longsquare"
   ]
  },
  {
   "cell_type": "code",
   "execution_count": 39,
   "id": "94fec5d0",
   "metadata": {
    "tags": []
   },
   "outputs": [
    {
     "name": "stdout",
     "output_type": "stream",
     "text": [
      ".\\longsquare_y.zip\n"
     ]
    },
    {
     "data": {
      "text/html": [
       "<div>\n",
       "<style scoped>\n",
       "    .dataframe tbody tr th:only-of-type {\n",
       "        vertical-align: middle;\n",
       "    }\n",
       "\n",
       "    .dataframe tbody tr th {\n",
       "        vertical-align: top;\n",
       "    }\n",
       "\n",
       "    .dataframe thead th {\n",
       "        text-align: right;\n",
       "    }\n",
       "</style>\n",
       "<table border=\"1\" class=\"dataframe\">\n",
       "  <thead>\n",
       "    <tr style=\"text-align: right;\">\n",
       "      <th></th>\n",
       "      <th>0</th>\n",
       "      <th>1</th>\n",
       "      <th>2</th>\n",
       "    </tr>\n",
       "  </thead>\n",
       "  <tbody>\n",
       "    <tr>\n",
       "      <th>0</th>\n",
       "      <td>15.46400</td>\n",
       "      <td>19.44090</td>\n",
       "      <td>0</td>\n",
       "    </tr>\n",
       "    <tr>\n",
       "      <th>1</th>\n",
       "      <td>17.79830</td>\n",
       "      <td>14.83670</td>\n",
       "      <td>0</td>\n",
       "    </tr>\n",
       "    <tr>\n",
       "      <th>2</th>\n",
       "      <td>15.05220</td>\n",
       "      <td>17.26020</td>\n",
       "      <td>0</td>\n",
       "    </tr>\n",
       "    <tr>\n",
       "      <th>3</th>\n",
       "      <td>15.32650</td>\n",
       "      <td>18.12450</td>\n",
       "      <td>0</td>\n",
       "    </tr>\n",
       "    <tr>\n",
       "      <th>4</th>\n",
       "      <td>17.72110</td>\n",
       "      <td>15.00530</td>\n",
       "      <td>0</td>\n",
       "    </tr>\n",
       "    <tr>\n",
       "      <th>...</th>\n",
       "      <td>...</td>\n",
       "      <td>...</td>\n",
       "      <td>...</td>\n",
       "    </tr>\n",
       "    <tr>\n",
       "      <th>895</th>\n",
       "      <td>-7.78466</td>\n",
       "      <td>-4.72809</td>\n",
       "      <td>5</td>\n",
       "    </tr>\n",
       "    <tr>\n",
       "      <th>896</th>\n",
       "      <td>4.94591</td>\n",
       "      <td>-5.12020</td>\n",
       "      <td>5</td>\n",
       "    </tr>\n",
       "    <tr>\n",
       "      <th>897</th>\n",
       "      <td>2.67831</td>\n",
       "      <td>-5.04219</td>\n",
       "      <td>5</td>\n",
       "    </tr>\n",
       "    <tr>\n",
       "      <th>898</th>\n",
       "      <td>-1.83635</td>\n",
       "      <td>-4.29439</td>\n",
       "      <td>5</td>\n",
       "    </tr>\n",
       "    <tr>\n",
       "      <th>899</th>\n",
       "      <td>-10.26410</td>\n",
       "      <td>-5.15446</td>\n",
       "      <td>5</td>\n",
       "    </tr>\n",
       "  </tbody>\n",
       "</table>\n",
       "<p>900 rows × 3 columns</p>\n",
       "</div>"
      ],
      "text/plain": [
       "            0         1  2\n",
       "0    15.46400  19.44090  0\n",
       "1    17.79830  14.83670  0\n",
       "2    15.05220  17.26020  0\n",
       "3    15.32650  18.12450  0\n",
       "4    17.72110  15.00530  0\n",
       "..        ...       ... ..\n",
       "895  -7.78466  -4.72809  5\n",
       "896   4.94591  -5.12020  5\n",
       "897   2.67831  -5.04219  5\n",
       "898  -1.83635  -4.29439  5\n",
       "899 -10.26410  -5.15446  5\n",
       "\n",
       "[900 rows x 3 columns]"
      ]
     },
     "execution_count": 39,
     "metadata": {},
     "output_type": "execute_result"
    }
   ],
   "source": [
    "index = 10\n",
    "df = pd.read_csv(datasets[index],)\n",
    "print(datasets[index])\n",
    "df"
   ]
  },
  {
   "cell_type": "code",
   "execution_count": 40,
   "id": "031de90f-9e11-4c1c-a4c2-74a6faf33cbd",
   "metadata": {
    "tags": []
   },
   "outputs": [
    {
     "data": {
      "text/plain": [
       "6"
      ]
     },
     "execution_count": 40,
     "metadata": {},
     "output_type": "execute_result"
    }
   ],
   "source": [
    "len(df[df.columns[-1]].unique())"
   ]
  },
  {
   "cell_type": "code",
   "execution_count": 23,
   "id": "56132a8e",
   "metadata": {},
   "outputs": [],
   "source": [
    "df.to_csv(datasets[index].replace(\".csv\", \"_y.zip\"), index=False)\n",
    "os.remove(datasets[index])"
   ]
  },
  {
   "cell_type": "markdown",
   "id": "e6ce868e",
   "metadata": {},
   "source": [
    "# s-set1"
   ]
  },
  {
   "cell_type": "code",
   "execution_count": 41,
   "id": "f94597da",
   "metadata": {
    "tags": []
   },
   "outputs": [
    {
     "name": "stdout",
     "output_type": "stream",
     "text": [
      ".\\s-set1_y.zip\n"
     ]
    },
    {
     "data": {
      "text/html": [
       "<div>\n",
       "<style scoped>\n",
       "    .dataframe tbody tr th:only-of-type {\n",
       "        vertical-align: middle;\n",
       "    }\n",
       "\n",
       "    .dataframe tbody tr th {\n",
       "        vertical-align: top;\n",
       "    }\n",
       "\n",
       "    .dataframe thead th {\n",
       "        text-align: right;\n",
       "    }\n",
       "</style>\n",
       "<table border=\"1\" class=\"dataframe\">\n",
       "  <thead>\n",
       "    <tr style=\"text-align: right;\">\n",
       "      <th></th>\n",
       "      <th>0</th>\n",
       "      <th>1</th>\n",
       "      <th>2</th>\n",
       "    </tr>\n",
       "  </thead>\n",
       "  <tbody>\n",
       "    <tr>\n",
       "      <th>0</th>\n",
       "      <td>664159.0</td>\n",
       "      <td>550946.0</td>\n",
       "      <td>14</td>\n",
       "    </tr>\n",
       "    <tr>\n",
       "      <th>1</th>\n",
       "      <td>665845.0</td>\n",
       "      <td>557965.0</td>\n",
       "      <td>14</td>\n",
       "    </tr>\n",
       "    <tr>\n",
       "      <th>2</th>\n",
       "      <td>597173.0</td>\n",
       "      <td>575538.0</td>\n",
       "      <td>14</td>\n",
       "    </tr>\n",
       "    <tr>\n",
       "      <th>3</th>\n",
       "      <td>618600.0</td>\n",
       "      <td>551446.0</td>\n",
       "      <td>14</td>\n",
       "    </tr>\n",
       "    <tr>\n",
       "      <th>4</th>\n",
       "      <td>635690.0</td>\n",
       "      <td>608046.0</td>\n",
       "      <td>14</td>\n",
       "    </tr>\n",
       "    <tr>\n",
       "      <th>...</th>\n",
       "      <td>...</td>\n",
       "      <td>...</td>\n",
       "      <td>...</td>\n",
       "    </tr>\n",
       "    <tr>\n",
       "      <th>4995</th>\n",
       "      <td>665426.0</td>\n",
       "      <td>853940.0</td>\n",
       "      <td>4</td>\n",
       "    </tr>\n",
       "    <tr>\n",
       "      <th>4996</th>\n",
       "      <td>691827.0</td>\n",
       "      <td>863963.0</td>\n",
       "      <td>4</td>\n",
       "    </tr>\n",
       "    <tr>\n",
       "      <th>4997</th>\n",
       "      <td>650661.0</td>\n",
       "      <td>861267.0</td>\n",
       "      <td>4</td>\n",
       "    </tr>\n",
       "    <tr>\n",
       "      <th>4998</th>\n",
       "      <td>599647.0</td>\n",
       "      <td>858702.0</td>\n",
       "      <td>4</td>\n",
       "    </tr>\n",
       "    <tr>\n",
       "      <th>4999</th>\n",
       "      <td>684091.0</td>\n",
       "      <td>842566.0</td>\n",
       "      <td>4</td>\n",
       "    </tr>\n",
       "  </tbody>\n",
       "</table>\n",
       "<p>5000 rows × 3 columns</p>\n",
       "</div>"
      ],
      "text/plain": [
       "             0         1   2\n",
       "0     664159.0  550946.0  14\n",
       "1     665845.0  557965.0  14\n",
       "2     597173.0  575538.0  14\n",
       "3     618600.0  551446.0  14\n",
       "4     635690.0  608046.0  14\n",
       "...        ...       ...  ..\n",
       "4995  665426.0  853940.0   4\n",
       "4996  691827.0  863963.0   4\n",
       "4997  650661.0  861267.0   4\n",
       "4998  599647.0  858702.0   4\n",
       "4999  684091.0  842566.0   4\n",
       "\n",
       "[5000 rows x 3 columns]"
      ]
     },
     "execution_count": 41,
     "metadata": {},
     "output_type": "execute_result"
    }
   ],
   "source": [
    "index = 11\n",
    "df = pd.read_csv(datasets[index])\n",
    "print(datasets[index])\n",
    "df"
   ]
  },
  {
   "cell_type": "code",
   "execution_count": 42,
   "id": "4fc1b1a4-5cce-46c4-96e8-303e771de2e1",
   "metadata": {
    "tags": []
   },
   "outputs": [
    {
     "data": {
      "text/plain": [
       "15"
      ]
     },
     "execution_count": 42,
     "metadata": {},
     "output_type": "execute_result"
    }
   ],
   "source": [
    "len(df[df.columns[-1]].unique())"
   ]
  },
  {
   "cell_type": "code",
   "execution_count": 25,
   "id": "6d7d1139",
   "metadata": {},
   "outputs": [],
   "source": [
    "df.to_csv(datasets[index].replace(\".csv\", \"_y.zip\"), index=False)\n",
    "os.remove(datasets[index])"
   ]
  },
  {
   "cell_type": "markdown",
   "id": "1a14d995",
   "metadata": {},
   "source": [
    "# s-set2"
   ]
  },
  {
   "cell_type": "code",
   "execution_count": 43,
   "id": "14654521",
   "metadata": {
    "tags": []
   },
   "outputs": [
    {
     "name": "stdout",
     "output_type": "stream",
     "text": [
      ".\\s-set2_y.zip\n"
     ]
    },
    {
     "data": {
      "text/html": [
       "<div>\n",
       "<style scoped>\n",
       "    .dataframe tbody tr th:only-of-type {\n",
       "        vertical-align: middle;\n",
       "    }\n",
       "\n",
       "    .dataframe tbody tr th {\n",
       "        vertical-align: top;\n",
       "    }\n",
       "\n",
       "    .dataframe thead th {\n",
       "        text-align: right;\n",
       "    }\n",
       "</style>\n",
       "<table border=\"1\" class=\"dataframe\">\n",
       "  <thead>\n",
       "    <tr style=\"text-align: right;\">\n",
       "      <th></th>\n",
       "      <th>0</th>\n",
       "      <th>1</th>\n",
       "      <th>2</th>\n",
       "    </tr>\n",
       "  </thead>\n",
       "  <tbody>\n",
       "    <tr>\n",
       "      <th>0</th>\n",
       "      <td>845753.0</td>\n",
       "      <td>636607.0</td>\n",
       "      <td>4</td>\n",
       "    </tr>\n",
       "    <tr>\n",
       "      <th>1</th>\n",
       "      <td>812954.0</td>\n",
       "      <td>643720.0</td>\n",
       "      <td>4</td>\n",
       "    </tr>\n",
       "    <tr>\n",
       "      <th>2</th>\n",
       "      <td>868217.0</td>\n",
       "      <td>609046.0</td>\n",
       "      <td>4</td>\n",
       "    </tr>\n",
       "    <tr>\n",
       "      <th>3</th>\n",
       "      <td>920248.0</td>\n",
       "      <td>607272.0</td>\n",
       "      <td>4</td>\n",
       "    </tr>\n",
       "    <tr>\n",
       "      <th>4</th>\n",
       "      <td>841621.0</td>\n",
       "      <td>639394.0</td>\n",
       "      <td>4</td>\n",
       "    </tr>\n",
       "    <tr>\n",
       "      <th>...</th>\n",
       "      <td>...</td>\n",
       "      <td>...</td>\n",
       "      <td>...</td>\n",
       "    </tr>\n",
       "    <tr>\n",
       "      <th>4995</th>\n",
       "      <td>613181.0</td>\n",
       "      <td>100354.0</td>\n",
       "      <td>10</td>\n",
       "    </tr>\n",
       "    <tr>\n",
       "      <th>4996</th>\n",
       "      <td>571664.0</td>\n",
       "      <td>102462.0</td>\n",
       "      <td>10</td>\n",
       "    </tr>\n",
       "    <tr>\n",
       "      <th>4997</th>\n",
       "      <td>711761.0</td>\n",
       "      <td>30810.0</td>\n",
       "      <td>10</td>\n",
       "    </tr>\n",
       "    <tr>\n",
       "      <th>4998</th>\n",
       "      <td>603939.0</td>\n",
       "      <td>77113.0</td>\n",
       "      <td>10</td>\n",
       "    </tr>\n",
       "    <tr>\n",
       "      <th>4999</th>\n",
       "      <td>662080.0</td>\n",
       "      <td>25631.0</td>\n",
       "      <td>10</td>\n",
       "    </tr>\n",
       "  </tbody>\n",
       "</table>\n",
       "<p>5000 rows × 3 columns</p>\n",
       "</div>"
      ],
      "text/plain": [
       "             0         1   2\n",
       "0     845753.0  636607.0   4\n",
       "1     812954.0  643720.0   4\n",
       "2     868217.0  609046.0   4\n",
       "3     920248.0  607272.0   4\n",
       "4     841621.0  639394.0   4\n",
       "...        ...       ...  ..\n",
       "4995  613181.0  100354.0  10\n",
       "4996  571664.0  102462.0  10\n",
       "4997  711761.0   30810.0  10\n",
       "4998  603939.0   77113.0  10\n",
       "4999  662080.0   25631.0  10\n",
       "\n",
       "[5000 rows x 3 columns]"
      ]
     },
     "execution_count": 43,
     "metadata": {},
     "output_type": "execute_result"
    }
   ],
   "source": [
    "index = 12\n",
    "df = pd.read_csv(datasets[index])\n",
    "print(datasets[index])\n",
    "df"
   ]
  },
  {
   "cell_type": "code",
   "execution_count": 44,
   "id": "a2a5281e-4594-4e86-b9d7-e16ea29fe609",
   "metadata": {
    "tags": []
   },
   "outputs": [
    {
     "data": {
      "text/plain": [
       "15"
      ]
     },
     "execution_count": 44,
     "metadata": {},
     "output_type": "execute_result"
    }
   ],
   "source": [
    "len(df[df.columns[-1]].unique())"
   ]
  },
  {
   "cell_type": "code",
   "execution_count": 27,
   "id": "2b8b56f8",
   "metadata": {},
   "outputs": [],
   "source": [
    "df.to_csv(datasets[index].replace(\".csv\", \"_y.zip\"), index=False)\n",
    "os.remove(datasets[index])"
   ]
  },
  {
   "cell_type": "markdown",
   "id": "6cd56287",
   "metadata": {},
   "source": [
    "# tetra"
   ]
  },
  {
   "cell_type": "code",
   "execution_count": 48,
   "id": "2520182f",
   "metadata": {
    "tags": []
   },
   "outputs": [
    {
     "name": "stdout",
     "output_type": "stream",
     "text": [
      ".\\tetra_y.zip\n"
     ]
    },
    {
     "data": {
      "text/html": [
       "<div>\n",
       "<style scoped>\n",
       "    .dataframe tbody tr th:only-of-type {\n",
       "        vertical-align: middle;\n",
       "    }\n",
       "\n",
       "    .dataframe tbody tr th {\n",
       "        vertical-align: top;\n",
       "    }\n",
       "\n",
       "    .dataframe thead th {\n",
       "        text-align: right;\n",
       "    }\n",
       "</style>\n",
       "<table border=\"1\" class=\"dataframe\">\n",
       "  <thead>\n",
       "    <tr style=\"text-align: right;\">\n",
       "      <th></th>\n",
       "      <th>0</th>\n",
       "      <th>1</th>\n",
       "      <th>2</th>\n",
       "      <th>3</th>\n",
       "    </tr>\n",
       "  </thead>\n",
       "  <tbody>\n",
       "    <tr>\n",
       "      <th>0</th>\n",
       "      <td>1.295428</td>\n",
       "      <td>0.050829</td>\n",
       "      <td>-0.385217</td>\n",
       "      <td>1</td>\n",
       "    </tr>\n",
       "    <tr>\n",
       "      <th>1</th>\n",
       "      <td>1.409178</td>\n",
       "      <td>-0.035191</td>\n",
       "      <td>-0.251980</td>\n",
       "      <td>1</td>\n",
       "    </tr>\n",
       "    <tr>\n",
       "      <th>2</th>\n",
       "      <td>1.096803</td>\n",
       "      <td>0.246365</td>\n",
       "      <td>-0.415011</td>\n",
       "      <td>1</td>\n",
       "    </tr>\n",
       "    <tr>\n",
       "      <th>3</th>\n",
       "      <td>1.463328</td>\n",
       "      <td>0.265354</td>\n",
       "      <td>-0.513488</td>\n",
       "      <td>1</td>\n",
       "    </tr>\n",
       "    <tr>\n",
       "      <th>4</th>\n",
       "      <td>1.603284</td>\n",
       "      <td>0.080577</td>\n",
       "      <td>-0.470257</td>\n",
       "      <td>1</td>\n",
       "    </tr>\n",
       "    <tr>\n",
       "      <th>...</th>\n",
       "      <td>...</td>\n",
       "      <td>...</td>\n",
       "      <td>...</td>\n",
       "      <td>...</td>\n",
       "    </tr>\n",
       "    <tr>\n",
       "      <th>395</th>\n",
       "      <td>0.795695</td>\n",
       "      <td>0.209456</td>\n",
       "      <td>1.880609</td>\n",
       "      <td>4</td>\n",
       "    </tr>\n",
       "    <tr>\n",
       "      <th>396</th>\n",
       "      <td>0.653127</td>\n",
       "      <td>-0.703156</td>\n",
       "      <td>1.549448</td>\n",
       "      <td>4</td>\n",
       "    </tr>\n",
       "    <tr>\n",
       "      <th>397</th>\n",
       "      <td>-0.726249</td>\n",
       "      <td>-0.103244</td>\n",
       "      <td>0.694300</td>\n",
       "      <td>4</td>\n",
       "    </tr>\n",
       "    <tr>\n",
       "      <th>398</th>\n",
       "      <td>0.808596</td>\n",
       "      <td>-0.492640</td>\n",
       "      <td>1.649370</td>\n",
       "      <td>4</td>\n",
       "    </tr>\n",
       "    <tr>\n",
       "      <th>399</th>\n",
       "      <td>0.749291</td>\n",
       "      <td>-0.447840</td>\n",
       "      <td>0.863555</td>\n",
       "      <td>4</td>\n",
       "    </tr>\n",
       "  </tbody>\n",
       "</table>\n",
       "<p>400 rows × 4 columns</p>\n",
       "</div>"
      ],
      "text/plain": [
       "            0         1         2  3\n",
       "0    1.295428  0.050829 -0.385217  1\n",
       "1    1.409178 -0.035191 -0.251980  1\n",
       "2    1.096803  0.246365 -0.415011  1\n",
       "3    1.463328  0.265354 -0.513488  1\n",
       "4    1.603284  0.080577 -0.470257  1\n",
       "..        ...       ...       ... ..\n",
       "395  0.795695  0.209456  1.880609  4\n",
       "396  0.653127 -0.703156  1.549448  4\n",
       "397 -0.726249 -0.103244  0.694300  4\n",
       "398  0.808596 -0.492640  1.649370  4\n",
       "399  0.749291 -0.447840  0.863555  4\n",
       "\n",
       "[400 rows x 4 columns]"
      ]
     },
     "execution_count": 48,
     "metadata": {},
     "output_type": "execute_result"
    }
   ],
   "source": [
    "index = 13\n",
    "df = pd.read_csv(datasets[index],)\n",
    "print(datasets[index])\n",
    "df"
   ]
  },
  {
   "cell_type": "code",
   "execution_count": 49,
   "id": "e202665b-a5fc-464c-a2d3-938e905df222",
   "metadata": {
    "tags": []
   },
   "outputs": [
    {
     "data": {
      "text/plain": [
       "4"
      ]
     },
     "execution_count": 49,
     "metadata": {},
     "output_type": "execute_result"
    }
   ],
   "source": [
    "len(df[df.columns[-1]].unique())"
   ]
  },
  {
   "cell_type": "code",
   "execution_count": 29,
   "id": "60d969c5",
   "metadata": {},
   "outputs": [],
   "source": [
    "df.to_csv(datasets[index].replace(\".csv\", \"_y.zip\"), index=False)\n",
    "os.remove(datasets[index])"
   ]
  },
  {
   "cell_type": "markdown",
   "id": "d52405d1",
   "metadata": {},
   "source": [
    "# triangle1"
   ]
  },
  {
   "cell_type": "code",
   "execution_count": 50,
   "id": "d00e4537",
   "metadata": {
    "tags": []
   },
   "outputs": [
    {
     "name": "stdout",
     "output_type": "stream",
     "text": [
      ".\\triangle1_y.zip\n"
     ]
    },
    {
     "data": {
      "text/html": [
       "<div>\n",
       "<style scoped>\n",
       "    .dataframe tbody tr th:only-of-type {\n",
       "        vertical-align: middle;\n",
       "    }\n",
       "\n",
       "    .dataframe tbody tr th {\n",
       "        vertical-align: top;\n",
       "    }\n",
       "\n",
       "    .dataframe thead th {\n",
       "        text-align: right;\n",
       "    }\n",
       "</style>\n",
       "<table border=\"1\" class=\"dataframe\">\n",
       "  <thead>\n",
       "    <tr style=\"text-align: right;\">\n",
       "      <th></th>\n",
       "      <th>0</th>\n",
       "      <th>1</th>\n",
       "      <th>2</th>\n",
       "    </tr>\n",
       "  </thead>\n",
       "  <tbody>\n",
       "    <tr>\n",
       "      <th>0</th>\n",
       "      <td>10.642700</td>\n",
       "      <td>13.294000</td>\n",
       "      <td>0</td>\n",
       "    </tr>\n",
       "    <tr>\n",
       "      <th>1</th>\n",
       "      <td>12.198900</td>\n",
       "      <td>10.224500</td>\n",
       "      <td>0</td>\n",
       "    </tr>\n",
       "    <tr>\n",
       "      <th>2</th>\n",
       "      <td>10.368100</td>\n",
       "      <td>11.840200</td>\n",
       "      <td>0</td>\n",
       "    </tr>\n",
       "    <tr>\n",
       "      <th>3</th>\n",
       "      <td>10.551000</td>\n",
       "      <td>12.416300</td>\n",
       "      <td>0</td>\n",
       "    </tr>\n",
       "    <tr>\n",
       "      <th>4</th>\n",
       "      <td>12.147400</td>\n",
       "      <td>10.336900</td>\n",
       "      <td>0</td>\n",
       "    </tr>\n",
       "    <tr>\n",
       "      <th>...</th>\n",
       "      <td>...</td>\n",
       "      <td>...</td>\n",
       "      <td>...</td>\n",
       "    </tr>\n",
       "    <tr>\n",
       "      <th>995</th>\n",
       "      <td>1.475810</td>\n",
       "      <td>5.078750</td>\n",
       "      <td>3</td>\n",
       "    </tr>\n",
       "    <tr>\n",
       "      <th>996</th>\n",
       "      <td>1.710590</td>\n",
       "      <td>-0.683223</td>\n",
       "      <td>3</td>\n",
       "    </tr>\n",
       "    <tr>\n",
       "      <th>997</th>\n",
       "      <td>1.737740</td>\n",
       "      <td>-5.135940</td>\n",
       "      <td>3</td>\n",
       "    </tr>\n",
       "    <tr>\n",
       "      <th>998</th>\n",
       "      <td>0.683088</td>\n",
       "      <td>2.478890</td>\n",
       "      <td>3</td>\n",
       "    </tr>\n",
       "    <tr>\n",
       "      <th>999</th>\n",
       "      <td>-0.524523</td>\n",
       "      <td>-3.406590</td>\n",
       "      <td>3</td>\n",
       "    </tr>\n",
       "  </tbody>\n",
       "</table>\n",
       "<p>1000 rows × 3 columns</p>\n",
       "</div>"
      ],
      "text/plain": [
       "             0          1  2\n",
       "0    10.642700  13.294000  0\n",
       "1    12.198900  10.224500  0\n",
       "2    10.368100  11.840200  0\n",
       "3    10.551000  12.416300  0\n",
       "4    12.147400  10.336900  0\n",
       "..         ...        ... ..\n",
       "995   1.475810   5.078750  3\n",
       "996   1.710590  -0.683223  3\n",
       "997   1.737740  -5.135940  3\n",
       "998   0.683088   2.478890  3\n",
       "999  -0.524523  -3.406590  3\n",
       "\n",
       "[1000 rows x 3 columns]"
      ]
     },
     "execution_count": 50,
     "metadata": {},
     "output_type": "execute_result"
    }
   ],
   "source": [
    "index = 14\n",
    "df = pd.read_csv(datasets[index])\n",
    "print(datasets[index])\n",
    "df"
   ]
  },
  {
   "cell_type": "code",
   "execution_count": 51,
   "id": "b36640c8-198f-4939-b9bd-ee879eafc793",
   "metadata": {
    "tags": []
   },
   "outputs": [
    {
     "data": {
      "text/plain": [
       "4"
      ]
     },
     "execution_count": 51,
     "metadata": {},
     "output_type": "execute_result"
    }
   ],
   "source": [
    "len(df[df.columns[-1]].unique())"
   ]
  },
  {
   "cell_type": "code",
   "execution_count": 31,
   "id": "64004e21",
   "metadata": {},
   "outputs": [],
   "source": [
    "df.to_csv(datasets[index].replace(\".csv\", \"_y.zip\"), index=False)\n",
    "os.remove(datasets[index])"
   ]
  },
  {
   "cell_type": "markdown",
   "id": "445ec284",
   "metadata": {},
   "source": [
    "# triangle2"
   ]
  },
  {
   "cell_type": "code",
   "execution_count": 52,
   "id": "02151468",
   "metadata": {
    "tags": []
   },
   "outputs": [
    {
     "name": "stdout",
     "output_type": "stream",
     "text": [
      ".\\triangle2_y.zip\n"
     ]
    },
    {
     "data": {
      "text/html": [
       "<div>\n",
       "<style scoped>\n",
       "    .dataframe tbody tr th:only-of-type {\n",
       "        vertical-align: middle;\n",
       "    }\n",
       "\n",
       "    .dataframe tbody tr th {\n",
       "        vertical-align: top;\n",
       "    }\n",
       "\n",
       "    .dataframe thead th {\n",
       "        text-align: right;\n",
       "    }\n",
       "</style>\n",
       "<table border=\"1\" class=\"dataframe\">\n",
       "  <thead>\n",
       "    <tr style=\"text-align: right;\">\n",
       "      <th></th>\n",
       "      <th>0</th>\n",
       "      <th>1</th>\n",
       "      <th>2</th>\n",
       "    </tr>\n",
       "  </thead>\n",
       "  <tbody>\n",
       "    <tr>\n",
       "      <th>0</th>\n",
       "      <td>10.285300</td>\n",
       "      <td>15.587900</td>\n",
       "      <td>0</td>\n",
       "    </tr>\n",
       "    <tr>\n",
       "      <th>1</th>\n",
       "      <td>13.397700</td>\n",
       "      <td>9.448900</td>\n",
       "      <td>0</td>\n",
       "    </tr>\n",
       "    <tr>\n",
       "      <th>2</th>\n",
       "      <td>9.736240</td>\n",
       "      <td>12.680300</td>\n",
       "      <td>0</td>\n",
       "    </tr>\n",
       "    <tr>\n",
       "      <th>3</th>\n",
       "      <td>10.102000</td>\n",
       "      <td>13.832700</td>\n",
       "      <td>0</td>\n",
       "    </tr>\n",
       "    <tr>\n",
       "      <th>4</th>\n",
       "      <td>13.294800</td>\n",
       "      <td>9.673730</td>\n",
       "      <td>0</td>\n",
       "    </tr>\n",
       "    <tr>\n",
       "      <th>...</th>\n",
       "      <td>...</td>\n",
       "      <td>...</td>\n",
       "      <td>...</td>\n",
       "    </tr>\n",
       "    <tr>\n",
       "      <th>995</th>\n",
       "      <td>1.951620</td>\n",
       "      <td>5.078750</td>\n",
       "      <td>3</td>\n",
       "    </tr>\n",
       "    <tr>\n",
       "      <th>996</th>\n",
       "      <td>2.421170</td>\n",
       "      <td>-0.683223</td>\n",
       "      <td>3</td>\n",
       "    </tr>\n",
       "    <tr>\n",
       "      <th>997</th>\n",
       "      <td>2.475480</td>\n",
       "      <td>-5.135940</td>\n",
       "      <td>3</td>\n",
       "    </tr>\n",
       "    <tr>\n",
       "      <th>998</th>\n",
       "      <td>0.366175</td>\n",
       "      <td>2.478890</td>\n",
       "      <td>3</td>\n",
       "    </tr>\n",
       "    <tr>\n",
       "      <th>999</th>\n",
       "      <td>-2.049050</td>\n",
       "      <td>-3.406590</td>\n",
       "      <td>3</td>\n",
       "    </tr>\n",
       "  </tbody>\n",
       "</table>\n",
       "<p>1000 rows × 3 columns</p>\n",
       "</div>"
      ],
      "text/plain": [
       "             0          1  2\n",
       "0    10.285300  15.587900  0\n",
       "1    13.397700   9.448900  0\n",
       "2     9.736240  12.680300  0\n",
       "3    10.102000  13.832700  0\n",
       "4    13.294800   9.673730  0\n",
       "..         ...        ... ..\n",
       "995   1.951620   5.078750  3\n",
       "996   2.421170  -0.683223  3\n",
       "997   2.475480  -5.135940  3\n",
       "998   0.366175   2.478890  3\n",
       "999  -2.049050  -3.406590  3\n",
       "\n",
       "[1000 rows x 3 columns]"
      ]
     },
     "execution_count": 52,
     "metadata": {},
     "output_type": "execute_result"
    }
   ],
   "source": [
    "index = 15\n",
    "df = pd.read_csv(datasets[index])\n",
    "print(datasets[index])\n",
    "df"
   ]
  },
  {
   "cell_type": "code",
   "execution_count": 53,
   "id": "062299d5-ea66-4723-bc6c-3ab2b1c0e1b2",
   "metadata": {
    "tags": []
   },
   "outputs": [
    {
     "data": {
      "text/plain": [
       "4"
      ]
     },
     "execution_count": 53,
     "metadata": {},
     "output_type": "execute_result"
    }
   ],
   "source": [
    "len(df[df.columns[-1]].unique())"
   ]
  },
  {
   "cell_type": "code",
   "execution_count": 33,
   "id": "18861b01",
   "metadata": {},
   "outputs": [],
   "source": [
    "df.to_csv(datasets[index].replace(\".csv\", \"_y.zip\"), index=False)\n",
    "os.remove(datasets[index])"
   ]
  },
  {
   "cell_type": "markdown",
   "id": "674dc726",
   "metadata": {},
   "source": [
    "# zelnik5"
   ]
  },
  {
   "cell_type": "code",
   "execution_count": 58,
   "id": "fbc4c0ea",
   "metadata": {
    "tags": []
   },
   "outputs": [
    {
     "name": "stdout",
     "output_type": "stream",
     "text": [
      ".\\zelnik5_y.zip\n"
     ]
    },
    {
     "data": {
      "text/html": [
       "<div>\n",
       "<style scoped>\n",
       "    .dataframe tbody tr th:only-of-type {\n",
       "        vertical-align: middle;\n",
       "    }\n",
       "\n",
       "    .dataframe tbody tr th {\n",
       "        vertical-align: top;\n",
       "    }\n",
       "\n",
       "    .dataframe thead th {\n",
       "        text-align: right;\n",
       "    }\n",
       "</style>\n",
       "<table border=\"1\" class=\"dataframe\">\n",
       "  <thead>\n",
       "    <tr style=\"text-align: right;\">\n",
       "      <th></th>\n",
       "      <th>0</th>\n",
       "      <th>1</th>\n",
       "      <th>2</th>\n",
       "    </tr>\n",
       "  </thead>\n",
       "  <tbody>\n",
       "    <tr>\n",
       "      <th>0</th>\n",
       "      <td>0.092652</td>\n",
       "      <td>0.818994</td>\n",
       "      <td>3</td>\n",
       "    </tr>\n",
       "    <tr>\n",
       "      <th>1</th>\n",
       "      <td>0.098849</td>\n",
       "      <td>0.802363</td>\n",
       "      <td>3</td>\n",
       "    </tr>\n",
       "    <tr>\n",
       "      <th>2</th>\n",
       "      <td>0.105046</td>\n",
       "      <td>0.786364</td>\n",
       "      <td>3</td>\n",
       "    </tr>\n",
       "    <tr>\n",
       "      <th>3</th>\n",
       "      <td>0.111243</td>\n",
       "      <td>0.814959</td>\n",
       "      <td>3</td>\n",
       "    </tr>\n",
       "    <tr>\n",
       "      <th>4</th>\n",
       "      <td>0.117440</td>\n",
       "      <td>0.798893</td>\n",
       "      <td>3</td>\n",
       "    </tr>\n",
       "    <tr>\n",
       "      <th>...</th>\n",
       "      <td>...</td>\n",
       "      <td>...</td>\n",
       "      <td>...</td>\n",
       "    </tr>\n",
       "    <tr>\n",
       "      <th>507</th>\n",
       "      <td>0.557425</td>\n",
       "      <td>0.841840</td>\n",
       "      <td>3</td>\n",
       "    </tr>\n",
       "    <tr>\n",
       "      <th>508</th>\n",
       "      <td>0.755729</td>\n",
       "      <td>0.839686</td>\n",
       "      <td>3</td>\n",
       "    </tr>\n",
       "    <tr>\n",
       "      <th>509</th>\n",
       "      <td>0.193923</td>\n",
       "      <td>0.419006</td>\n",
       "      <td>0</td>\n",
       "    </tr>\n",
       "    <tr>\n",
       "      <th>510</th>\n",
       "      <td>0.588460</td>\n",
       "      <td>0.438360</td>\n",
       "      <td>0</td>\n",
       "    </tr>\n",
       "    <tr>\n",
       "      <th>511</th>\n",
       "      <td>0.800523</td>\n",
       "      <td>0.439229</td>\n",
       "      <td>0</td>\n",
       "    </tr>\n",
       "  </tbody>\n",
       "</table>\n",
       "<p>512 rows × 3 columns</p>\n",
       "</div>"
      ],
      "text/plain": [
       "            0         1  2\n",
       "0    0.092652  0.818994  3\n",
       "1    0.098849  0.802363  3\n",
       "2    0.105046  0.786364  3\n",
       "3    0.111243  0.814959  3\n",
       "4    0.117440  0.798893  3\n",
       "..        ...       ... ..\n",
       "507  0.557425  0.841840  3\n",
       "508  0.755729  0.839686  3\n",
       "509  0.193923  0.419006  0\n",
       "510  0.588460  0.438360  0\n",
       "511  0.800523  0.439229  0\n",
       "\n",
       "[512 rows x 3 columns]"
      ]
     },
     "execution_count": 58,
     "metadata": {},
     "output_type": "execute_result"
    }
   ],
   "source": [
    "index = 16\n",
    "df = pd.read_csv(datasets[index])\n",
    "print(datasets[index])\n",
    "df"
   ]
  },
  {
   "cell_type": "code",
   "execution_count": 59,
   "id": "08dde00c-2c39-4257-b6a6-12902aa0f144",
   "metadata": {
    "tags": []
   },
   "outputs": [
    {
     "data": {
      "text/plain": [
       "4"
      ]
     },
     "execution_count": 59,
     "metadata": {},
     "output_type": "execute_result"
    }
   ],
   "source": [
    "len(df[df.columns[-1]].unique())"
   ]
  },
  {
   "cell_type": "code",
   "execution_count": 35,
   "id": "9c9afebc",
   "metadata": {},
   "outputs": [],
   "source": [
    "df.to_csv(datasets[index].replace(\".csv\", \"_y.zip\"), index=False)\n",
    "os.remove(datasets[index])"
   ]
  },
  {
   "cell_type": "markdown",
   "id": "0fcba5fc",
   "metadata": {},
   "source": [
    "# zelnik6"
   ]
  },
  {
   "cell_type": "code",
   "execution_count": 60,
   "id": "4b7ca477",
   "metadata": {
    "tags": []
   },
   "outputs": [
    {
     "name": "stdout",
     "output_type": "stream",
     "text": [
      ".\\zelnik6_y.zip\n"
     ]
    },
    {
     "data": {
      "text/html": [
       "<div>\n",
       "<style scoped>\n",
       "    .dataframe tbody tr th:only-of-type {\n",
       "        vertical-align: middle;\n",
       "    }\n",
       "\n",
       "    .dataframe tbody tr th {\n",
       "        vertical-align: top;\n",
       "    }\n",
       "\n",
       "    .dataframe thead th {\n",
       "        text-align: right;\n",
       "    }\n",
       "</style>\n",
       "<table border=\"1\" class=\"dataframe\">\n",
       "  <thead>\n",
       "    <tr style=\"text-align: right;\">\n",
       "      <th></th>\n",
       "      <th>0</th>\n",
       "      <th>1</th>\n",
       "      <th>2</th>\n",
       "    </tr>\n",
       "  </thead>\n",
       "  <tbody>\n",
       "    <tr>\n",
       "      <th>0</th>\n",
       "      <td>0.451804</td>\n",
       "      <td>0.302462</td>\n",
       "      <td>1</td>\n",
       "    </tr>\n",
       "    <tr>\n",
       "      <th>1</th>\n",
       "      <td>0.459060</td>\n",
       "      <td>0.239156</td>\n",
       "      <td>1</td>\n",
       "    </tr>\n",
       "    <tr>\n",
       "      <th>2</th>\n",
       "      <td>0.428565</td>\n",
       "      <td>0.286293</td>\n",
       "      <td>1</td>\n",
       "    </tr>\n",
       "    <tr>\n",
       "      <th>3</th>\n",
       "      <td>0.484390</td>\n",
       "      <td>0.268000</td>\n",
       "      <td>1</td>\n",
       "    </tr>\n",
       "    <tr>\n",
       "      <th>4</th>\n",
       "      <td>0.488491</td>\n",
       "      <td>0.314003</td>\n",
       "      <td>1</td>\n",
       "    </tr>\n",
       "    <tr>\n",
       "      <th>...</th>\n",
       "      <td>...</td>\n",
       "      <td>...</td>\n",
       "      <td>...</td>\n",
       "    </tr>\n",
       "    <tr>\n",
       "      <th>233</th>\n",
       "      <td>0.743119</td>\n",
       "      <td>0.349812</td>\n",
       "      <td>2</td>\n",
       "    </tr>\n",
       "    <tr>\n",
       "      <th>234</th>\n",
       "      <td>0.755731</td>\n",
       "      <td>0.374536</td>\n",
       "      <td>2</td>\n",
       "    </tr>\n",
       "    <tr>\n",
       "      <th>235</th>\n",
       "      <td>0.751008</td>\n",
       "      <td>0.416761</td>\n",
       "      <td>2</td>\n",
       "    </tr>\n",
       "    <tr>\n",
       "      <th>236</th>\n",
       "      <td>0.750196</td>\n",
       "      <td>0.461943</td>\n",
       "      <td>2</td>\n",
       "    </tr>\n",
       "    <tr>\n",
       "      <th>237</th>\n",
       "      <td>0.761370</td>\n",
       "      <td>0.492678</td>\n",
       "      <td>2</td>\n",
       "    </tr>\n",
       "  </tbody>\n",
       "</table>\n",
       "<p>238 rows × 3 columns</p>\n",
       "</div>"
      ],
      "text/plain": [
       "            0         1  2\n",
       "0    0.451804  0.302462  1\n",
       "1    0.459060  0.239156  1\n",
       "2    0.428565  0.286293  1\n",
       "3    0.484390  0.268000  1\n",
       "4    0.488491  0.314003  1\n",
       "..        ...       ... ..\n",
       "233  0.743119  0.349812  2\n",
       "234  0.755731  0.374536  2\n",
       "235  0.751008  0.416761  2\n",
       "236  0.750196  0.461943  2\n",
       "237  0.761370  0.492678  2\n",
       "\n",
       "[238 rows x 3 columns]"
      ]
     },
     "execution_count": 60,
     "metadata": {},
     "output_type": "execute_result"
    }
   ],
   "source": [
    "index = 17\n",
    "df = pd.read_csv(datasets[index])\n",
    "print(datasets[index])\n",
    "df"
   ]
  },
  {
   "cell_type": "code",
   "execution_count": 61,
   "id": "f740dac1-a75f-4387-96ac-fdb52ec60fe4",
   "metadata": {
    "tags": []
   },
   "outputs": [
    {
     "data": {
      "text/plain": [
       "3"
      ]
     },
     "execution_count": 61,
     "metadata": {},
     "output_type": "execute_result"
    }
   ],
   "source": [
    "len(df[df.columns[-1]].unique())"
   ]
  },
  {
   "cell_type": "code",
   "execution_count": 38,
   "id": "9c511b04",
   "metadata": {},
   "outputs": [
    {
     "ename": "FileNotFoundError",
     "evalue": "[WinError 2] Impossibile trovare il file specificato: '.\\\\zelnik6.csv'",
     "output_type": "error",
     "traceback": [
      "\u001B[1;31m---------------------------------------------------------------------------\u001B[0m",
      "\u001B[1;31mFileNotFoundError\u001B[0m                         Traceback (most recent call last)",
      "Input \u001B[1;32mIn [38]\u001B[0m, in \u001B[0;36m<cell line: 2>\u001B[1;34m()\u001B[0m\n\u001B[0;32m      1\u001B[0m df\u001B[38;5;241m.\u001B[39mto_csv(datasets[index]\u001B[38;5;241m.\u001B[39mreplace(\u001B[38;5;124m\"\u001B[39m\u001B[38;5;124m.csv\u001B[39m\u001B[38;5;124m\"\u001B[39m, \u001B[38;5;124m\"\u001B[39m\u001B[38;5;124m_y.zip\u001B[39m\u001B[38;5;124m\"\u001B[39m), index\u001B[38;5;241m=\u001B[39m\u001B[38;5;28;01mFalse\u001B[39;00m)\n\u001B[1;32m----> 2\u001B[0m \u001B[43mos\u001B[49m\u001B[38;5;241;43m.\u001B[39;49m\u001B[43mremove\u001B[49m\u001B[43m(\u001B[49m\u001B[43mdatasets\u001B[49m\u001B[43m[\u001B[49m\u001B[43mindex\u001B[49m\u001B[43m]\u001B[49m\u001B[43m)\u001B[49m\n",
      "\u001B[1;31mFileNotFoundError\u001B[0m: [WinError 2] Impossibile trovare il file specificato: '.\\\\zelnik6.csv'"
     ]
    }
   ],
   "source": [
    "df.to_csv(datasets[index].replace(\".csv\", \"_y.zip\"), index=False)\n",
    "os.remove(datasets[index])"
   ]
  },
  {
   "cell_type": "markdown",
   "id": "93391e86",
   "metadata": {},
   "source": [
    "# 2d-4c-no4"
   ]
  },
  {
   "cell_type": "code",
   "execution_count": 62,
   "id": "00940084",
   "metadata": {
    "tags": []
   },
   "outputs": [
    {
     "ename": "IndexError",
     "evalue": "list index out of range",
     "output_type": "error",
     "traceback": [
      "\u001B[1;31m---------------------------------------------------------------------------\u001B[0m",
      "\u001B[1;31mIndexError\u001B[0m                                Traceback (most recent call last)",
      "Input \u001B[1;32mIn [62]\u001B[0m, in \u001B[0;36m<cell line: 2>\u001B[1;34m()\u001B[0m\n\u001B[0;32m      1\u001B[0m index \u001B[38;5;241m=\u001B[39m \u001B[38;5;241m18\u001B[39m\n\u001B[1;32m----> 2\u001B[0m df \u001B[38;5;241m=\u001B[39m pd\u001B[38;5;241m.\u001B[39mread_csv(\u001B[43mdatasets\u001B[49m\u001B[43m[\u001B[49m\u001B[43mindex\u001B[49m\u001B[43m]\u001B[49m, header\u001B[38;5;241m=\u001B[39m\u001B[38;5;28;01mNone\u001B[39;00m)\n\u001B[0;32m      3\u001B[0m \u001B[38;5;28mprint\u001B[39m(datasets[index])\n\u001B[0;32m      4\u001B[0m df\n",
      "\u001B[1;31mIndexError\u001B[0m: list index out of range"
     ]
    }
   ],
   "source": [
    "index = 18\n",
    "df = pd.read_csv(datasets[index], header=None)\n",
    "print(datasets[index])\n",
    "df"
   ]
  },
  {
   "cell_type": "code",
   "execution_count": 40,
   "id": "fe2f914b",
   "metadata": {},
   "outputs": [],
   "source": [
    "df.to_csv(datasets[index].replace(\".csv\", \"_y.zip\"), index=False)\n",
    "os.remove(datasets[index])"
   ]
  },
  {
   "cell_type": "markdown",
   "id": "f00bc2a3",
   "metadata": {},
   "source": [
    "# dim032"
   ]
  },
  {
   "cell_type": "code",
   "execution_count": 41,
   "id": "2cd0b714",
   "metadata": {},
   "outputs": [
    {
     "name": "stdout",
     "output_type": "stream",
     "text": [
      ".\\dim032.pa.txt\t.\\dim032.txt\n"
     ]
    },
    {
     "data": {
      "text/html": [
       "<div>\n",
       "<style scoped>\n",
       "    .dataframe tbody tr th:only-of-type {\n",
       "        vertical-align: middle;\n",
       "    }\n",
       "\n",
       "    .dataframe tbody tr th {\n",
       "        vertical-align: top;\n",
       "    }\n",
       "\n",
       "    .dataframe thead th {\n",
       "        text-align: right;\n",
       "    }\n",
       "</style>\n",
       "<table border=\"1\" class=\"dataframe\">\n",
       "  <thead>\n",
       "    <tr style=\"text-align: right;\">\n",
       "      <th></th>\n",
       "      <th>0</th>\n",
       "      <th>1</th>\n",
       "      <th>2</th>\n",
       "      <th>3</th>\n",
       "      <th>4</th>\n",
       "      <th>5</th>\n",
       "      <th>6</th>\n",
       "      <th>7</th>\n",
       "      <th>8</th>\n",
       "      <th>9</th>\n",
       "      <th>...</th>\n",
       "      <th>23</th>\n",
       "      <th>24</th>\n",
       "      <th>25</th>\n",
       "      <th>26</th>\n",
       "      <th>27</th>\n",
       "      <th>28</th>\n",
       "      <th>29</th>\n",
       "      <th>30</th>\n",
       "      <th>31</th>\n",
       "      <th>pa</th>\n",
       "    </tr>\n",
       "  </thead>\n",
       "  <tbody>\n",
       "    <tr>\n",
       "      <th>0</th>\n",
       "      <td>84</td>\n",
       "      <td>152</td>\n",
       "      <td>100</td>\n",
       "      <td>52</td>\n",
       "      <td>95</td>\n",
       "      <td>186</td>\n",
       "      <td>169</td>\n",
       "      <td>106</td>\n",
       "      <td>37</td>\n",
       "      <td>186</td>\n",
       "      <td>...</td>\n",
       "      <td>65</td>\n",
       "      <td>214</td>\n",
       "      <td>116</td>\n",
       "      <td>75</td>\n",
       "      <td>55</td>\n",
       "      <td>123</td>\n",
       "      <td>65</td>\n",
       "      <td>154</td>\n",
       "      <td>177</td>\n",
       "      <td>1</td>\n",
       "    </tr>\n",
       "    <tr>\n",
       "      <th>1</th>\n",
       "      <td>86</td>\n",
       "      <td>149</td>\n",
       "      <td>101</td>\n",
       "      <td>56</td>\n",
       "      <td>93</td>\n",
       "      <td>181</td>\n",
       "      <td>171</td>\n",
       "      <td>116</td>\n",
       "      <td>37</td>\n",
       "      <td>192</td>\n",
       "      <td>...</td>\n",
       "      <td>79</td>\n",
       "      <td>215</td>\n",
       "      <td>116</td>\n",
       "      <td>76</td>\n",
       "      <td>60</td>\n",
       "      <td>130</td>\n",
       "      <td>71</td>\n",
       "      <td>151</td>\n",
       "      <td>181</td>\n",
       "      <td>1</td>\n",
       "    </tr>\n",
       "    <tr>\n",
       "      <th>2</th>\n",
       "      <td>83</td>\n",
       "      <td>149</td>\n",
       "      <td>99</td>\n",
       "      <td>51</td>\n",
       "      <td>96</td>\n",
       "      <td>187</td>\n",
       "      <td>169</td>\n",
       "      <td>108</td>\n",
       "      <td>34</td>\n",
       "      <td>191</td>\n",
       "      <td>...</td>\n",
       "      <td>65</td>\n",
       "      <td>213</td>\n",
       "      <td>118</td>\n",
       "      <td>73</td>\n",
       "      <td>55</td>\n",
       "      <td>125</td>\n",
       "      <td>63</td>\n",
       "      <td>155</td>\n",
       "      <td>178</td>\n",
       "      <td>1</td>\n",
       "    </tr>\n",
       "    <tr>\n",
       "      <th>3</th>\n",
       "      <td>86</td>\n",
       "      <td>142</td>\n",
       "      <td>101</td>\n",
       "      <td>64</td>\n",
       "      <td>105</td>\n",
       "      <td>183</td>\n",
       "      <td>172</td>\n",
       "      <td>116</td>\n",
       "      <td>49</td>\n",
       "      <td>180</td>\n",
       "      <td>...</td>\n",
       "      <td>69</td>\n",
       "      <td>209</td>\n",
       "      <td>120</td>\n",
       "      <td>68</td>\n",
       "      <td>56</td>\n",
       "      <td>123</td>\n",
       "      <td>67</td>\n",
       "      <td>144</td>\n",
       "      <td>181</td>\n",
       "      <td>1</td>\n",
       "    </tr>\n",
       "    <tr>\n",
       "      <th>4</th>\n",
       "      <td>89</td>\n",
       "      <td>145</td>\n",
       "      <td>108</td>\n",
       "      <td>54</td>\n",
       "      <td>91</td>\n",
       "      <td>180</td>\n",
       "      <td>175</td>\n",
       "      <td>107</td>\n",
       "      <td>35</td>\n",
       "      <td>192</td>\n",
       "      <td>...</td>\n",
       "      <td>67</td>\n",
       "      <td>212</td>\n",
       "      <td>118</td>\n",
       "      <td>91</td>\n",
       "      <td>50</td>\n",
       "      <td>135</td>\n",
       "      <td>58</td>\n",
       "      <td>147</td>\n",
       "      <td>165</td>\n",
       "      <td>1</td>\n",
       "    </tr>\n",
       "  </tbody>\n",
       "</table>\n",
       "<p>5 rows × 33 columns</p>\n",
       "</div>"
      ],
      "text/plain": [
       "    0    1    2   3    4    5    6    7   8    9  ...  23   24   25  26  27  \\\n",
       "0  84  152  100  52   95  186  169  106  37  186  ...  65  214  116  75  55   \n",
       "1  86  149  101  56   93  181  171  116  37  192  ...  79  215  116  76  60   \n",
       "2  83  149   99  51   96  187  169  108  34  191  ...  65  213  118  73  55   \n",
       "3  86  142  101  64  105  183  172  116  49  180  ...  69  209  120  68  56   \n",
       "4  89  145  108  54   91  180  175  107  35  192  ...  67  212  118  91  50   \n",
       "\n",
       "    28  29   30   31  pa  \n",
       "0  123  65  154  177   1  \n",
       "1  130  71  151  181   1  \n",
       "2  125  63  155  178   1  \n",
       "3  123  67  144  181   1  \n",
       "4  135  58  147  165   1  \n",
       "\n",
       "[5 rows x 33 columns]"
      ]
     },
     "execution_count": 41,
     "metadata": {},
     "output_type": "execute_result"
    }
   ],
   "source": [
    "index = 19\n",
    "df_pa = pd.read_csv(datasets[index], names=[\"pa\"])\n",
    "df = pd.read_csv(datasets[index+1], header=None, sep=\"\\s+\")\n",
    "df[\"pa\"] = df_pa[\"pa\"]\n",
    "print(f\"{datasets[index]}\\t{datasets[index+1]}\")\n",
    "df.head()"
   ]
  },
  {
   "cell_type": "code",
   "execution_count": 42,
   "id": "3bc4c8b7",
   "metadata": {},
   "outputs": [],
   "source": [
    "df.to_csv(datasets[index+1].replace(\".csv\", \"_y.zip\"), index=False)\n",
    "os.remove(datasets[index])\n",
    "os.remove(datasets[index+1])"
   ]
  },
  {
   "cell_type": "markdown",
   "id": "5c1612cf",
   "metadata": {},
   "source": [
    "# dim064"
   ]
  },
  {
   "cell_type": "code",
   "execution_count": 43,
   "id": "2c505cc7",
   "metadata": {},
   "outputs": [
    {
     "name": "stdout",
     "output_type": "stream",
     "text": [
      ".\\dim064.pa.txt\t.\\dim064.txt\n"
     ]
    },
    {
     "data": {
      "text/html": [
       "<div>\n",
       "<style scoped>\n",
       "    .dataframe tbody tr th:only-of-type {\n",
       "        vertical-align: middle;\n",
       "    }\n",
       "\n",
       "    .dataframe tbody tr th {\n",
       "        vertical-align: top;\n",
       "    }\n",
       "\n",
       "    .dataframe thead th {\n",
       "        text-align: right;\n",
       "    }\n",
       "</style>\n",
       "<table border=\"1\" class=\"dataframe\">\n",
       "  <thead>\n",
       "    <tr style=\"text-align: right;\">\n",
       "      <th></th>\n",
       "      <th>0</th>\n",
       "      <th>1</th>\n",
       "      <th>2</th>\n",
       "      <th>3</th>\n",
       "      <th>4</th>\n",
       "      <th>5</th>\n",
       "      <th>6</th>\n",
       "      <th>7</th>\n",
       "      <th>8</th>\n",
       "      <th>9</th>\n",
       "      <th>...</th>\n",
       "      <th>55</th>\n",
       "      <th>56</th>\n",
       "      <th>57</th>\n",
       "      <th>58</th>\n",
       "      <th>59</th>\n",
       "      <th>60</th>\n",
       "      <th>61</th>\n",
       "      <th>62</th>\n",
       "      <th>63</th>\n",
       "      <th>pa</th>\n",
       "    </tr>\n",
       "  </thead>\n",
       "  <tbody>\n",
       "    <tr>\n",
       "      <th>0</th>\n",
       "      <td>165</td>\n",
       "      <td>96</td>\n",
       "      <td>188</td>\n",
       "      <td>122</td>\n",
       "      <td>151</td>\n",
       "      <td>55</td>\n",
       "      <td>74</td>\n",
       "      <td>81</td>\n",
       "      <td>101</td>\n",
       "      <td>117</td>\n",
       "      <td>...</td>\n",
       "      <td>74</td>\n",
       "      <td>97</td>\n",
       "      <td>157</td>\n",
       "      <td>132</td>\n",
       "      <td>76</td>\n",
       "      <td>55</td>\n",
       "      <td>160</td>\n",
       "      <td>171</td>\n",
       "      <td>66</td>\n",
       "      <td>1</td>\n",
       "    </tr>\n",
       "    <tr>\n",
       "      <th>1</th>\n",
       "      <td>167</td>\n",
       "      <td>100</td>\n",
       "      <td>192</td>\n",
       "      <td>124</td>\n",
       "      <td>157</td>\n",
       "      <td>51</td>\n",
       "      <td>73</td>\n",
       "      <td>82</td>\n",
       "      <td>92</td>\n",
       "      <td>106</td>\n",
       "      <td>...</td>\n",
       "      <td>81</td>\n",
       "      <td>104</td>\n",
       "      <td>167</td>\n",
       "      <td>131</td>\n",
       "      <td>74</td>\n",
       "      <td>50</td>\n",
       "      <td>165</td>\n",
       "      <td>170</td>\n",
       "      <td>73</td>\n",
       "      <td>1</td>\n",
       "    </tr>\n",
       "    <tr>\n",
       "      <th>2</th>\n",
       "      <td>166</td>\n",
       "      <td>107</td>\n",
       "      <td>188</td>\n",
       "      <td>123</td>\n",
       "      <td>157</td>\n",
       "      <td>49</td>\n",
       "      <td>70</td>\n",
       "      <td>79</td>\n",
       "      <td>87</td>\n",
       "      <td>107</td>\n",
       "      <td>...</td>\n",
       "      <td>81</td>\n",
       "      <td>106</td>\n",
       "      <td>166</td>\n",
       "      <td>127</td>\n",
       "      <td>74</td>\n",
       "      <td>54</td>\n",
       "      <td>163</td>\n",
       "      <td>172</td>\n",
       "      <td>68</td>\n",
       "      <td>1</td>\n",
       "    </tr>\n",
       "    <tr>\n",
       "      <th>3</th>\n",
       "      <td>167</td>\n",
       "      <td>103</td>\n",
       "      <td>188</td>\n",
       "      <td>124</td>\n",
       "      <td>158</td>\n",
       "      <td>55</td>\n",
       "      <td>74</td>\n",
       "      <td>83</td>\n",
       "      <td>90</td>\n",
       "      <td>106</td>\n",
       "      <td>...</td>\n",
       "      <td>79</td>\n",
       "      <td>106</td>\n",
       "      <td>166</td>\n",
       "      <td>130</td>\n",
       "      <td>75</td>\n",
       "      <td>54</td>\n",
       "      <td>163</td>\n",
       "      <td>170</td>\n",
       "      <td>70</td>\n",
       "      <td>1</td>\n",
       "    </tr>\n",
       "    <tr>\n",
       "      <th>4</th>\n",
       "      <td>169</td>\n",
       "      <td>103</td>\n",
       "      <td>186</td>\n",
       "      <td>122</td>\n",
       "      <td>156</td>\n",
       "      <td>52</td>\n",
       "      <td>72</td>\n",
       "      <td>80</td>\n",
       "      <td>88</td>\n",
       "      <td>115</td>\n",
       "      <td>...</td>\n",
       "      <td>82</td>\n",
       "      <td>104</td>\n",
       "      <td>162</td>\n",
       "      <td>127</td>\n",
       "      <td>73</td>\n",
       "      <td>54</td>\n",
       "      <td>165</td>\n",
       "      <td>169</td>\n",
       "      <td>74</td>\n",
       "      <td>1</td>\n",
       "    </tr>\n",
       "  </tbody>\n",
       "</table>\n",
       "<p>5 rows × 65 columns</p>\n",
       "</div>"
      ],
      "text/plain": [
       "     0    1    2    3    4   5   6   7    8    9  ...  55   56   57   58  59  \\\n",
       "0  165   96  188  122  151  55  74  81  101  117  ...  74   97  157  132  76   \n",
       "1  167  100  192  124  157  51  73  82   92  106  ...  81  104  167  131  74   \n",
       "2  166  107  188  123  157  49  70  79   87  107  ...  81  106  166  127  74   \n",
       "3  167  103  188  124  158  55  74  83   90  106  ...  79  106  166  130  75   \n",
       "4  169  103  186  122  156  52  72  80   88  115  ...  82  104  162  127  73   \n",
       "\n",
       "   60   61   62  63  pa  \n",
       "0  55  160  171  66   1  \n",
       "1  50  165  170  73   1  \n",
       "2  54  163  172  68   1  \n",
       "3  54  163  170  70   1  \n",
       "4  54  165  169  74   1  \n",
       "\n",
       "[5 rows x 65 columns]"
      ]
     },
     "execution_count": 43,
     "metadata": {},
     "output_type": "execute_result"
    }
   ],
   "source": [
    "index = 21\n",
    "df_pa = pd.read_csv(datasets[index], names=[\"pa\"])\n",
    "df = pd.read_csv(datasets[index+1], header=None, sep=\"\\s+\")\n",
    "df[\"pa\"] = df_pa[\"pa\"]\n",
    "print(f\"{datasets[index]}\\t{datasets[index+1]}\")\n",
    "df.head()"
   ]
  },
  {
   "cell_type": "code",
   "execution_count": 44,
   "id": "5ddca1e7",
   "metadata": {},
   "outputs": [],
   "source": [
    "df.to_csv(datasets[index+1].replace(\".csv\", \"_y.zip\"), index=False)\n",
    "os.remove(datasets[index])\n",
    "os.remove(datasets[index+1])"
   ]
  },
  {
   "cell_type": "markdown",
   "id": "9c965eb1",
   "metadata": {},
   "source": [
    "# dim1024"
   ]
  },
  {
   "cell_type": "code",
   "execution_count": 45,
   "id": "0d65dd8f",
   "metadata": {},
   "outputs": [
    {
     "name": "stdout",
     "output_type": "stream",
     "text": [
      ".\\dim1024.pa.txt\t.\\dim1024.txt\n"
     ]
    },
    {
     "data": {
      "text/html": [
       "<div>\n",
       "<style scoped>\n",
       "    .dataframe tbody tr th:only-of-type {\n",
       "        vertical-align: middle;\n",
       "    }\n",
       "\n",
       "    .dataframe tbody tr th {\n",
       "        vertical-align: top;\n",
       "    }\n",
       "\n",
       "    .dataframe thead th {\n",
       "        text-align: right;\n",
       "    }\n",
       "</style>\n",
       "<table border=\"1\" class=\"dataframe\">\n",
       "  <thead>\n",
       "    <tr style=\"text-align: right;\">\n",
       "      <th></th>\n",
       "      <th>0</th>\n",
       "      <th>1</th>\n",
       "      <th>2</th>\n",
       "      <th>3</th>\n",
       "      <th>4</th>\n",
       "      <th>5</th>\n",
       "      <th>6</th>\n",
       "      <th>7</th>\n",
       "      <th>8</th>\n",
       "      <th>9</th>\n",
       "      <th>...</th>\n",
       "      <th>1015</th>\n",
       "      <th>1016</th>\n",
       "      <th>1017</th>\n",
       "      <th>1018</th>\n",
       "      <th>1019</th>\n",
       "      <th>1020</th>\n",
       "      <th>1021</th>\n",
       "      <th>1022</th>\n",
       "      <th>1023</th>\n",
       "      <th>pa</th>\n",
       "    </tr>\n",
       "  </thead>\n",
       "  <tbody>\n",
       "    <tr>\n",
       "      <th>0</th>\n",
       "      <td>126</td>\n",
       "      <td>151</td>\n",
       "      <td>205</td>\n",
       "      <td>39</td>\n",
       "      <td>163</td>\n",
       "      <td>36</td>\n",
       "      <td>136</td>\n",
       "      <td>187</td>\n",
       "      <td>113</td>\n",
       "      <td>196</td>\n",
       "      <td>...</td>\n",
       "      <td>112</td>\n",
       "      <td>165</td>\n",
       "      <td>173</td>\n",
       "      <td>204</td>\n",
       "      <td>91</td>\n",
       "      <td>59</td>\n",
       "      <td>149</td>\n",
       "      <td>139</td>\n",
       "      <td>128</td>\n",
       "      <td>1</td>\n",
       "    </tr>\n",
       "    <tr>\n",
       "      <th>1</th>\n",
       "      <td>126</td>\n",
       "      <td>151</td>\n",
       "      <td>205</td>\n",
       "      <td>39</td>\n",
       "      <td>162</td>\n",
       "      <td>36</td>\n",
       "      <td>136</td>\n",
       "      <td>187</td>\n",
       "      <td>113</td>\n",
       "      <td>195</td>\n",
       "      <td>...</td>\n",
       "      <td>112</td>\n",
       "      <td>165</td>\n",
       "      <td>174</td>\n",
       "      <td>204</td>\n",
       "      <td>91</td>\n",
       "      <td>59</td>\n",
       "      <td>148</td>\n",
       "      <td>139</td>\n",
       "      <td>127</td>\n",
       "      <td>1</td>\n",
       "    </tr>\n",
       "    <tr>\n",
       "      <th>2</th>\n",
       "      <td>126</td>\n",
       "      <td>151</td>\n",
       "      <td>205</td>\n",
       "      <td>39</td>\n",
       "      <td>163</td>\n",
       "      <td>36</td>\n",
       "      <td>137</td>\n",
       "      <td>188</td>\n",
       "      <td>113</td>\n",
       "      <td>195</td>\n",
       "      <td>...</td>\n",
       "      <td>111</td>\n",
       "      <td>165</td>\n",
       "      <td>173</td>\n",
       "      <td>204</td>\n",
       "      <td>91</td>\n",
       "      <td>59</td>\n",
       "      <td>148</td>\n",
       "      <td>139</td>\n",
       "      <td>127</td>\n",
       "      <td>1</td>\n",
       "    </tr>\n",
       "    <tr>\n",
       "      <th>3</th>\n",
       "      <td>126</td>\n",
       "      <td>151</td>\n",
       "      <td>204</td>\n",
       "      <td>39</td>\n",
       "      <td>162</td>\n",
       "      <td>37</td>\n",
       "      <td>136</td>\n",
       "      <td>187</td>\n",
       "      <td>113</td>\n",
       "      <td>194</td>\n",
       "      <td>...</td>\n",
       "      <td>112</td>\n",
       "      <td>165</td>\n",
       "      <td>172</td>\n",
       "      <td>203</td>\n",
       "      <td>91</td>\n",
       "      <td>59</td>\n",
       "      <td>148</td>\n",
       "      <td>140</td>\n",
       "      <td>127</td>\n",
       "      <td>1</td>\n",
       "    </tr>\n",
       "    <tr>\n",
       "      <th>4</th>\n",
       "      <td>127</td>\n",
       "      <td>151</td>\n",
       "      <td>206</td>\n",
       "      <td>39</td>\n",
       "      <td>162</td>\n",
       "      <td>36</td>\n",
       "      <td>135</td>\n",
       "      <td>188</td>\n",
       "      <td>112</td>\n",
       "      <td>195</td>\n",
       "      <td>...</td>\n",
       "      <td>112</td>\n",
       "      <td>165</td>\n",
       "      <td>173</td>\n",
       "      <td>204</td>\n",
       "      <td>91</td>\n",
       "      <td>59</td>\n",
       "      <td>148</td>\n",
       "      <td>139</td>\n",
       "      <td>128</td>\n",
       "      <td>1</td>\n",
       "    </tr>\n",
       "  </tbody>\n",
       "</table>\n",
       "<p>5 rows × 1025 columns</p>\n",
       "</div>"
      ],
      "text/plain": [
       "     0    1    2   3    4   5    6    7    8    9  ...  1015  1016  1017  \\\n",
       "0  126  151  205  39  163  36  136  187  113  196  ...   112   165   173   \n",
       "1  126  151  205  39  162  36  136  187  113  195  ...   112   165   174   \n",
       "2  126  151  205  39  163  36  137  188  113  195  ...   111   165   173   \n",
       "3  126  151  204  39  162  37  136  187  113  194  ...   112   165   172   \n",
       "4  127  151  206  39  162  36  135  188  112  195  ...   112   165   173   \n",
       "\n",
       "   1018  1019  1020  1021  1022  1023  pa  \n",
       "0   204    91    59   149   139   128   1  \n",
       "1   204    91    59   148   139   127   1  \n",
       "2   204    91    59   148   139   127   1  \n",
       "3   203    91    59   148   140   127   1  \n",
       "4   204    91    59   148   139   128   1  \n",
       "\n",
       "[5 rows x 1025 columns]"
      ]
     },
     "execution_count": 45,
     "metadata": {},
     "output_type": "execute_result"
    }
   ],
   "source": [
    "index = 23\n",
    "df_pa = pd.read_csv(datasets[index], names=[\"pa\"])\n",
    "df = pd.read_csv(datasets[index+1], header=None, sep=\"\\s+\")\n",
    "df[\"pa\"] = df_pa[\"pa\"]\n",
    "print(f\"{datasets[index]}\\t{datasets[index+1]}\")\n",
    "df.head()"
   ]
  },
  {
   "cell_type": "code",
   "execution_count": 46,
   "id": "b4b482fb",
   "metadata": {},
   "outputs": [],
   "source": [
    "df.to_csv(datasets[index+1].replace(\".csv\", \"_y.zip\"), index=False)\n",
    "os.remove(datasets[index])\n",
    "os.remove(datasets[index+1])"
   ]
  },
  {
   "cell_type": "markdown",
   "id": "dd6400b6",
   "metadata": {},
   "source": [
    "# dim128"
   ]
  },
  {
   "cell_type": "code",
   "execution_count": 47,
   "id": "59495a89",
   "metadata": {},
   "outputs": [
    {
     "name": "stdout",
     "output_type": "stream",
     "text": [
      ".\\dim128.pa.txt\t.\\dim128.txt\n"
     ]
    },
    {
     "data": {
      "text/html": [
       "<div>\n",
       "<style scoped>\n",
       "    .dataframe tbody tr th:only-of-type {\n",
       "        vertical-align: middle;\n",
       "    }\n",
       "\n",
       "    .dataframe tbody tr th {\n",
       "        vertical-align: top;\n",
       "    }\n",
       "\n",
       "    .dataframe thead th {\n",
       "        text-align: right;\n",
       "    }\n",
       "</style>\n",
       "<table border=\"1\" class=\"dataframe\">\n",
       "  <thead>\n",
       "    <tr style=\"text-align: right;\">\n",
       "      <th></th>\n",
       "      <th>0</th>\n",
       "      <th>1</th>\n",
       "      <th>2</th>\n",
       "      <th>3</th>\n",
       "      <th>4</th>\n",
       "      <th>5</th>\n",
       "      <th>6</th>\n",
       "      <th>7</th>\n",
       "      <th>8</th>\n",
       "      <th>9</th>\n",
       "      <th>...</th>\n",
       "      <th>119</th>\n",
       "      <th>120</th>\n",
       "      <th>121</th>\n",
       "      <th>122</th>\n",
       "      <th>123</th>\n",
       "      <th>124</th>\n",
       "      <th>125</th>\n",
       "      <th>126</th>\n",
       "      <th>127</th>\n",
       "      <th>pa</th>\n",
       "    </tr>\n",
       "  </thead>\n",
       "  <tbody>\n",
       "    <tr>\n",
       "      <th>0</th>\n",
       "      <td>145</td>\n",
       "      <td>142</td>\n",
       "      <td>131</td>\n",
       "      <td>135</td>\n",
       "      <td>208</td>\n",
       "      <td>209</td>\n",
       "      <td>65</td>\n",
       "      <td>128</td>\n",
       "      <td>183</td>\n",
       "      <td>131</td>\n",
       "      <td>...</td>\n",
       "      <td>218</td>\n",
       "      <td>182</td>\n",
       "      <td>53</td>\n",
       "      <td>144</td>\n",
       "      <td>198</td>\n",
       "      <td>93</td>\n",
       "      <td>34</td>\n",
       "      <td>99</td>\n",
       "      <td>79</td>\n",
       "      <td>1</td>\n",
       "    </tr>\n",
       "    <tr>\n",
       "      <th>1</th>\n",
       "      <td>149</td>\n",
       "      <td>148</td>\n",
       "      <td>137</td>\n",
       "      <td>137</td>\n",
       "      <td>213</td>\n",
       "      <td>209</td>\n",
       "      <td>71</td>\n",
       "      <td>125</td>\n",
       "      <td>183</td>\n",
       "      <td>125</td>\n",
       "      <td>...</td>\n",
       "      <td>222</td>\n",
       "      <td>182</td>\n",
       "      <td>52</td>\n",
       "      <td>148</td>\n",
       "      <td>198</td>\n",
       "      <td>97</td>\n",
       "      <td>35</td>\n",
       "      <td>99</td>\n",
       "      <td>78</td>\n",
       "      <td>1</td>\n",
       "    </tr>\n",
       "    <tr>\n",
       "      <th>2</th>\n",
       "      <td>151</td>\n",
       "      <td>144</td>\n",
       "      <td>135</td>\n",
       "      <td>132</td>\n",
       "      <td>210</td>\n",
       "      <td>208</td>\n",
       "      <td>67</td>\n",
       "      <td>124</td>\n",
       "      <td>183</td>\n",
       "      <td>128</td>\n",
       "      <td>...</td>\n",
       "      <td>218</td>\n",
       "      <td>182</td>\n",
       "      <td>52</td>\n",
       "      <td>144</td>\n",
       "      <td>196</td>\n",
       "      <td>93</td>\n",
       "      <td>38</td>\n",
       "      <td>101</td>\n",
       "      <td>78</td>\n",
       "      <td>1</td>\n",
       "    </tr>\n",
       "    <tr>\n",
       "      <th>3</th>\n",
       "      <td>148</td>\n",
       "      <td>141</td>\n",
       "      <td>136</td>\n",
       "      <td>135</td>\n",
       "      <td>207</td>\n",
       "      <td>209</td>\n",
       "      <td>65</td>\n",
       "      <td>127</td>\n",
       "      <td>184</td>\n",
       "      <td>130</td>\n",
       "      <td>...</td>\n",
       "      <td>219</td>\n",
       "      <td>184</td>\n",
       "      <td>50</td>\n",
       "      <td>144</td>\n",
       "      <td>198</td>\n",
       "      <td>92</td>\n",
       "      <td>36</td>\n",
       "      <td>101</td>\n",
       "      <td>82</td>\n",
       "      <td>1</td>\n",
       "    </tr>\n",
       "    <tr>\n",
       "      <th>4</th>\n",
       "      <td>146</td>\n",
       "      <td>145</td>\n",
       "      <td>136</td>\n",
       "      <td>135</td>\n",
       "      <td>208</td>\n",
       "      <td>212</td>\n",
       "      <td>70</td>\n",
       "      <td>130</td>\n",
       "      <td>185</td>\n",
       "      <td>129</td>\n",
       "      <td>...</td>\n",
       "      <td>217</td>\n",
       "      <td>182</td>\n",
       "      <td>52</td>\n",
       "      <td>148</td>\n",
       "      <td>198</td>\n",
       "      <td>95</td>\n",
       "      <td>36</td>\n",
       "      <td>96</td>\n",
       "      <td>80</td>\n",
       "      <td>1</td>\n",
       "    </tr>\n",
       "  </tbody>\n",
       "</table>\n",
       "<p>5 rows × 129 columns</p>\n",
       "</div>"
      ],
      "text/plain": [
       "     0    1    2    3    4    5   6    7    8    9  ...  119  120  121  122  \\\n",
       "0  145  142  131  135  208  209  65  128  183  131  ...  218  182   53  144   \n",
       "1  149  148  137  137  213  209  71  125  183  125  ...  222  182   52  148   \n",
       "2  151  144  135  132  210  208  67  124  183  128  ...  218  182   52  144   \n",
       "3  148  141  136  135  207  209  65  127  184  130  ...  219  184   50  144   \n",
       "4  146  145  136  135  208  212  70  130  185  129  ...  217  182   52  148   \n",
       "\n",
       "   123  124  125  126  127  pa  \n",
       "0  198   93   34   99   79   1  \n",
       "1  198   97   35   99   78   1  \n",
       "2  196   93   38  101   78   1  \n",
       "3  198   92   36  101   82   1  \n",
       "4  198   95   36   96   80   1  \n",
       "\n",
       "[5 rows x 129 columns]"
      ]
     },
     "execution_count": 47,
     "metadata": {},
     "output_type": "execute_result"
    }
   ],
   "source": [
    "index = 25\n",
    "df_pa = pd.read_csv(datasets[index], names=[\"pa\"])\n",
    "df = pd.read_csv(datasets[index+1], header=None, sep=\"\\s+\")\n",
    "df[\"pa\"] = df_pa[\"pa\"]\n",
    "print(f\"{datasets[index]}\\t{datasets[index+1]}\")\n",
    "df.head()"
   ]
  },
  {
   "cell_type": "code",
   "execution_count": 48,
   "id": "927a3e2f",
   "metadata": {},
   "outputs": [],
   "source": [
    "df.to_csv(datasets[index+1].replace(\".csv\", \"_y.zip\"), index=False)\n",
    "os.remove(datasets[index])\n",
    "os.remove(datasets[index+1])"
   ]
  },
  {
   "cell_type": "markdown",
   "id": "cee4e50f",
   "metadata": {},
   "source": [
    "# dim256"
   ]
  },
  {
   "cell_type": "code",
   "execution_count": 49,
   "id": "b40f0a08",
   "metadata": {},
   "outputs": [
    {
     "name": "stdout",
     "output_type": "stream",
     "text": [
      ".\\dim256.pa.txt\t.\\dim256.txt\n"
     ]
    },
    {
     "data": {
      "text/html": [
       "<div>\n",
       "<style scoped>\n",
       "    .dataframe tbody tr th:only-of-type {\n",
       "        vertical-align: middle;\n",
       "    }\n",
       "\n",
       "    .dataframe tbody tr th {\n",
       "        vertical-align: top;\n",
       "    }\n",
       "\n",
       "    .dataframe thead th {\n",
       "        text-align: right;\n",
       "    }\n",
       "</style>\n",
       "<table border=\"1\" class=\"dataframe\">\n",
       "  <thead>\n",
       "    <tr style=\"text-align: right;\">\n",
       "      <th></th>\n",
       "      <th>0</th>\n",
       "      <th>1</th>\n",
       "      <th>2</th>\n",
       "      <th>3</th>\n",
       "      <th>4</th>\n",
       "      <th>5</th>\n",
       "      <th>6</th>\n",
       "      <th>7</th>\n",
       "      <th>8</th>\n",
       "      <th>9</th>\n",
       "      <th>...</th>\n",
       "      <th>247</th>\n",
       "      <th>248</th>\n",
       "      <th>249</th>\n",
       "      <th>250</th>\n",
       "      <th>251</th>\n",
       "      <th>252</th>\n",
       "      <th>253</th>\n",
       "      <th>254</th>\n",
       "      <th>255</th>\n",
       "      <th>pa</th>\n",
       "    </tr>\n",
       "  </thead>\n",
       "  <tbody>\n",
       "    <tr>\n",
       "      <th>0</th>\n",
       "      <td>75</td>\n",
       "      <td>176</td>\n",
       "      <td>163</td>\n",
       "      <td>171</td>\n",
       "      <td>84</td>\n",
       "      <td>198</td>\n",
       "      <td>101</td>\n",
       "      <td>80</td>\n",
       "      <td>204</td>\n",
       "      <td>66</td>\n",
       "      <td>...</td>\n",
       "      <td>77</td>\n",
       "      <td>112</td>\n",
       "      <td>156</td>\n",
       "      <td>69</td>\n",
       "      <td>38</td>\n",
       "      <td>137</td>\n",
       "      <td>211</td>\n",
       "      <td>143</td>\n",
       "      <td>67</td>\n",
       "      <td>1</td>\n",
       "    </tr>\n",
       "    <tr>\n",
       "      <th>1</th>\n",
       "      <td>74</td>\n",
       "      <td>176</td>\n",
       "      <td>163</td>\n",
       "      <td>171</td>\n",
       "      <td>84</td>\n",
       "      <td>197</td>\n",
       "      <td>101</td>\n",
       "      <td>80</td>\n",
       "      <td>204</td>\n",
       "      <td>66</td>\n",
       "      <td>...</td>\n",
       "      <td>77</td>\n",
       "      <td>112</td>\n",
       "      <td>155</td>\n",
       "      <td>69</td>\n",
       "      <td>38</td>\n",
       "      <td>136</td>\n",
       "      <td>210</td>\n",
       "      <td>143</td>\n",
       "      <td>66</td>\n",
       "      <td>1</td>\n",
       "    </tr>\n",
       "    <tr>\n",
       "      <th>2</th>\n",
       "      <td>75</td>\n",
       "      <td>176</td>\n",
       "      <td>162</td>\n",
       "      <td>170</td>\n",
       "      <td>84</td>\n",
       "      <td>197</td>\n",
       "      <td>102</td>\n",
       "      <td>80</td>\n",
       "      <td>204</td>\n",
       "      <td>66</td>\n",
       "      <td>...</td>\n",
       "      <td>77</td>\n",
       "      <td>112</td>\n",
       "      <td>156</td>\n",
       "      <td>68</td>\n",
       "      <td>39</td>\n",
       "      <td>137</td>\n",
       "      <td>212</td>\n",
       "      <td>143</td>\n",
       "      <td>67</td>\n",
       "      <td>1</td>\n",
       "    </tr>\n",
       "    <tr>\n",
       "      <th>3</th>\n",
       "      <td>76</td>\n",
       "      <td>176</td>\n",
       "      <td>162</td>\n",
       "      <td>170</td>\n",
       "      <td>84</td>\n",
       "      <td>198</td>\n",
       "      <td>100</td>\n",
       "      <td>79</td>\n",
       "      <td>204</td>\n",
       "      <td>67</td>\n",
       "      <td>...</td>\n",
       "      <td>77</td>\n",
       "      <td>112</td>\n",
       "      <td>156</td>\n",
       "      <td>67</td>\n",
       "      <td>37</td>\n",
       "      <td>138</td>\n",
       "      <td>211</td>\n",
       "      <td>143</td>\n",
       "      <td>66</td>\n",
       "      <td>1</td>\n",
       "    </tr>\n",
       "    <tr>\n",
       "      <th>4</th>\n",
       "      <td>76</td>\n",
       "      <td>177</td>\n",
       "      <td>164</td>\n",
       "      <td>171</td>\n",
       "      <td>83</td>\n",
       "      <td>197</td>\n",
       "      <td>100</td>\n",
       "      <td>81</td>\n",
       "      <td>205</td>\n",
       "      <td>65</td>\n",
       "      <td>...</td>\n",
       "      <td>79</td>\n",
       "      <td>113</td>\n",
       "      <td>155</td>\n",
       "      <td>68</td>\n",
       "      <td>37</td>\n",
       "      <td>138</td>\n",
       "      <td>211</td>\n",
       "      <td>144</td>\n",
       "      <td>68</td>\n",
       "      <td>1</td>\n",
       "    </tr>\n",
       "  </tbody>\n",
       "</table>\n",
       "<p>5 rows × 257 columns</p>\n",
       "</div>"
      ],
      "text/plain": [
       "    0    1    2    3   4    5    6   7    8   9  ...  247  248  249  250  251  \\\n",
       "0  75  176  163  171  84  198  101  80  204  66  ...   77  112  156   69   38   \n",
       "1  74  176  163  171  84  197  101  80  204  66  ...   77  112  155   69   38   \n",
       "2  75  176  162  170  84  197  102  80  204  66  ...   77  112  156   68   39   \n",
       "3  76  176  162  170  84  198  100  79  204  67  ...   77  112  156   67   37   \n",
       "4  76  177  164  171  83  197  100  81  205  65  ...   79  113  155   68   37   \n",
       "\n",
       "   252  253  254  255  pa  \n",
       "0  137  211  143   67   1  \n",
       "1  136  210  143   66   1  \n",
       "2  137  212  143   67   1  \n",
       "3  138  211  143   66   1  \n",
       "4  138  211  144   68   1  \n",
       "\n",
       "[5 rows x 257 columns]"
      ]
     },
     "execution_count": 49,
     "metadata": {},
     "output_type": "execute_result"
    }
   ],
   "source": [
    "index = 27\n",
    "df_pa = pd.read_csv(datasets[index], names=[\"pa\"])\n",
    "df = pd.read_csv(datasets[index+1], header=None, sep=\"\\s+\")\n",
    "df[\"pa\"] = df_pa[\"pa\"]\n",
    "print(f\"{datasets[index]}\\t{datasets[index+1]}\")\n",
    "df.head()"
   ]
  },
  {
   "cell_type": "code",
   "execution_count": 50,
   "id": "42f85585",
   "metadata": {},
   "outputs": [],
   "source": [
    "df.to_csv(datasets[index+1].replace(\".csv\", \"_y.zip\"), index=False)\n",
    "os.remove(datasets[index])\n",
    "os.remove(datasets[index+1])"
   ]
  },
  {
   "cell_type": "markdown",
   "id": "39069040",
   "metadata": {},
   "source": [
    "# dim512"
   ]
  },
  {
   "cell_type": "code",
   "execution_count": 51,
   "id": "5fb88bf3",
   "metadata": {},
   "outputs": [
    {
     "name": "stdout",
     "output_type": "stream",
     "text": [
      ".\\dim512.pa.txt\t.\\dim512.txt\n"
     ]
    },
    {
     "data": {
      "text/html": [
       "<div>\n",
       "<style scoped>\n",
       "    .dataframe tbody tr th:only-of-type {\n",
       "        vertical-align: middle;\n",
       "    }\n",
       "\n",
       "    .dataframe tbody tr th {\n",
       "        vertical-align: top;\n",
       "    }\n",
       "\n",
       "    .dataframe thead th {\n",
       "        text-align: right;\n",
       "    }\n",
       "</style>\n",
       "<table border=\"1\" class=\"dataframe\">\n",
       "  <thead>\n",
       "    <tr style=\"text-align: right;\">\n",
       "      <th></th>\n",
       "      <th>0</th>\n",
       "      <th>1</th>\n",
       "      <th>2</th>\n",
       "      <th>3</th>\n",
       "      <th>4</th>\n",
       "      <th>5</th>\n",
       "      <th>6</th>\n",
       "      <th>7</th>\n",
       "      <th>8</th>\n",
       "      <th>9</th>\n",
       "      <th>...</th>\n",
       "      <th>503</th>\n",
       "      <th>504</th>\n",
       "      <th>505</th>\n",
       "      <th>506</th>\n",
       "      <th>507</th>\n",
       "      <th>508</th>\n",
       "      <th>509</th>\n",
       "      <th>510</th>\n",
       "      <th>511</th>\n",
       "      <th>pa</th>\n",
       "    </tr>\n",
       "  </thead>\n",
       "  <tbody>\n",
       "    <tr>\n",
       "      <th>0</th>\n",
       "      <td>199</td>\n",
       "      <td>212</td>\n",
       "      <td>189</td>\n",
       "      <td>196</td>\n",
       "      <td>146</td>\n",
       "      <td>220</td>\n",
       "      <td>66</td>\n",
       "      <td>139</td>\n",
       "      <td>153</td>\n",
       "      <td>147</td>\n",
       "      <td>...</td>\n",
       "      <td>180</td>\n",
       "      <td>215</td>\n",
       "      <td>143</td>\n",
       "      <td>143</td>\n",
       "      <td>59</td>\n",
       "      <td>125</td>\n",
       "      <td>91</td>\n",
       "      <td>74</td>\n",
       "      <td>132</td>\n",
       "      <td>1</td>\n",
       "    </tr>\n",
       "    <tr>\n",
       "      <th>1</th>\n",
       "      <td>198</td>\n",
       "      <td>213</td>\n",
       "      <td>190</td>\n",
       "      <td>195</td>\n",
       "      <td>146</td>\n",
       "      <td>220</td>\n",
       "      <td>66</td>\n",
       "      <td>139</td>\n",
       "      <td>153</td>\n",
       "      <td>148</td>\n",
       "      <td>...</td>\n",
       "      <td>181</td>\n",
       "      <td>215</td>\n",
       "      <td>143</td>\n",
       "      <td>143</td>\n",
       "      <td>60</td>\n",
       "      <td>126</td>\n",
       "      <td>91</td>\n",
       "      <td>75</td>\n",
       "      <td>132</td>\n",
       "      <td>1</td>\n",
       "    </tr>\n",
       "    <tr>\n",
       "      <th>2</th>\n",
       "      <td>199</td>\n",
       "      <td>214</td>\n",
       "      <td>191</td>\n",
       "      <td>195</td>\n",
       "      <td>146</td>\n",
       "      <td>219</td>\n",
       "      <td>65</td>\n",
       "      <td>138</td>\n",
       "      <td>152</td>\n",
       "      <td>148</td>\n",
       "      <td>...</td>\n",
       "      <td>181</td>\n",
       "      <td>215</td>\n",
       "      <td>142</td>\n",
       "      <td>143</td>\n",
       "      <td>61</td>\n",
       "      <td>126</td>\n",
       "      <td>92</td>\n",
       "      <td>75</td>\n",
       "      <td>132</td>\n",
       "      <td>1</td>\n",
       "    </tr>\n",
       "    <tr>\n",
       "      <th>3</th>\n",
       "      <td>198</td>\n",
       "      <td>213</td>\n",
       "      <td>189</td>\n",
       "      <td>194</td>\n",
       "      <td>146</td>\n",
       "      <td>220</td>\n",
       "      <td>65</td>\n",
       "      <td>139</td>\n",
       "      <td>153</td>\n",
       "      <td>147</td>\n",
       "      <td>...</td>\n",
       "      <td>180</td>\n",
       "      <td>215</td>\n",
       "      <td>143</td>\n",
       "      <td>143</td>\n",
       "      <td>60</td>\n",
       "      <td>126</td>\n",
       "      <td>91</td>\n",
       "      <td>75</td>\n",
       "      <td>133</td>\n",
       "      <td>1</td>\n",
       "    </tr>\n",
       "    <tr>\n",
       "      <th>4</th>\n",
       "      <td>198</td>\n",
       "      <td>212</td>\n",
       "      <td>190</td>\n",
       "      <td>195</td>\n",
       "      <td>146</td>\n",
       "      <td>220</td>\n",
       "      <td>66</td>\n",
       "      <td>139</td>\n",
       "      <td>153</td>\n",
       "      <td>148</td>\n",
       "      <td>...</td>\n",
       "      <td>181</td>\n",
       "      <td>215</td>\n",
       "      <td>143</td>\n",
       "      <td>143</td>\n",
       "      <td>59</td>\n",
       "      <td>126</td>\n",
       "      <td>91</td>\n",
       "      <td>75</td>\n",
       "      <td>132</td>\n",
       "      <td>1</td>\n",
       "    </tr>\n",
       "  </tbody>\n",
       "</table>\n",
       "<p>5 rows × 513 columns</p>\n",
       "</div>"
      ],
      "text/plain": [
       "     0    1    2    3    4    5   6    7    8    9  ...  503  504  505  506  \\\n",
       "0  199  212  189  196  146  220  66  139  153  147  ...  180  215  143  143   \n",
       "1  198  213  190  195  146  220  66  139  153  148  ...  181  215  143  143   \n",
       "2  199  214  191  195  146  219  65  138  152  148  ...  181  215  142  143   \n",
       "3  198  213  189  194  146  220  65  139  153  147  ...  180  215  143  143   \n",
       "4  198  212  190  195  146  220  66  139  153  148  ...  181  215  143  143   \n",
       "\n",
       "   507  508  509  510  511  pa  \n",
       "0   59  125   91   74  132   1  \n",
       "1   60  126   91   75  132   1  \n",
       "2   61  126   92   75  132   1  \n",
       "3   60  126   91   75  133   1  \n",
       "4   59  126   91   75  132   1  \n",
       "\n",
       "[5 rows x 513 columns]"
      ]
     },
     "execution_count": 51,
     "metadata": {},
     "output_type": "execute_result"
    }
   ],
   "source": [
    "index = 29\n",
    "df_pa = pd.read_csv(datasets[index], names=[\"pa\"])\n",
    "df = pd.read_csv(datasets[index+1], header=None, sep=\"\\s+\")\n",
    "df[\"pa\"] = df_pa[\"pa\"]\n",
    "print(f\"{datasets[index]}\\t{datasets[index+1]}\")\n",
    "df.head()"
   ]
  },
  {
   "cell_type": "code",
   "execution_count": 52,
   "id": "0aea901f",
   "metadata": {},
   "outputs": [],
   "source": [
    "df.to_csv(datasets[index+1].replace(\".csv\", \"_y.zip\"), index=False)\n",
    "os.remove(datasets[index])\n",
    "os.remove(datasets[index+1])"
   ]
  },
  {
   "cell_type": "code",
   "execution_count": null,
   "id": "4ce69373",
   "metadata": {},
   "outputs": [],
   "source": []
  },
  {
   "cell_type": "code",
   "execution_count": null,
   "id": "40569db4",
   "metadata": {},
   "outputs": [],
   "source": []
  },
  {
   "cell_type": "code",
   "execution_count": null,
   "id": "052e070f",
   "metadata": {},
   "outputs": [],
   "source": []
  },
  {
   "cell_type": "code",
   "execution_count": null,
   "id": "709a42fc",
   "metadata": {},
   "outputs": [],
   "source": []
  }
 ],
 "metadata": {
  "kernelspec": {
   "display_name": "Python 3 (ipykernel)",
   "language": "python",
   "name": "python3"
  },
  "language_info": {
   "codemirror_mode": {
    "name": "ipython",
    "version": 3
   },
   "file_extension": ".py",
   "mimetype": "text/x-python",
   "name": "python",
   "nbconvert_exporter": "python",
   "pygments_lexer": "ipython3",
   "version": "3.10.10"
  }
 },
 "nbformat": 4,
 "nbformat_minor": 5
}
