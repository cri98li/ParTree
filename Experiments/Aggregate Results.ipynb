{
 "cells": [
  {
   "cell_type": "code",
   "execution_count": 1,
   "id": "735f3a48",
   "metadata": {},
   "outputs": [],
   "source": [
    "import os\n",
    "from glob import glob\n",
    "import psutil\n",
    "import numpy as np\n",
    "import pandas as pd\n",
    "from tqdm.auto import tqdm "
   ]
  },
  {
   "cell_type": "code",
   "execution_count": 2,
   "id": "0ff30a6f-bef2-47c2-b482-23b763b0e424",
   "metadata": {},
   "outputs": [],
   "source": [
    "lista_continui = ['datasets/syntetic/2d-3c-no123_y.zip', 'datasets/syntetic/s-set1_y.zip', 'datasets/syntetic/2d-20c-no0_y.zip', 'datasets/syntetic/triangle2_y.zip', \n",
    "                  'datasets/syntetic/triangle1_y.zip', 'datasets/syntetic/cure-t0-2000n-2D_y.zip', 'datasets/syntetic/longsquare_y.zip', 'datasets/syntetic/aggregation_y.zip', \n",
    "                  'datasets/syntetic/2d-4c-no9_y.zip', 'datasets/syntetic/2d-d31_y.zip', 'datasets/syntetic/cure-t2-4k_y.zip', 'datasets/syntetic/zelnik6_y.zip', \n",
    "                  'datasets/syntetic/2d-10c_y.zip', 'datasets/syntetic/2d-4c_y.zip', 'datasets/syntetic/zelnik5_y.zip', 'datasets/syntetic/cure-t1-2000n-2D_y.zip', \n",
    "                  'datasets/syntetic/s-set2_y.zip', 'datasets/syntetic/tetra_y.zip']"
   ]
  },
  {
   "cell_type": "code",
   "execution_count": null,
   "id": "06702f6f-1fee-480b-9ee6-92f191464394",
   "metadata": {},
   "outputs": [],
   "source": []
  },
  {
   "cell_type": "code",
   "execution_count": 3,
   "id": "7161bdd3",
   "metadata": {},
   "outputs": [
    {
     "data": {
      "text/plain": [
       "9360"
      ]
     },
     "execution_count": 3,
     "metadata": {},
     "output_type": "execute_result"
    }
   ],
   "source": [
    "results_path = [y for x in os.walk(\"results/\") for y in glob(os.path.join(x[0], '*.csv'))]\n",
    "                #+ [y for x in os.walk(\"tmp_kdd4/\") for y in glob(os.path.join(x[0], '*.csv'))]\\\n",
    "                #+ [y for x in os.walk(\"tmp_kdd10/\") for y in glob(os.path.join(x[0], '*.csv'))]\\\n",
    "                #+ [y for x in os.walk(\"tmp_kdd12/\") for y in glob(os.path.join(x[0], '*.csv'))]\\\n",
    "                #+ [y for x in os.walk(\"tmp_kdd13/\") for y in glob(os.path.join(x[0], '*.csv'))]\n",
    "results_path = list(set(results_path))\n",
    "\n",
    "results_path.sort()\n",
    "results = list(map(lambda x: x.split(\"/\")[1], results_path))\n",
    "len(results)"
   ]
  },
  {
   "cell_type": "code",
   "execution_count": 4,
   "id": "a92ea112-e809-44d6-9a4f-81137f5c7682",
   "metadata": {},
   "outputs": [
    {
     "data": {
      "text/plain": [
       "'ExKMC-2d-10c_y.zip-10_10_IMM_1000_100.csv'"
      ]
     },
     "execution_count": 4,
     "metadata": {},
     "output_type": "execute_result"
    }
   ],
   "source": [
    "results[0]"
   ]
  },
  {
   "cell_type": "code",
   "execution_count": 5,
   "id": "27124146",
   "metadata": {},
   "outputs": [],
   "source": [
    "alg_name = list(map(lambda x: x.split(\"-\")[0], results))\n",
    "dataset_name = list(map(lambda x: \"-\".join(x.split(\"-\")[1:-1]), results))\n",
    "has_target_class = list(map(lambda x: \"_y.zip\" in x, dataset_name))\n",
    "\n",
    "lista_continui = list(map(lambda x: x.split(\"/\")[-1], lista_continui))"
   ]
  },
  {
   "cell_type": "code",
   "execution_count": null,
   "id": "7c7f0800-13ba-468e-9c64-d31a8f7ced32",
   "metadata": {},
   "outputs": [],
   "source": []
  },
  {
   "cell_type": "code",
   "execution_count": 6,
   "id": "9bf2c265",
   "metadata": {},
   "outputs": [
    {
     "data": {
      "application/vnd.jupyter.widget-view+json": {
       "model_id": "6e0dd10de0ed438188664b0281fb0cd9",
       "version_major": 2,
       "version_minor": 0
      },
      "text/plain": [
       "  0%|          | 0/9360 [00:00<?, ?it/s]"
      ]
     },
     "metadata": {},
     "output_type": "display_data"
    }
   ],
   "source": [
    "results_dict = dict()\n",
    "\n",
    "for i, (alg, dataset, path) in tqdm(enumerate(zip(alg_name, dataset_name, results_path)), total=len(results)):\n",
    "    key = (alg, dataset)\n",
    "    \n",
    "    if key not in results_dict:\n",
    "        results_dict[key] = []\n",
    "    \n",
    "    results_dict[key].append(pd.read_csv(path))"
   ]
  },
  {
   "cell_type": "code",
   "execution_count": 7,
   "id": "be190088",
   "metadata": {},
   "outputs": [
    {
     "name": "stdout",
     "output_type": "stream",
     "text": [
      "('ExKMC', '2d-10c_y.zip'): 264\n",
      "('ShallowTree', '2d-10c_y.zip'): 180\n",
      "('ExKMC', '2d-20c-no0_y.zip'): 264\n",
      "('ShallowTree', '2d-20c-no0_y.zip'): 180\n",
      "('ExKMC', '2d-3c-no123_y.zip'): 264\n",
      "('ShallowTree', '2d-3c-no123_y.zip'): 180\n",
      "('ExKMC', '2d-4c-no9_y.zip'): 264\n",
      "('ShallowTree', '2d-4c-no9_y.zip'): 180\n",
      "('ShallowTree', '2d-4c_y.zip'): 36\n",
      "('ExKMC', '2d-d31_y.zip'): 264\n",
      "('ShallowTree', '2d-d31_y.zip'): 180\n",
      "('ExKMC', 'aggregation_y.zip'): 264\n",
      "('ShallowTree', 'aggregation_y.zip'): 180\n",
      "('ExKMC', 'cure-t0-2000n-2D_y.zip'): 264\n",
      "('ShallowTree', 'cure-t0-2000n-2D_y.zip'): 180\n",
      "('ExKMC', 'cure-t2-4k_y.zip'): 264\n",
      "('ShallowTree', 'cure-t2-4k_y.zip'): 180\n",
      "('ExKMC', 'diabetes_y.zip'): 264\n",
      "('ShallowTree', 'diabetes_y.zip'): 180\n",
      "('ExKMC', 'home_y.zip'): 264\n",
      "('ShallowTree', 'home_y.zip'): 180\n",
      "('ExKMC', 'ionosphere_y.zip'): 264\n",
      "('ShallowTree', 'ionosphere_y.zip'): 180\n",
      "('ExKMC', 'iris_y.zip'): 264\n",
      "('ShallowTree', 'iris_y.zip'): 180\n",
      "('ExKMC', 'longsquare_y.zip'): 264\n",
      "('ShallowTree', 'longsquare_y.zip'): 180\n",
      "('ExKMC', 's-set1_y.zip'): 264\n",
      "('ShallowTree', 's-set1_y.zip'): 180\n",
      "('ExKMC', 'titanic_y.zip'): 264\n",
      "('ShallowTree', 'titanic_y.zip'): 180\n",
      "('ExKMC', 'triangle1_y.zip'): 264\n",
      "('ShallowTree', 'triangle1_y.zip'): 180\n",
      "('ExKMC', 'triangle2_y.zip'): 264\n",
      "('ShallowTree', 'triangle2_y.zip'): 180\n",
      "('ExKMC', 'vehicle_y.zip'): 264\n",
      "('ShallowTree', 'vehicle_y.zip'): 180\n",
      "('ExKMC', 'wdbc_y.zip'): 264\n",
      "('ShallowTree', 'wdbc_y.zip'): 180\n",
      "('ExKMC', 'wine.zip'): 264\n",
      "('ShallowTree', 'wine.zip'): 180\n",
      "('ExKMC', 'zelnik6_y.zip'): 264\n",
      "('ShallowTree', 'zelnik6_y.zip'): 180\n"
     ]
    }
   ],
   "source": [
    "for k, v in sorted(results_dict.items(), key=lambda x: x[0][1]):\n",
    "    print(f\"{k}: {len(v)}\")"
   ]
  },
  {
   "cell_type": "code",
   "execution_count": 8,
   "id": "284eaa78",
   "metadata": {},
   "outputs": [
    {
     "data": {
      "text/plain": [
       "array(['ExKMC', 'ShallowTree'], dtype='<U11')"
      ]
     },
     "execution_count": 8,
     "metadata": {},
     "output_type": "execute_result"
    }
   ],
   "source": [
    "np.unique(alg_name)"
   ]
  },
  {
   "cell_type": "code",
   "execution_count": 9,
   "id": "09fcf3d1-337c-4ae5-b266-6d10216a2722",
   "metadata": {},
   "outputs": [
    {
     "data": {
      "application/vnd.jupyter.widget-view+json": {
       "model_id": "85ddb1b6e923432ba3941fd51a6634b1",
       "version_major": 2,
       "version_minor": 0
      },
      "text/plain": [
       "  0%|          | 0/43 [00:00<?, ?it/s]"
      ]
     },
     "metadata": {},
     "output_type": "display_data"
    }
   ],
   "source": [
    "results_dict_df = dict()\n",
    "\n",
    "for k, v in tqdm(results_dict.items()):\n",
    "    results_dict_df[k] = pd.concat(v)\n",
    "    results_dict_df[k][\"alg\"] = k[0]\n",
    "    results_dict_df[k][\"dataset\"] = k[1]"
   ]
  },
  {
   "cell_type": "code",
   "execution_count": 10,
   "id": "e18c64a3-2511-41ce-a471-a0004740dc89",
   "metadata": {},
   "outputs": [
    {
     "data": {
      "application/vnd.jupyter.widget-view+json": {
       "model_id": "99f24c9d514748fc873afb1483f6e75a",
       "version_major": 2,
       "version_minor": 0
      },
      "text/plain": [
       "  0%|          | 0/43 [00:00<?, ?it/s]"
      ]
     },
     "metadata": {},
     "output_type": "display_data"
    }
   ],
   "source": [
    "for k, v in tqdm(results_dict_df.items()):\n",
    "    k_ = list(k)\n",
    "    k_.reverse()\n",
    "    v.to_csv(\"final_joined_result/\"+(\" \".join(k_))+\".csv\", index=False)"
   ]
  },
  {
   "cell_type": "code",
   "execution_count": null,
   "id": "4d402470-9cb6-49b5-9872-1c9c76e86725",
   "metadata": {},
   "outputs": [],
   "source": []
  },
  {
   "cell_type": "code",
   "execution_count": null,
   "id": "72d9384d-db86-46e0-9d5c-d02b936dea85",
   "metadata": {},
   "outputs": [],
   "source": []
  },
  {
   "cell_type": "code",
   "execution_count": null,
   "id": "cd104c14-9ec1-45d1-b9d2-a92422ee47c3",
   "metadata": {},
   "outputs": [],
   "source": []
  },
  {
   "cell_type": "markdown",
   "id": "0e77f818-43d4-4a48-9933-f275f5e60cb0",
   "metadata": {},
   "source": [
    "torename = [y for x in os.walk(\"torename/\") for y in glob(os.path.join(x[0], '*.csv'))]\n",
    "\n",
    "len(torename)"
   ]
  },
  {
   "cell_type": "markdown",
   "id": "546889e4-c2fc-43ed-88ac-901573c61883",
   "metadata": {},
   "source": [
    "for old_name in tqdm(torename):\n",
    "    os.rename(old_name, old_name.replace(\"ImpurityParTree2\", \"PrincipalParTree\"))\n"
   ]
  },
  {
   "cell_type": "markdown",
   "id": "4b9b9e2c-19a4-4189-8a60-ce0408bfcc1c",
   "metadata": {},
   "source": [
    "tomove = [y for x in os.walk(\"torename/\") for y in glob(os.path.join(x[0], '*.csv'))]\n",
    "\n",
    "len(tomove)"
   ]
  },
  {
   "cell_type": "markdown",
   "id": "59246de8-e73b-499f-a6f8-7a9dce781389",
   "metadata": {},
   "source": [
    "tomove[0]"
   ]
  },
  {
   "cell_type": "markdown",
   "id": "5111f0ea-90ca-4bd5-90fd-11a10c255c92",
   "metadata": {},
   "source": [
    "for old_pos in tqdm(tomove):\n",
    "    os.rename(old_pos, old_pos.replace(\"torename\", \"results_from_servers\"))\n"
   ]
  }
 ],
 "metadata": {
  "kernelspec": {
   "display_name": "Python 3 (ipykernel)",
   "language": "python",
   "name": "python3"
  },
  "language_info": {
   "codemirror_mode": {
    "name": "ipython",
    "version": 3
   },
   "file_extension": ".py",
   "mimetype": "text/x-python",
   "name": "python",
   "nbconvert_exporter": "python",
   "pygments_lexer": "ipython3",
   "version": "3.11.3"
  }
 },
 "nbformat": 4,
 "nbformat_minor": 5
}
