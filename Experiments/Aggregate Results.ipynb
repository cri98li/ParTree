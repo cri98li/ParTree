{
 "cells": [
  {
   "cell_type": "code",
   "execution_count": 1,
   "id": "735f3a48",
   "metadata": {},
   "outputs": [],
   "source": [
    "import os\n",
    "from glob import glob\n",
    "import psutil\n",
    "import numpy as np\n",
    "import pandas as pd\n",
    "from tqdm.auto import tqdm "
   ]
  },
  {
   "cell_type": "code",
   "execution_count": 2,
   "id": "7161bdd3",
   "metadata": {},
   "outputs": [
    {
     "data": {
      "text/plain": [
       "318974"
      ]
     },
     "execution_count": 2,
     "metadata": {},
     "output_type": "execute_result"
    }
   ],
   "source": [
    "results_path = [y for x in os.walk(\"results_from_servers/\") for y in glob(os.path.join(x[0], '*.csv'))]\n",
    "results_path.sort()\n",
    "results = list(map(lambda x: x.split(\"\\\\\")[1], results_path))\n",
    "len(results)"
   ]
  },
  {
   "cell_type": "code",
   "execution_count": 3,
   "id": "27124146",
   "metadata": {},
   "outputs": [],
   "source": [
    "alg_name = list(map(lambda x: x.split(\"-\")[0], results))\n",
    "dataset_name = list(map(lambda x: \"-\".join(x.split(\"-\")[1:-1]), results))\n",
    "has_target_class = list(map(lambda x: \"_y.zip\" in x, dataset_name))"
   ]
  },
  {
   "cell_type": "code",
   "execution_count": 4,
   "id": "9bf2c265",
   "metadata": {},
   "outputs": [
    {
     "data": {
      "application/vnd.jupyter.widget-view+json": {
       "model_id": "75393a0020b647eb82aec037bbff3a69",
       "version_major": 2,
       "version_minor": 0
      },
      "text/plain": [
       "  0%|          | 0/318974 [00:00<?, ?it/s]"
      ]
     },
     "metadata": {},
     "output_type": "display_data"
    }
   ],
   "source": [
    "results_dict = dict()\n",
    "\n",
    "for i, (alg, dataset, path) in tqdm(enumerate(zip(alg_name, dataset_name, results_path)), total=len(results)):\n",
    "    key = (alg, dataset)\n",
    "    \n",
    "    if key not in results_dict:\n",
    "        results_dict[key] = []\n",
    "    \n",
    "    results_dict[key].append(pd.read_csv(path))"
   ]
  },
  {
   "cell_type": "code",
   "execution_count": 5,
   "id": "be190088",
   "metadata": {},
   "outputs": [
    {
     "name": "stdout",
     "output_type": "stream",
     "text": [
      "('CenterParTree2', '2d-20c-no0_y.zip'): 756\n",
      "('ImpurityParTree2', '2d-20c-no0_y.zip'): 4536\n",
      "('PrincipalParTree', '2d-20c-no0_y.zip'): 3360\n",
      "('CenterParTree2', '2d-3c-no123_y.zip'): 756\n",
      "('ImpurityParTree2', '2d-3c-no123_y.zip'): 4536\n",
      "('PrincipalParTree', '2d-3c-no123_y.zip'): 3360\n",
      "('CenterParTree2', '2d-4c-no9_y.zip'): 756\n",
      "('ImpurityParTree2', '2d-4c-no9_y.zip'): 4536\n",
      "('PrincipalParTree', '2d-4c-no9_y.zip'): 3360\n",
      "('CenterParTree2', '2d-4c_y.zip'): 756\n",
      "('ImpurityParTree2', '2d-4c_y.zip'): 4536\n",
      "('PrincipalParTree', '2d-4c_y.zip'): 3360\n",
      "('CenterParTree2', '2d-d31_y.zip'): 756\n",
      "('ImpurityParTree2', '2d-d31_y.zip'): 4536\n",
      "('PrincipalParTree', '2d-d31_y.zip'): 3360\n",
      "('PrincipalParTree', 'aggregation_y.zip'): 3360\n",
      "('CenterParTree2', 'cure-t0-2000n-2D_y.zip'): 756\n",
      "('ImpurityParTree2', 'cure-t0-2000n-2D_y.zip'): 4536\n",
      "('PrincipalParTree', 'cure-t0-2000n-2D_y.zip'): 3360\n",
      "('CenterParTree2', 'cure-t1-2000n-2D_y.zip'): 756\n",
      "('ImpurityParTree2', 'cure-t1-2000n-2D_y.zip'): 4536\n",
      "('PrincipalParTree', 'cure-t1-2000n-2D_y.zip'): 3360\n",
      "('CenterParTree2', 'cure-t2-4k_y.zip'): 756\n",
      "('ImpurityParTree2', 'cure-t2-4k_y.zip'): 4536\n",
      "('PrincipalParTree', 'cure-t2-4k_y.zip'): 3360\n",
      "('CenterParTree2', 'german_credit_y.zip'): 756\n",
      "('ImpurityParTree2', 'german_credit_y.zip'): 4536\n",
      "('PrincipalParTree', 'german_credit_y.zip'): 9072\n",
      "('CenterParTree2', 'home.zip'): 4504\n",
      "('ImpurityParTree2', 'home.zip'): 26128\n",
      "('PrincipalParTree', 'home.zip'): 54432\n",
      "('PrincipalParTree', 'ionosphere_y.zip'): 9072\n",
      "('PrincipalParTree', 'iris_y.zip'): 9072\n",
      "('CenterParTree2', 'longsquare_y.zip'): 756\n",
      "('ImpurityParTree2', 'longsquare_y.zip'): 4536\n",
      "('PrincipalParTree', 'longsquare_y.zip'): 3360\n",
      "('CenterParTree2', 's-set1_y.zip'): 756\n",
      "('ImpurityParTree2', 's-set1_y.zip'): 4536\n",
      "('PrincipalParTree', 's-set1_y.zip'): 3360\n",
      "('CenterParTree2', 's-set2_y.zip'): 756\n",
      "('ImpurityParTree2', 's-set2_y.zip'): 4536\n",
      "('PrincipalParTree', 's-set2_y.zip'): 3360\n",
      "('CenterParTree2', 'tetra_y.zip'): 1\n",
      "('PrincipalParTree', 'tetra_y.zip'): 5040\n",
      "('CenterParTree2', 'titanic_y.zip'): 756\n",
      "('ImpurityParTree2', 'titanic_y.zip'): 4536\n",
      "('PrincipalParTree', 'titanic_y.zip'): 9072\n",
      "('CenterParTree2', 'triangle1_y.zip'): 756\n",
      "('ImpurityParTree2', 'triangle1_y.zip'): 4536\n",
      "('PrincipalParTree', 'triangle1_y.zip'): 3360\n",
      "('CenterParTree2', 'triangle2_y.zip'): 756\n",
      "('ImpurityParTree2', 'triangle2_y.zip'): 4536\n",
      "('PrincipalParTree', 'triangle2_y.zip'): 3360\n",
      "('PrincipalParTree', 'vehicle_y.zip'): 6048\n",
      "('CenterParTree2', 'wdbc_y.zip'): 392\n",
      "('ImpurityParTree2', 'wdbc_y.zip'): 4536\n",
      "('PrincipalParTree', 'wdbc_y.zip'): 5040\n",
      "('CenterParTree2', 'wine.zip'): 3730\n",
      "('ImpurityParTree2', 'wine.zip'): 10211\n",
      "('PrincipalParTree', 'wine.zip'): 24192\n",
      "('PrincipalParTree', 'zelnik5_y.zip'): 3360\n",
      "('CenterParTree2', 'zelnik6_y.zip'): 756\n",
      "('ImpurityParTree2', 'zelnik6_y.zip'): 4536\n",
      "('PrincipalParTree', 'zelnik6_y.zip'): 3360\n"
     ]
    }
   ],
   "source": [
    "for k, v in sorted(results_dict.items(), key=lambda x: x[0][1]):\n",
    "    print(f\"{k}: {len(v)}\")"
   ]
  },
  {
   "cell_type": "code",
   "execution_count": 6,
   "id": "284eaa78",
   "metadata": {},
   "outputs": [
    {
     "data": {
      "text/plain": [
       "array(['CenterParTree2', 'ImpurityParTree2', 'PrincipalParTree'],\n",
       "      dtype='<U16')"
      ]
     },
     "execution_count": 6,
     "metadata": {},
     "output_type": "execute_result"
    }
   ],
   "source": [
    "np.unique(alg_name)"
   ]
  },
  {
   "cell_type": "code",
   "execution_count": 7,
   "id": "09fcf3d1-337c-4ae5-b266-6d10216a2722",
   "metadata": {},
   "outputs": [
    {
     "data": {
      "application/vnd.jupyter.widget-view+json": {
       "model_id": "4b049d6276494c4fb36128791ab33617",
       "version_major": 2,
       "version_minor": 0
      },
      "text/plain": [
       "  0%|          | 0/64 [00:00<?, ?it/s]"
      ]
     },
     "metadata": {},
     "output_type": "display_data"
    }
   ],
   "source": [
    "results_dict_df = dict()\n",
    "\n",
    "for k, v in tqdm(results_dict.items()):\n",
    "    results_dict_df[k] = pd.concat(v)\n",
    "    results_dict_df[k][\"alg\"] = k[0]\n",
    "    results_dict_df[k][\"dataset\"] = k[1]"
   ]
  },
  {
   "cell_type": "code",
   "execution_count": 8,
   "id": "e18c64a3-2511-41ce-a471-a0004740dc89",
   "metadata": {},
   "outputs": [
    {
     "data": {
      "application/vnd.jupyter.widget-view+json": {
       "model_id": "da97c92959dd405d8a53ca5a63c12c84",
       "version_major": 2,
       "version_minor": 0
      },
      "text/plain": [
       "  0%|          | 0/64 [00:00<?, ?it/s]"
      ]
     },
     "metadata": {},
     "output_type": "display_data"
    }
   ],
   "source": [
    "for k, v in tqdm(results_dict_df.items()):\n",
    "    k_ = list(k)\n",
    "    k_.reverse()\n",
    "    v.to_csv(\"final_joined_result/\"+(\" \".join(k_))+\".csv\", index=False)"
   ]
  },
  {
   "cell_type": "code",
   "execution_count": null,
   "id": "4d402470-9cb6-49b5-9872-1c9c76e86725",
   "metadata": {},
   "outputs": [],
   "source": []
  },
  {
   "cell_type": "code",
   "execution_count": null,
   "id": "72d9384d-db86-46e0-9d5c-d02b936dea85",
   "metadata": {},
   "outputs": [],
   "source": []
  },
  {
   "cell_type": "code",
   "execution_count": null,
   "id": "cd104c14-9ec1-45d1-b9d2-a92422ee47c3",
   "metadata": {},
   "outputs": [],
   "source": []
  },
  {
   "cell_type": "markdown",
   "id": "0e77f818-43d4-4a48-9933-f275f5e60cb0",
   "metadata": {},
   "source": [
    "torename = [y for x in os.walk(\"torename/\") for y in glob(os.path.join(x[0], '*.csv'))]\n",
    "\n",
    "len(torename)"
   ]
  },
  {
   "cell_type": "markdown",
   "id": "546889e4-c2fc-43ed-88ac-901573c61883",
   "metadata": {},
   "source": [
    "for old_name in tqdm(torename):\n",
    "    os.rename(old_name, old_name.replace(\"ImpurityParTree2\", \"PrincipalParTree\"))\n"
   ]
  },
  {
   "cell_type": "markdown",
   "id": "4b9b9e2c-19a4-4189-8a60-ce0408bfcc1c",
   "metadata": {},
   "source": [
    "tomove = [y for x in os.walk(\"torename/\") for y in glob(os.path.join(x[0], '*.csv'))]\n",
    "\n",
    "len(tomove)"
   ]
  },
  {
   "cell_type": "markdown",
   "id": "59246de8-e73b-499f-a6f8-7a9dce781389",
   "metadata": {},
   "source": [
    "tomove[0]"
   ]
  },
  {
   "cell_type": "markdown",
   "id": "5111f0ea-90ca-4bd5-90fd-11a10c255c92",
   "metadata": {},
   "source": [
    "for old_pos in tqdm(tomove):\n",
    "    os.rename(old_pos, old_pos.replace(\"torename\", \"results_from_servers\"))\n"
   ]
  }
 ],
 "metadata": {
  "kernelspec": {
   "display_name": "Python 3 (ipykernel)",
   "language": "python",
   "name": "python3"
  },
  "language_info": {
   "codemirror_mode": {
    "name": "ipython",
    "version": 3
   },
   "file_extension": ".py",
   "mimetype": "text/x-python",
   "name": "python",
   "nbconvert_exporter": "python",
   "pygments_lexer": "ipython3",
   "version": "3.10.7"
  }
 },
 "nbformat": 4,
 "nbformat_minor": 5
}
