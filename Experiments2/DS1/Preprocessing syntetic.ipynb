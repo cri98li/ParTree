{
 "cells": [
  {
   "cell_type": "code",
   "execution_count": 1,
   "id": "00190fc0",
   "metadata": {
    "tags": [],
    "ExecuteTime": {
     "start_time": "2023-04-07T18:21:38.626353Z",
     "end_time": "2023-04-07T18:21:39.207591Z"
    }
   },
   "outputs": [],
   "source": [
    "import pandas as pd\n",
    "import os \n",
    "from glob import glob\n",
    "import numpy as np\n",
    "import shutil\n",
    "import itertools\n",
    "from tqdm.auto import tqdm\n",
    "\n",
    "from ParTree.algorithms.data_preparation import prepare_data"
   ]
  },
  {
   "cell_type": "code",
   "execution_count": 2,
   "id": "4ddcbda6",
   "metadata": {
    "tags": [],
    "ExecuteTime": {
     "start_time": "2023-04-07T18:21:39.211099Z",
     "end_time": "2023-04-07T18:21:39.223627Z"
    }
   },
   "outputs": [
    {
     "data": {
      "text/plain": "['../original datasets/synthetic_preprocessed/zelnik6.csv',\n '../original datasets/synthetic_preprocessed/zelnik5.csv',\n '../original datasets/synthetic_preprocessed/triangle2.csv',\n '../original datasets/synthetic_preprocessed/triangle1.csv',\n '../original datasets/synthetic_preprocessed/tetra.csv',\n '../original datasets/synthetic_preprocessed/s-set2.csv',\n '../original datasets/synthetic_preprocessed/s-set1.csv',\n '../original datasets/synthetic_preprocessed/longsquare.csv',\n '../original datasets/synthetic_preprocessed/dim512.csv',\n '../original datasets/synthetic_preprocessed/dim256.csv',\n '../original datasets/synthetic_preprocessed/dim128.csv',\n '../original datasets/synthetic_preprocessed/dim1024.csv',\n '../original datasets/synthetic_preprocessed/dim064.csv',\n '../original datasets/synthetic_preprocessed/dim032.csv',\n '../original datasets/synthetic_preprocessed/cure-t2-4k.csv',\n '../original datasets/synthetic_preprocessed/cure-t1-2000n-2D.csv',\n '../original datasets/synthetic_preprocessed/cure-t0-2000n-2D.csv',\n '../original datasets/synthetic_preprocessed/aggregation.csv',\n '../original datasets/synthetic_preprocessed/2d-d31.csv',\n '../original datasets/synthetic_preprocessed/2d-4c.csv',\n '../original datasets/synthetic_preprocessed/2d-4c-no9.csv',\n '../original datasets/synthetic_preprocessed/2d-4c-no4.csv',\n '../original datasets/synthetic_preprocessed/2d-3c-no123.csv',\n '../original datasets/synthetic_preprocessed/2d-20c-no0.csv',\n '../original datasets/synthetic_preprocessed/2d-10c.csv']"
     },
     "execution_count": 2,
     "metadata": {},
     "output_type": "execute_result"
    }
   ],
   "source": [
    "datasets = [y.replace(\"\\\\\", \"/\") for x in os.walk(\"../original datasets/synthetic_preprocessed\") for y in glob(os.path.join(x[0], '*.csv'))]\n",
    "\n",
    "y_files = [x for x in datasets if \".y.csv\" in x]\n",
    "datasets = [x for x in datasets if \".y.csv\" not in x]\n",
    "\n",
    "datasets.sort(reverse=True)\n",
    "\n",
    "datasets"
   ]
  },
  {
   "cell_type": "code",
   "execution_count": 3,
   "outputs": [],
   "source": [
    "#for y_file in y_files:\n",
    "#    shutil.copy(y_file, f\"datasets/synthetic/{y_file.split('/')[-1]}\")"
   ],
   "metadata": {
    "collapsed": false,
    "ExecuteTime": {
     "start_time": "2023-04-07T18:21:39.225140Z",
     "end_time": "2023-04-07T18:21:39.266232Z"
    }
   }
  },
  {
   "cell_type": "code",
   "execution_count": 4,
   "outputs": [],
   "source": [
    "max_values = [100, 1000, np.inf]"
   ],
   "metadata": {
    "collapsed": false,
    "ExecuteTime": {
     "start_time": "2023-04-07T18:21:39.241681Z",
     "end_time": "2023-04-07T18:21:39.276769Z"
    }
   }
  },
  {
   "cell_type": "code",
   "execution_count": 7,
   "outputs": [
    {
     "data": {
      "text/plain": "  0%|          | 0/3 [00:00<?, ?it/s]",
      "application/vnd.jupyter.widget-view+json": {
       "version_major": 2,
       "version_minor": 0,
       "model_id": "69627af8a0944aeb880f23036f1bc844"
      }
     },
     "metadata": {},
     "output_type": "display_data"
    },
    {
     "data": {
      "text/plain": "  0%|          | 0/25 [00:00<?, ?it/s]",
      "application/vnd.jupyter.widget-view+json": {
       "version_major": 2,
       "version_minor": 0,
       "model_id": "99e00d40df404dcba981b7152c0bd51a"
      }
     },
     "metadata": {},
     "output_type": "display_data"
    },
    {
     "data": {
      "text/plain": "  0%|          | 0/25 [00:00<?, ?it/s]",
      "application/vnd.jupyter.widget-view+json": {
       "version_major": 2,
       "version_minor": 0,
       "model_id": "e7646ff6d91c443a92144a65c2afbab7"
      }
     },
     "metadata": {},
     "output_type": "display_data"
    },
    {
     "data": {
      "text/plain": "  0%|          | 0/25 [00:00<?, ?it/s]",
      "application/vnd.jupyter.widget-view+json": {
       "version_major": 2,
       "version_minor": 0,
       "model_id": "0d0c4daf39d3499c8350c20ce51d3202"
      }
     },
     "metadata": {},
     "output_type": "display_data"
    }
   ],
   "source": [
    "for max_v in tqdm(max_values, leave=False, position=0):\n",
    "    for datasets_path in tqdm(datasets, leave=False, position=1):\n",
    "        datasets_name = datasets_path.split(\"/\")[-1].replace(\".csv\", f\"({max_v}).csv\")\n",
    "\n",
    "        df = pd.read_csv(datasets_path)\n",
    "        _, _, X = prepare_data(df.values, max_v, np.inf)\n",
    "\n",
    "        df = pd.DataFrame(X, columns=df.columns)\n",
    "\n",
    "        df.to_csv(f\"datasets/synthetic/{datasets_name}\")"
   ],
   "metadata": {
    "collapsed": false,
    "ExecuteTime": {
     "start_time": "2023-04-07T18:33:00.203753Z",
     "end_time": "2023-04-07T18:33:14.805245Z"
    }
   }
  },
  {
   "cell_type": "code",
   "execution_count": 5,
   "outputs": [],
   "source": [],
   "metadata": {
    "collapsed": false,
    "ExecuteTime": {
     "start_time": "2023-04-07T18:21:43.635493Z",
     "end_time": "2023-04-07T18:21:43.649005Z"
    }
   }
  },
  {
   "cell_type": "code",
   "execution_count": 5,
   "outputs": [],
   "source": [],
   "metadata": {
    "collapsed": false,
    "ExecuteTime": {
     "start_time": "2023-04-07T18:21:43.650004Z",
     "end_time": "2023-04-07T18:21:43.665725Z"
    }
   }
  },
  {
   "cell_type": "code",
   "execution_count": 5,
   "outputs": [],
   "source": [],
   "metadata": {
    "collapsed": false,
    "ExecuteTime": {
     "start_time": "2023-04-07T18:21:43.666725Z",
     "end_time": "2023-04-07T18:21:43.681239Z"
    }
   }
  }
 ],
 "metadata": {
  "kernelspec": {
   "display_name": "Python 3 (ipykernel)",
   "language": "python",
   "name": "python3"
  },
  "language_info": {
   "codemirror_mode": {
    "name": "ipython",
    "version": 3
   },
   "file_extension": ".py",
   "mimetype": "text/x-python",
   "name": "python",
   "nbconvert_exporter": "python",
   "pygments_lexer": "ipython3",
   "version": "3.10.10"
  }
 },
 "nbformat": 4,
 "nbformat_minor": 5
}
