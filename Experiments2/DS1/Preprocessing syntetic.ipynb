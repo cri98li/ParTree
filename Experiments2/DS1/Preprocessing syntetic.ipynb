{
 "cells": [
  {
   "cell_type": "code",
   "execution_count": 7,
   "id": "00190fc0",
   "metadata": {
    "tags": [],
    "ExecuteTime": {
     "start_time": "2023-04-06T15:39:35.153784Z",
     "end_time": "2023-04-06T15:39:35.197045Z"
    }
   },
   "outputs": [],
   "source": [
    "import pandas as pd\n",
    "import os \n",
    "from glob import glob\n",
    "import numpy as np\n",
    "import shutil\n",
    "\n",
    "from ParTree.algorithms.data_preparation import prepare_data"
   ]
  },
  {
   "cell_type": "code",
   "execution_count": 12,
   "id": "4ddcbda6",
   "metadata": {
    "tags": [],
    "ExecuteTime": {
     "start_time": "2023-04-06T15:43:37.839514Z",
     "end_time": "2023-04-06T15:43:37.861153Z"
    }
   },
   "outputs": [
    {
     "data": {
      "text/plain": "['../original datasets/synthetic_preprocessed/zelnik6.csv',\n '../original datasets/synthetic_preprocessed/zelnik5.csv',\n '../original datasets/synthetic_preprocessed/triangle2.csv',\n '../original datasets/synthetic_preprocessed/triangle1.csv',\n '../original datasets/synthetic_preprocessed/tetra.csv',\n '../original datasets/synthetic_preprocessed/s-set2.csv',\n '../original datasets/synthetic_preprocessed/s-set1.csv',\n '../original datasets/synthetic_preprocessed/longsquare.csv',\n '../original datasets/synthetic_preprocessed/dim512.csv',\n '../original datasets/synthetic_preprocessed/dim256.csv',\n '../original datasets/synthetic_preprocessed/dim128.csv',\n '../original datasets/synthetic_preprocessed/dim1024.csv',\n '../original datasets/synthetic_preprocessed/dim064.csv',\n '../original datasets/synthetic_preprocessed/dim032.csv',\n '../original datasets/synthetic_preprocessed/cure-t2-4k.csv',\n '../original datasets/synthetic_preprocessed/cure-t1-2000n-2D.csv',\n '../original datasets/synthetic_preprocessed/cure-t0-2000n-2D.csv',\n '../original datasets/synthetic_preprocessed/aggregation.csv',\n '../original datasets/synthetic_preprocessed/2d-d31.csv',\n '../original datasets/synthetic_preprocessed/2d-4c.csv',\n '../original datasets/synthetic_preprocessed/2d-4c-no9.csv',\n '../original datasets/synthetic_preprocessed/2d-4c-no4.csv',\n '../original datasets/synthetic_preprocessed/2d-3c-no123.csv',\n '../original datasets/synthetic_preprocessed/2d-20c-no0.csv',\n '../original datasets/synthetic_preprocessed/2d-10c.csv']"
     },
     "execution_count": 12,
     "metadata": {},
     "output_type": "execute_result"
    }
   ],
   "source": [
    "datasets = [y for x in os.walk(\"../original datasets/synthetic_preprocessed\") for y in glob(os.path.join(x[0], '*.csv'))]\n",
    "\n",
    "y_files = [x for x in datasets if \".y.csv\" in x]\n",
    "datasets = [x for x in datasets if \".y.csv\" not in x]\n",
    "\n",
    "datasets.sort(reverse=True)\n",
    "\n",
    "datasets"
   ]
  },
  {
   "cell_type": "code",
   "execution_count": 16,
   "outputs": [],
   "source": [
    "for y_file in y_files:\n",
    "    shutil.copy(y_file, f\"datasets/synthetic/{y_file.split('/')[-1]}\")"
   ],
   "metadata": {
    "collapsed": false,
    "ExecuteTime": {
     "start_time": "2023-04-06T15:44:58.350664Z",
     "end_time": "2023-04-06T15:44:58.360306Z"
    }
   }
  },
  {
   "cell_type": "code",
   "execution_count": null,
   "outputs": [],
   "source": [
    "max_values = [100, 1000, np.inf]\n",
    "max_cat = [0, 20]"
   ],
   "metadata": {
    "collapsed": false
   }
  },
  {
   "cell_type": "code",
   "execution_count": null,
   "outputs": [],
   "source": [
    "for datasets_path in datasets:\n"
   ],
   "metadata": {
    "collapsed": false
   }
  },
  {
   "cell_type": "code",
   "execution_count": 14,
   "outputs": [
    {
     "data": {
      "text/plain": "'../original datasets/synthetic_preprocessed/zelnik6.y.csv'"
     },
     "execution_count": 14,
     "metadata": {},
     "output_type": "execute_result"
    }
   ],
   "source": [
    "y_files[0]"
   ],
   "metadata": {
    "collapsed": false,
    "ExecuteTime": {
     "start_time": "2023-04-06T15:43:42.298712Z",
     "end_time": "2023-04-06T15:43:42.355451Z"
    }
   }
  },
  {
   "cell_type": "code",
   "execution_count": null,
   "outputs": [],
   "source": [],
   "metadata": {
    "collapsed": false
   }
  },
  {
   "cell_type": "code",
   "execution_count": null,
   "outputs": [],
   "source": [],
   "metadata": {
    "collapsed": false
   }
  },
  {
   "cell_type": "code",
   "execution_count": null,
   "outputs": [],
   "source": [],
   "metadata": {
    "collapsed": false
   }
  },
  {
   "cell_type": "code",
   "execution_count": null,
   "outputs": [],
   "source": [],
   "metadata": {
    "collapsed": false
   }
  }
 ],
 "metadata": {
  "kernelspec": {
   "display_name": "Python 3 (ipykernel)",
   "language": "python",
   "name": "python3"
  },
  "language_info": {
   "codemirror_mode": {
    "name": "ipython",
    "version": 3
   },
   "file_extension": ".py",
   "mimetype": "text/x-python",
   "name": "python",
   "nbconvert_exporter": "python",
   "pygments_lexer": "ipython3",
   "version": "3.10.10"
  }
 },
 "nbformat": 4,
 "nbformat_minor": 5
}
