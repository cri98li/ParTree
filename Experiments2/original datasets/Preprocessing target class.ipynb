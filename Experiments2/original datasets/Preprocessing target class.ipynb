{
 "cells": [
  {
   "cell_type": "code",
   "execution_count": 1,
   "metadata": {
    "collapsed": true,
    "ExecuteTime": {
     "start_time": "2023-04-06T15:26:40.227079Z",
     "end_time": "2023-04-06T15:26:41.335505Z"
    }
   },
   "outputs": [],
   "source": [
    "import pandas as pd\n",
    "import numpy as np\n",
    "from tqdm.auto import tqdm\n",
    "import os\n",
    "from glob import glob"
   ]
  },
  {
   "cell_type": "code",
   "execution_count": 2,
   "outputs": [],
   "source": [
    "datasets = [y for x in os.walk(\"../original datasets/\") for y in glob(os.path.join(x[0], '*.csv'))] \\\n",
    "           + [y for x in os.walk(\"../original datasets/\") for y in glob(os.path.join(x[0], '*.txt'))]\n",
    "\n",
    "datasets.sort(reverse=True)\n"
   ],
   "metadata": {
    "collapsed": false,
    "ExecuteTime": {
     "start_time": "2023-04-06T15:26:41.338046Z",
     "end_time": "2023-04-06T15:26:41.343471Z"
    }
   }
  },
  {
   "cell_type": "code",
   "execution_count": 3,
   "outputs": [],
   "source": [
    "def compas_preproc(df: pd.DataFrame):\n",
    "    df = df.copy(deep=True)\n",
    "\n",
    "    df[\"dob\"] = df[\"dob\"].apply(lambda x: int(x.replace(\"-\", \"\")))\n",
    "    df[\"compas_screening_date\"] = df[\"compas_screening_date\"].apply(lambda x: int(x.replace(\"-\", \"\")))\n",
    "    df[\"c_jail_in\"] = df[\"c_jail_in\"].apply(lambda x: int(x[:10].replace(\"-\", \"\")) if str(x) != \"nan\" else x)\n",
    "    df[\"c_jail_out\"] = df[\"c_jail_out\"].apply(lambda x: int(x[:10].replace(\"-\", \"\")) if str(x) != \"nan\" else x)\n",
    "    df[\"c_offense_date\"] = df[\"c_offense_date\"].apply(lambda x: int(x.replace(\"-\", \"\")) if str(x) != \"nan\" else x)\n",
    "    df[\"c_arrest_date\"] = df[\"c_arrest_date\"].apply(lambda x: int(x.replace(\"-\", \"\")) if str(x) != \"nan\" else x)\n",
    "    df[\"screening_date\"] = df[\"screening_date\"].apply(lambda x: int(x.replace(\"-\", \"\")) if str(x) != \"nan\" else x)\n",
    "    df[\"v_screening_date\"] = df[\"v_screening_date\"].apply(lambda x: int(x.replace(\"-\", \"\")) if str(x) != \"nan\" else x)\n",
    "    df[\"in_custody\"] = df[\"in_custody\"].apply(lambda x: int(x.replace(\"-\", \"\")) if str(x) != \"nan\" else x)\n",
    "    df[\"out_custody\"] = df[\"out_custody\"].apply(lambda x: int(x.replace(\"-\", \"\")) if str(x) != \"nan\" else x)\n",
    "    df[\"r_offense_date\"] = df[\"r_offense_date\"].apply(lambda x: int(x.replace(\"-\", \"\")) if str(x) != \"nan\" else x)\n",
    "    df[\"r_jail_in\"] = df[\"r_jail_in\"].apply(lambda x: int(x.replace(\"-\", \"\")) if str(x) != \"nan\" else x)\n",
    "    df[\"r_jail_out\"] = df[\"r_jail_out\"].apply(lambda x: int(x.replace(\"-\", \"\")) if str(x) != \"nan\" else x)\n",
    "\n",
    "    df = df.drop(columns=[\"name\", \"first\", \"last\", \"c_case_number\", \"r_case_number\", \"vr_case_number\", \"vr_offense_date\",\n",
    "                      \"vr_charge_desc\", \"r_charge_desc\", \"c_charge_desc\"])\n",
    "\n",
    "    return df"
   ],
   "metadata": {
    "collapsed": false,
    "ExecuteTime": {
     "start_time": "2023-04-06T15:26:41.349642Z",
     "end_time": "2023-04-06T15:26:41.478679Z"
    }
   }
  },
  {
   "cell_type": "code",
   "execution_count": 4,
   "outputs": [],
   "source": [
    "has_y_tsv_custom_prep = { #if syntetic -> no header?\n",
    "    '../original datasets/synthetic/zelnik6.csv': (2, False, None),\n",
    "    '../original datasets/synthetic/zelnik5.csv': (2, False, None),\n",
    "    '../original datasets/synthetic/triangle2.csv': (2, False, None),\n",
    "    '../original datasets/synthetic/triangle1.csv': (2, False, None),\n",
    "    '../original datasets/synthetic/tetra.csv': (3, False, None),\n",
    "    '../original datasets/synthetic/s-set2.csv': (2, False, None),\n",
    "    '../original datasets/synthetic/s-set1.csv': (2, False, None),\n",
    "    '../original datasets/synthetic/longsquare.csv': (2, False, None),\n",
    "    '../original datasets/synthetic/dim512.txt': ('../original datasets/synthetic/dim512.pa.txt', True, None),\n",
    "    '../original datasets/synthetic/dim256.txt': ('../original datasets/synthetic/dim256.pa.txt', True, None),\n",
    "    '../original datasets/synthetic/dim128.txt': ('../original datasets/synthetic/dim128.pa.txt', True, None),\n",
    "    '../original datasets/synthetic/dim1024.txt': ('../original datasets/synthetic/dim1024.pa.txt', True, None),\n",
    "    '../original datasets/synthetic/dim064.txt': ('../original datasets/synthetic/dim064.pa.txt', True, None),\n",
    "    '../original datasets/synthetic/dim032.txt': ('../original datasets/synthetic/dim032.pa.txt', True, None),\n",
    "    '../original datasets/synthetic/cure-t2-4k.csv': (2, False, None),\n",
    "    '../original datasets/synthetic/cure-t1-2000n-2D.csv': (2, False, None),\n",
    "    '../original datasets/synthetic/cure-t0-2000n-2D.csv': (2, False, None),\n",
    "    '../original datasets/synthetic/aggregation.csv': (2, False, None),\n",
    "    '../original datasets/synthetic/2d-d31.csv': (2, False, None),\n",
    "    '../original datasets/synthetic/2d-4c.csv': (2, False, None),\n",
    "    '../original datasets/synthetic/2d-4c-no9.csv': (2, False, None),\n",
    "    '../original datasets/synthetic/2d-4c-no4.txt': (2, False, None),\n",
    "    '../original datasets/synthetic/2d-3c-no123.csv': (2, False, None),\n",
    "    '../original datasets/synthetic/2d-20c-no0.csv': (2, False, None),\n",
    "    '../original datasets/synthetic/2d-10c.csv': (2, False, None),\n",
    "\n",
    "    '../original datasets/real/wine.csv': (None, False, None),\n",
    "    '../original datasets/real/wdbc.csv': (\"diagnosis\", False, None),\n",
    "    '../original datasets/real/vehicle.csv': (\"CLASS\", False, None),\n",
    "    '../original datasets/real/titanic.csv': (\"Survived\", False, None),\n",
    "    '../original datasets/real/iris.csv': (\"class\", False, None),\n",
    "    '../original datasets/real/ionosphere.csv': (\"class\", False, None),\n",
    "    '../original datasets/real/home.csv': (\"in_sf\", False, None),\n",
    "    '../original datasets/real/german_credit.csv': (\"default\", False, None),\n",
    "    '../original datasets/real/fico.csv': (\"RiskPerformance\", False, None),\n",
    "    '../original datasets/real/diabetes.csv': (\"Outcome\", False, None),\n",
    "    '../original datasets/real/compas-scores-two-years.csv': (\"two_year_recid\", False, compas_preproc),\n",
    "    '../original datasets/real/churn.csv': (\"churn\", False, None),\n",
    "    '../original datasets/real/bank.csv': (\"give_credit\", False, None),\n",
    "    '../original datasets/real/avila.csv': (\"class\", False, None),\n",
    "    '../original datasets/real/adult.csv': (\" class\", False, None),\n",
    "}"
   ],
   "metadata": {
    "collapsed": false,
    "ExecuteTime": {
     "start_time": "2023-04-06T15:26:41.479197Z",
     "end_time": "2023-04-06T15:26:41.641338Z"
    }
   }
  },
  {
   "cell_type": "code",
   "execution_count": 4,
   "outputs": [],
   "source": [],
   "metadata": {
    "collapsed": false,
    "ExecuteTime": {
     "start_time": "2023-04-06T15:26:41.634680Z",
     "end_time": "2023-04-06T15:26:41.642183Z"
    }
   }
  },
  {
   "cell_type": "code",
   "execution_count": 5,
   "outputs": [
    {
     "name": "stdout",
     "output_type": "stream",
     "text": [
      "Errore2 ../original datasets/syntetic_preprocessed/zelnik6.y.csv\n",
      "Errore2 ../original datasets/syntetic_preprocessed/zelnik6.csv\n",
      "Errore2 ../original datasets/syntetic_preprocessed/zelnik5.y.csv\n",
      "Errore2 ../original datasets/syntetic_preprocessed/zelnik5.csv\n",
      "Errore2 ../original datasets/syntetic_preprocessed/triangle2.y.csv\n",
      "Errore2 ../original datasets/syntetic_preprocessed/triangle2.csv\n",
      "Errore2 ../original datasets/syntetic_preprocessed/triangle1.y.csv\n",
      "Errore2 ../original datasets/syntetic_preprocessed/triangle1.csv\n",
      "Errore2 ../original datasets/syntetic_preprocessed/tetra.y.csv\n",
      "Errore2 ../original datasets/syntetic_preprocessed/tetra.csv\n",
      "Errore2 ../original datasets/syntetic_preprocessed/s-set2.y.csv\n",
      "Errore2 ../original datasets/syntetic_preprocessed/s-set2.csv\n",
      "Errore2 ../original datasets/syntetic_preprocessed/s-set1.y.csv\n",
      "Errore2 ../original datasets/syntetic_preprocessed/s-set1.csv\n",
      "Errore2 ../original datasets/syntetic_preprocessed/longsquare.y.csv\n",
      "Errore2 ../original datasets/syntetic_preprocessed/longsquare.csv\n",
      "Errore2 ../original datasets/syntetic_preprocessed/dim512.txt.y.csv\n",
      "Errore2 ../original datasets/syntetic_preprocessed/dim512.txt.csv\n",
      "Errore2 ../original datasets/syntetic_preprocessed/dim256.txt.y.csv\n",
      "Errore2 ../original datasets/syntetic_preprocessed/dim256.txt.csv\n",
      "Errore2 ../original datasets/syntetic_preprocessed/dim128.txt.y.csv\n",
      "Errore2 ../original datasets/syntetic_preprocessed/dim128.txt.csv\n",
      "Errore2 ../original datasets/syntetic_preprocessed/dim1024.txt.y.csv\n",
      "Errore2 ../original datasets/syntetic_preprocessed/dim1024.txt.csv\n",
      "Errore2 ../original datasets/syntetic_preprocessed/dim064.txt.y.csv\n",
      "Errore2 ../original datasets/syntetic_preprocessed/dim064.txt.csv\n",
      "Errore2 ../original datasets/syntetic_preprocessed/dim032.txt.y.csv\n",
      "Errore2 ../original datasets/syntetic_preprocessed/dim032.txt.csv\n",
      "Errore2 ../original datasets/syntetic_preprocessed/cure-t2-4k.y.csv\n",
      "Errore2 ../original datasets/syntetic_preprocessed/cure-t2-4k.csv\n",
      "Errore2 ../original datasets/syntetic_preprocessed/cure-t1-2000n-2D.y.csv\n",
      "Errore2 ../original datasets/syntetic_preprocessed/cure-t1-2000n-2D.csv\n",
      "Errore2 ../original datasets/syntetic_preprocessed/cure-t0-2000n-2D.y.csv\n",
      "Errore2 ../original datasets/syntetic_preprocessed/cure-t0-2000n-2D.csv\n",
      "Errore2 ../original datasets/syntetic_preprocessed/aggregation.y.csv\n",
      "Errore2 ../original datasets/syntetic_preprocessed/aggregation.csv\n",
      "Errore2 ../original datasets/syntetic_preprocessed/2d-d31.y.csv\n",
      "Errore2 ../original datasets/syntetic_preprocessed/2d-d31.csv\n",
      "Errore2 ../original datasets/syntetic_preprocessed/2d-4c.y.csv\n",
      "Errore2 ../original datasets/syntetic_preprocessed/2d-4c.csv\n",
      "Errore2 ../original datasets/syntetic_preprocessed/2d-4c-no9.y.csv\n",
      "Errore2 ../original datasets/syntetic_preprocessed/2d-4c-no9.csv\n",
      "Errore2 ../original datasets/syntetic_preprocessed/2d-4c-no4.txt.y.csv\n",
      "Errore2 ../original datasets/syntetic_preprocessed/2d-4c-no4.txt.csv\n",
      "Errore2 ../original datasets/syntetic_preprocessed/2d-3c-no123.y.csv\n",
      "Errore2 ../original datasets/syntetic_preprocessed/2d-3c-no123.csv\n",
      "Errore2 ../original datasets/syntetic_preprocessed/2d-20c-no0.y.csv\n",
      "Errore2 ../original datasets/syntetic_preprocessed/2d-20c-no0.csv\n",
      "Errore2 ../original datasets/syntetic_preprocessed/2d-10c.y.csv\n",
      "Errore2 ../original datasets/syntetic_preprocessed/2d-10c.csv\n",
      "Errore2 ../original datasets/real_preprocessed/wine.csv\n",
      "Errore2 ../original datasets/real_preprocessed/wdbc.y.csv\n",
      "Errore2 ../original datasets/real_preprocessed/wdbc.csv\n",
      "Errore2 ../original datasets/real_preprocessed/vehicle.y.csv\n",
      "Errore2 ../original datasets/real_preprocessed/vehicle.csv\n",
      "Errore2 ../original datasets/real_preprocessed/titanic.y.csv\n",
      "Errore2 ../original datasets/real_preprocessed/titanic.csv\n",
      "Errore2 ../original datasets/real_preprocessed/iris.y.csv\n",
      "Errore2 ../original datasets/real_preprocessed/iris.csv\n",
      "Errore2 ../original datasets/real_preprocessed/ionosphere.y.csv\n",
      "Errore2 ../original datasets/real_preprocessed/ionosphere.csv\n",
      "Errore2 ../original datasets/real_preprocessed/home.y.csv\n",
      "Errore2 ../original datasets/real_preprocessed/home.csv\n",
      "Errore2 ../original datasets/real_preprocessed/german_credit.y.csv\n",
      "Errore2 ../original datasets/real_preprocessed/german_credit.csv\n",
      "Errore2 ../original datasets/real_preprocessed/fico.y.csv\n",
      "Errore2 ../original datasets/real_preprocessed/fico.csv\n",
      "Errore2 ../original datasets/real_preprocessed/diabetes.y.csv\n",
      "Errore2 ../original datasets/real_preprocessed/diabetes.csv\n",
      "Errore2 ../original datasets/real_preprocessed/compas-scores-two-years.y.csv\n",
      "Errore2 ../original datasets/real_preprocessed/compas-scores-two-years.csv\n",
      "Errore2 ../original datasets/real_preprocessed/churn.y.csv\n",
      "Errore2 ../original datasets/real_preprocessed/churn.csv\n",
      "Errore2 ../original datasets/real_preprocessed/bank.y.csv\n",
      "Errore2 ../original datasets/real_preprocessed/bank.csv\n",
      "Errore2 ../original datasets/real_preprocessed/avila.y.csv\n",
      "Errore2 ../original datasets/real_preprocessed/avila.csv\n",
      "Errore2 ../original datasets/real_preprocessed/adult.y.csv\n",
      "Errore2 ../original datasets/real_preprocessed/adult.csv\n"
     ]
    }
   ],
   "source": [
    "for k, v in has_y_tsv_custom_prep.items():\n",
    "    if k not in datasets:\n",
    "        print(f\"Errore {k}\")\n",
    "\n",
    "for el in datasets:\n",
    "    if el not in has_y_tsv_custom_prep and \".pa\" not in el:\n",
    "        print(f\"Errore2 {el}\")"
   ],
   "metadata": {
    "collapsed": false,
    "ExecuteTime": {
     "start_time": "2023-04-06T15:26:41.641982Z",
     "end_time": "2023-04-06T15:26:41.839284Z"
    }
   }
  },
  {
   "cell_type": "code",
   "execution_count": 8,
   "outputs": [],
   "source": [
    "from sklearn.preprocessing import LabelEncoder"
   ],
   "metadata": {
    "collapsed": false,
    "ExecuteTime": {
     "start_time": "2023-04-06T15:42:13.466479Z",
     "end_time": "2023-04-06T15:42:13.510786Z"
    }
   }
  },
  {
   "cell_type": "code",
   "execution_count": 9,
   "outputs": [
    {
     "data": {
      "text/plain": "  0%|          | 0/40 [00:00<?, ?it/s]",
      "application/vnd.jupyter.widget-view+json": {
       "version_major": 2,
       "version_minor": 0,
       "model_id": "f32dda03ddfb4ff3aa396948d349cab0"
      }
     },
     "metadata": {},
     "output_type": "display_data"
    }
   ],
   "source": [
    "for dataset_path, (y_col, is_tsv, prepr_f) in tqdm(has_y_tsv_custom_prep.items()):\n",
    "    dataset_name = dataset_path.split(\"/\")[-1].replace(\".csv\", \"\").replace(\".txt\", \"\")\n",
    "    is_real = \"real\" in dataset_path\n",
    "\n",
    "    header = \"infer\" if is_real else None\n",
    "\n",
    "    if is_tsv:\n",
    "        df = pd.read_csv(dataset_path, header=header, sep=\"\\s+\")\n",
    "    else:\n",
    "        df = pd.read_csv(dataset_path, header=header)\n",
    "\n",
    "    if type(y_col) == str and y_col.endswith(\".pa.txt\"):\n",
    "        df_pa = pd.read_csv(y_col, header=header)\n",
    "        df[\"target_class_pa\"] = df_pa[df_pa.columns[-1]]\n",
    "        y_col = \"target_class_pa\"\n",
    "\n",
    "    if prepr_f is not None:\n",
    "        df = prepr_f(df)\n",
    "\n",
    "    if y_col is not None:\n",
    "        target_class_df = pd.DataFrame(LabelEncoder().fit_transform(df[y_col]))\n",
    "        df.drop(columns=y_col, inplace=True)\n",
    "        target_class_df.to_csv(f\"{'real' if is_real else 'synthetic'}_preprocessed/{dataset_name}.y.csv\")\n",
    "\n",
    "    df.to_csv(f\"{'real' if is_real else 'synthetic'}_preprocessed/{dataset_name}.csv\")"
   ],
   "metadata": {
    "collapsed": false,
    "ExecuteTime": {
     "start_time": "2023-04-06T15:42:14.171237Z",
     "end_time": "2023-04-06T15:42:17.056016Z"
    }
   }
  },
  {
   "cell_type": "code",
   "execution_count": 7,
   "outputs": [],
   "source": [],
   "metadata": {
    "collapsed": false,
    "ExecuteTime": {
     "start_time": "2023-04-06T15:26:45.794643Z",
     "end_time": "2023-04-06T15:26:45.837230Z"
    }
   }
  },
  {
   "cell_type": "code",
   "execution_count": 7,
   "outputs": [],
   "source": [],
   "metadata": {
    "collapsed": false,
    "ExecuteTime": {
     "start_time": "2023-04-06T15:26:45.837209Z",
     "end_time": "2023-04-06T15:26:45.837550Z"
    }
   }
  },
  {
   "cell_type": "code",
   "execution_count": 7,
   "outputs": [],
   "source": [],
   "metadata": {
    "collapsed": false,
    "ExecuteTime": {
     "start_time": "2023-04-06T15:26:45.837370Z",
     "end_time": "2023-04-06T15:26:45.837771Z"
    }
   }
  }
 ],
 "metadata": {
  "kernelspec": {
   "display_name": "Python 3",
   "language": "python",
   "name": "python3"
  },
  "language_info": {
   "codemirror_mode": {
    "name": "ipython",
    "version": 2
   },
   "file_extension": ".py",
   "mimetype": "text/x-python",
   "name": "python",
   "nbconvert_exporter": "python",
   "pygments_lexer": "ipython2",
   "version": "2.7.6"
  }
 },
 "nbformat": 4,
 "nbformat_minor": 0
}
